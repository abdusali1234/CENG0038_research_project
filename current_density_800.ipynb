{
 "cells": [
  {
   "cell_type": "code",
   "execution_count": 1,
   "metadata": {},
   "outputs": [],
   "source": [
    "import numpy as np\n",
    "import matplotlib.pyplot as plt\n",
    "import matplotlib\n",
    "\n",
    "matplotlib.rcParams['mathtext.fontset'] = 'cm'\n",
    "matplotlib.rcParams['font.family'] = 'STIXGeneral'"
   ]
  },
  {
   "cell_type": "code",
   "execution_count": 2,
   "metadata": {},
   "outputs": [],
   "source": [
    "# load data obtained from each operating conditions at current density of 700 mA/cm^2\n",
    "as_800 = np.load(\"Data/wrangled_data/as_800.npy\")\n",
    "cs_800 = np.load(\"Data/wrangled_data/cs_800.npy\")\n",
    "normal_800 = np.load(\"Data/wrangled_data/normal_800.npy\")"
   ]
  },
  {
   "cell_type": "code",
   "execution_count": 3,
   "metadata": {},
   "outputs": [],
   "source": [
    "# Create labels for each SoH\n",
    "label_AS = np.zeros(as_800.shape[0])\n",
    "label_normal = np.ones(normal_800.shape[0])\n",
    "label_CS = np.ones(cs_800.shape[0]) * 2"
   ]
  },
  {
   "cell_type": "code",
   "execution_count": 4,
   "metadata": {},
   "outputs": [],
   "source": [
    "X = np.vstack((as_800, normal_800, cs_800))\n",
    "Y = np.hstack((label_AS, label_normal, label_CS))"
   ]
  },
  {
   "cell_type": "code",
   "execution_count": 5,
   "metadata": {},
   "outputs": [],
   "source": [
    "train_split = 0.80"
   ]
  },
  {
   "cell_type": "code",
   "execution_count": 6,
   "metadata": {},
   "outputs": [],
   "source": [
    "# chronological split\n",
    "\n",
    "X_time_train = np.vstack((np.vstack((as_800[0:round(as_800.shape[0] * train_split), :],\n",
    "                                   normal_800[0:round(normal_800.shape[0] * train_split), :])),\n",
    "                        cs_800[0:round(cs_800.shape[0] * train_split), :]))\n",
    "y_time_train = np.hstack((np.hstack((label_AS[0:round(label_AS.shape[0] * train_split)],\n",
    "                                    label_normal[0:round(label_normal.shape[0] * train_split)])),\n",
    "                         label_CS[0:round(label_CS.shape[0] * train_split)]))\n",
    "X_time_test = np.vstack((np.vstack((as_800[round(as_800.shape[0] * train_split):, :],\n",
    "                                  normal_800[round(normal_800.shape[0] * train_split):, :])),\n",
    "                       cs_800[round(cs_800.shape[0] * train_split):, :]))\n",
    "y_time_test = np.hstack((np.hstack((label_AS[round(as_800.shape[0] * train_split):],\n",
    "                                   label_normal[round(normal_800.shape[0] * train_split):])),\n",
    "                        label_CS[round(cs_800.shape[0] * train_split):]))"
   ]
  },
  {
   "cell_type": "code",
   "execution_count": 7,
   "metadata": {},
   "outputs": [],
   "source": [
    "from sklearn.metrics import roc_auc_score, roc_curve, auc, classification_report, confusion_matrix, accuracy_score\n",
    "from sklearn.ensemble import RandomForestClassifier\n",
    "from sklearn.preprocessing import label_binarize\n",
    "from sklearn.multiclass import OneVsRestClassifier\n",
    "import seaborn as sns\n",
    "from sklearn.model_selection import train_test_split\n",
    "from sklearn.svm import SVC\n",
    "from sklearn.pipeline import make_pipeline\n",
    "from sklearn.preprocessing import StandardScaler\n",
    "from sklearn.neighbors import KNeighborsClassifier\n",
    "from sklearn.model_selection import GridSearchCV, TimeSeriesSplit\n"
   ]
  },
  {
   "cell_type": "code",
   "execution_count": 8,
   "metadata": {},
   "outputs": [],
   "source": [
    "def confusion_matrix_plot(conf_mat: np.ndarray, model_name: str, split_type: int) -> plt.Figure:\n",
    "    ax = plt.axes()\n",
    "    sns.heatmap(np.array(conf_mat), annot=True, cmap=\"BuGn\", fmt=\"g\")\n",
    "\n",
    "\n",
    "    ax.set_xlabel(\"Predicted label\")\n",
    "    ax.set_ylabel(\"True label\")\n",
    "    plt.show()   \n"
   ]
  },
  {
   "cell_type": "code",
   "execution_count": 9,
   "metadata": {},
   "outputs": [
    {
     "name": "stdout",
     "output_type": "stream",
     "text": [
      "Fitting 5 folds for each of 25 candidates, totalling 125 fits\n",
      "[CV 1/5] END .......max_depth=5, n_estimators=5;, score=0.814 total time=   0.0s\n",
      "[CV 2/5] END .......max_depth=5, n_estimators=5;, score=0.907 total time=   0.0s\n",
      "[CV 3/5] END .......max_depth=5, n_estimators=5;, score=0.988 total time=   0.0s\n",
      "[CV 4/5] END .......max_depth=5, n_estimators=5;, score=0.140 total time=   0.0s\n",
      "[CV 5/5] END .......max_depth=5, n_estimators=5;, score=0.512 total time=   0.0s\n",
      "[CV 1/5] END ......max_depth=5, n_estimators=25;, score=0.814 total time=   0.0s\n",
      "[CV 2/5] END ......max_depth=5, n_estimators=25;, score=0.919 total time=   0.0s\n",
      "[CV 3/5] END ......max_depth=5, n_estimators=25;, score=0.988 total time=   0.1s\n",
      "[CV 4/5] END ......max_depth=5, n_estimators=25;, score=0.140 total time=   0.1s\n",
      "[CV 5/5] END ......max_depth=5, n_estimators=25;, score=0.523 total time=   0.2s\n",
      "[CV 1/5] END ......max_depth=5, n_estimators=50;, score=0.814 total time=   0.0s\n",
      "[CV 2/5] END ......max_depth=5, n_estimators=50;, score=0.930 total time=   0.1s\n",
      "[CV 3/5] END ......max_depth=5, n_estimators=50;, score=0.988 total time=   0.2s\n",
      "[CV 4/5] END ......max_depth=5, n_estimators=50;, score=0.128 total time=   0.2s\n",
      "[CV 5/5] END ......max_depth=5, n_estimators=50;, score=0.535 total time=   0.5s\n",
      "[CV 1/5] END ......max_depth=5, n_estimators=75;, score=0.814 total time=   0.1s\n",
      "[CV 2/5] END ......max_depth=5, n_estimators=75;, score=0.919 total time=   0.2s\n",
      "[CV 3/5] END ......max_depth=5, n_estimators=75;, score=0.988 total time=   0.3s\n",
      "[CV 4/5] END ......max_depth=5, n_estimators=75;, score=0.140 total time=   0.4s\n",
      "[CV 5/5] END ......max_depth=5, n_estimators=75;, score=0.558 total time=   0.7s\n",
      "[CV 1/5] END .....max_depth=5, n_estimators=100;, score=0.814 total time=   0.1s\n",
      "[CV 2/5] END .....max_depth=5, n_estimators=100;, score=0.919 total time=   0.5s\n",
      "[CV 3/5] END .....max_depth=5, n_estimators=100;, score=0.988 total time=   0.4s\n",
      "[CV 4/5] END .....max_depth=5, n_estimators=100;, score=0.140 total time=   0.5s\n",
      "[CV 5/5] END .....max_depth=5, n_estimators=100;, score=0.558 total time=   1.0s\n",
      "[CV 1/5] END ......max_depth=25, n_estimators=5;, score=0.814 total time=   0.0s\n",
      "[CV 2/5] END ......max_depth=25, n_estimators=5;, score=0.907 total time=   0.0s\n",
      "[CV 3/5] END ......max_depth=25, n_estimators=5;, score=0.988 total time=   0.0s\n",
      "[CV 4/5] END ......max_depth=25, n_estimators=5;, score=0.140 total time=   0.0s\n",
      "[CV 5/5] END ......max_depth=25, n_estimators=5;, score=0.500 total time=   0.0s\n",
      "[CV 1/5] END .....max_depth=25, n_estimators=25;, score=0.814 total time=   0.0s\n",
      "[CV 2/5] END .....max_depth=25, n_estimators=25;, score=0.919 total time=   0.0s\n",
      "[CV 3/5] END .....max_depth=25, n_estimators=25;, score=0.988 total time=   0.1s\n",
      "[CV 4/5] END .....max_depth=25, n_estimators=25;, score=0.140 total time=   0.1s\n",
      "[CV 5/5] END .....max_depth=25, n_estimators=25;, score=0.570 total time=   0.3s\n",
      "[CV 1/5] END .....max_depth=25, n_estimators=50;, score=0.814 total time=   0.0s\n",
      "[CV 2/5] END .....max_depth=25, n_estimators=50;, score=0.930 total time=   0.1s\n",
      "[CV 3/5] END .....max_depth=25, n_estimators=50;, score=0.988 total time=   0.2s\n",
      "[CV 4/5] END .....max_depth=25, n_estimators=50;, score=0.128 total time=   0.2s\n",
      "[CV 5/5] END .....max_depth=25, n_estimators=50;, score=0.570 total time=   0.6s\n",
      "[CV 1/5] END .....max_depth=25, n_estimators=75;, score=0.814 total time=   0.1s\n",
      "[CV 2/5] END .....max_depth=25, n_estimators=75;, score=0.919 total time=   0.2s\n",
      "[CV 3/5] END .....max_depth=25, n_estimators=75;, score=0.988 total time=   0.3s\n",
      "[CV 4/5] END .....max_depth=25, n_estimators=75;, score=0.140 total time=   0.3s\n",
      "[CV 5/5] END .....max_depth=25, n_estimators=75;, score=0.593 total time=   1.0s\n",
      "[CV 1/5] END ....max_depth=25, n_estimators=100;, score=0.814 total time=   0.1s\n",
      "[CV 2/5] END ....max_depth=25, n_estimators=100;, score=0.919 total time=   0.3s\n",
      "[CV 3/5] END ....max_depth=25, n_estimators=100;, score=0.988 total time=   0.4s\n",
      "[CV 4/5] END ....max_depth=25, n_estimators=100;, score=0.140 total time=   0.5s\n",
      "[CV 5/5] END ....max_depth=25, n_estimators=100;, score=0.593 total time=   1.3s\n",
      "[CV 1/5] END ......max_depth=50, n_estimators=5;, score=0.814 total time=   0.0s\n",
      "[CV 2/5] END ......max_depth=50, n_estimators=5;, score=0.907 total time=   0.0s\n",
      "[CV 3/5] END ......max_depth=50, n_estimators=5;, score=0.988 total time=   0.0s\n",
      "[CV 4/5] END ......max_depth=50, n_estimators=5;, score=0.140 total time=   0.0s\n",
      "[CV 5/5] END ......max_depth=50, n_estimators=5;, score=0.500 total time=   0.0s\n",
      "[CV 1/5] END .....max_depth=50, n_estimators=25;, score=0.814 total time=   0.0s\n",
      "[CV 2/5] END .....max_depth=50, n_estimators=25;, score=0.919 total time=   0.0s\n",
      "[CV 3/5] END .....max_depth=50, n_estimators=25;, score=0.988 total time=   0.1s\n",
      "[CV 4/5] END .....max_depth=50, n_estimators=25;, score=0.140 total time=   0.1s\n",
      "[CV 5/5] END .....max_depth=50, n_estimators=25;, score=0.570 total time=   0.3s\n",
      "[CV 1/5] END .....max_depth=50, n_estimators=50;, score=0.814 total time=   0.0s\n",
      "[CV 2/5] END .....max_depth=50, n_estimators=50;, score=0.930 total time=   0.2s\n",
      "[CV 3/5] END .....max_depth=50, n_estimators=50;, score=0.988 total time=   0.2s\n",
      "[CV 4/5] END .....max_depth=50, n_estimators=50;, score=0.128 total time=   0.2s\n",
      "[CV 5/5] END .....max_depth=50, n_estimators=50;, score=0.570 total time=   0.6s\n",
      "[CV 1/5] END .....max_depth=50, n_estimators=75;, score=0.814 total time=   0.1s\n",
      "[CV 2/5] END .....max_depth=50, n_estimators=75;, score=0.919 total time=   0.2s\n",
      "[CV 3/5] END .....max_depth=50, n_estimators=75;, score=0.988 total time=   0.4s\n",
      "[CV 4/5] END .....max_depth=50, n_estimators=75;, score=0.140 total time=   0.4s\n",
      "[CV 5/5] END .....max_depth=50, n_estimators=75;, score=0.593 total time=   1.0s\n",
      "[CV 1/5] END ....max_depth=50, n_estimators=100;, score=0.814 total time=   0.1s\n",
      "[CV 2/5] END ....max_depth=50, n_estimators=100;, score=0.919 total time=   0.3s\n",
      "[CV 3/5] END ....max_depth=50, n_estimators=100;, score=0.988 total time=   0.4s\n",
      "[CV 4/5] END ....max_depth=50, n_estimators=100;, score=0.140 total time=   0.5s\n",
      "[CV 5/5] END ....max_depth=50, n_estimators=100;, score=0.593 total time=   1.3s\n",
      "[CV 1/5] END ......max_depth=75, n_estimators=5;, score=0.814 total time=   0.0s\n",
      "[CV 2/5] END ......max_depth=75, n_estimators=5;, score=0.907 total time=   0.0s\n",
      "[CV 3/5] END ......max_depth=75, n_estimators=5;, score=0.988 total time=   0.0s\n",
      "[CV 4/5] END ......max_depth=75, n_estimators=5;, score=0.140 total time=   0.0s\n",
      "[CV 5/5] END ......max_depth=75, n_estimators=5;, score=0.500 total time=   0.0s\n",
      "[CV 1/5] END .....max_depth=75, n_estimators=25;, score=0.814 total time=   0.0s\n",
      "[CV 2/5] END .....max_depth=75, n_estimators=25;, score=0.919 total time=   0.0s\n",
      "[CV 3/5] END .....max_depth=75, n_estimators=25;, score=0.988 total time=   0.1s\n",
      "[CV 4/5] END .....max_depth=75, n_estimators=25;, score=0.140 total time=   0.1s\n",
      "[CV 5/5] END .....max_depth=75, n_estimators=25;, score=0.570 total time=   0.3s\n",
      "[CV 1/5] END .....max_depth=75, n_estimators=50;, score=0.814 total time=   0.0s\n",
      "[CV 2/5] END .....max_depth=75, n_estimators=50;, score=0.930 total time=   0.1s\n",
      "[CV 3/5] END .....max_depth=75, n_estimators=50;, score=0.988 total time=   0.2s\n",
      "[CV 4/5] END .....max_depth=75, n_estimators=50;, score=0.128 total time=   0.2s\n",
      "[CV 5/5] END .....max_depth=75, n_estimators=50;, score=0.570 total time=   0.6s\n",
      "[CV 1/5] END .....max_depth=75, n_estimators=75;, score=0.814 total time=   0.1s\n",
      "[CV 2/5] END .....max_depth=75, n_estimators=75;, score=0.919 total time=   0.2s\n",
      "[CV 3/5] END .....max_depth=75, n_estimators=75;, score=0.988 total time=   0.3s\n",
      "[CV 4/5] END .....max_depth=75, n_estimators=75;, score=0.140 total time=   0.3s\n",
      "[CV 5/5] END .....max_depth=75, n_estimators=75;, score=0.593 total time=   1.0s\n",
      "[CV 1/5] END ....max_depth=75, n_estimators=100;, score=0.814 total time=   0.1s\n",
      "[CV 2/5] END ....max_depth=75, n_estimators=100;, score=0.919 total time=   0.5s\n",
      "[CV 3/5] END ....max_depth=75, n_estimators=100;, score=0.988 total time=   0.4s\n",
      "[CV 4/5] END ....max_depth=75, n_estimators=100;, score=0.140 total time=   0.5s\n",
      "[CV 5/5] END ....max_depth=75, n_estimators=100;, score=0.593 total time=   1.3s\n",
      "[CV 1/5] END .....max_depth=100, n_estimators=5;, score=0.814 total time=   0.0s\n",
      "[CV 2/5] END .....max_depth=100, n_estimators=5;, score=0.907 total time=   0.0s\n",
      "[CV 3/5] END .....max_depth=100, n_estimators=5;, score=0.988 total time=   0.0s\n",
      "[CV 4/5] END .....max_depth=100, n_estimators=5;, score=0.140 total time=   0.0s\n",
      "[CV 5/5] END .....max_depth=100, n_estimators=5;, score=0.500 total time=   0.0s\n",
      "[CV 1/5] END ....max_depth=100, n_estimators=25;, score=0.814 total time=   0.0s\n",
      "[CV 2/5] END ....max_depth=100, n_estimators=25;, score=0.919 total time=   0.0s\n",
      "[CV 3/5] END ....max_depth=100, n_estimators=25;, score=0.988 total time=   0.1s\n",
      "[CV 4/5] END ....max_depth=100, n_estimators=25;, score=0.140 total time=   0.1s\n",
      "[CV 5/5] END ....max_depth=100, n_estimators=25;, score=0.570 total time=   0.3s\n",
      "[CV 1/5] END ....max_depth=100, n_estimators=50;, score=0.814 total time=   0.0s\n",
      "[CV 2/5] END ....max_depth=100, n_estimators=50;, score=0.930 total time=   0.1s\n",
      "[CV 3/5] END ....max_depth=100, n_estimators=50;, score=0.988 total time=   0.2s\n",
      "[CV 4/5] END ....max_depth=100, n_estimators=50;, score=0.128 total time=   0.2s\n",
      "[CV 5/5] END ....max_depth=100, n_estimators=50;, score=0.570 total time=   0.7s\n",
      "[CV 1/5] END ....max_depth=100, n_estimators=75;, score=0.814 total time=   0.1s\n",
      "[CV 2/5] END ....max_depth=100, n_estimators=75;, score=0.919 total time=   0.3s\n",
      "[CV 3/5] END ....max_depth=100, n_estimators=75;, score=0.988 total time=   0.4s\n",
      "[CV 4/5] END ....max_depth=100, n_estimators=75;, score=0.140 total time=   0.5s\n",
      "[CV 5/5] END ....max_depth=100, n_estimators=75;, score=0.593 total time=   1.6s\n",
      "[CV 1/5] END ...max_depth=100, n_estimators=100;, score=0.814 total time=   0.1s\n",
      "[CV 2/5] END ...max_depth=100, n_estimators=100;, score=0.919 total time=   0.4s\n",
      "[CV 3/5] END ...max_depth=100, n_estimators=100;, score=0.988 total time=   0.4s\n",
      "[CV 4/5] END ...max_depth=100, n_estimators=100;, score=0.140 total time=   0.6s\n",
      "[CV 5/5] END ...max_depth=100, n_estimators=100;, score=0.593 total time=   1.3s\n"
     ]
    },
    {
     "data": {
      "text/plain": [
       "GridSearchCV(cv=TimeSeriesSplit(gap=0, max_train_size=None, n_splits=5, test_size=None),\n",
       "             estimator=RandomForestClassifier(random_state=1234),\n",
       "             param_grid={'max_depth': [5, 25, 50, 75, 100],\n",
       "                         'n_estimators': [5, 25, 50, 75, 100]},\n",
       "             verbose=3)"
      ]
     },
     "execution_count": 9,
     "metadata": {},
     "output_type": "execute_result"
    }
   ],
   "source": [
    "rfc_param_grid = {'max_depth': [ 5, 25, 50, 75, 100], \n",
    "                  'n_estimators': [5, 25, 50, 75, 100]}\n",
    "rfc = RandomForestClassifier(random_state=1234)\n",
    "tscv = TimeSeriesSplit(n_splits=5)\n",
    "rfc_grid_search = GridSearchCV(estimator=rfc, param_grid=rfc_param_grid, cv=tscv, verbose=3)\n",
    "rfc_grid_search.fit(X_time_train, y_time_train)"
   ]
  },
  {
   "cell_type": "code",
   "execution_count": 10,
   "metadata": {},
   "outputs": [
    {
     "data": {
      "text/plain": [
       "{'max_depth': 25, 'n_estimators': 75}"
      ]
     },
     "execution_count": 10,
     "metadata": {},
     "output_type": "execute_result"
    }
   ],
   "source": [
    "rfc_grid_search.best_params_"
   ]
  },
  {
   "cell_type": "code",
   "execution_count": 11,
   "metadata": {},
   "outputs": [
    {
     "data": {
      "text/plain": [
       "RandomForestClassifier(max_depth=25, n_estimators=75, random_state=1234)"
      ]
     },
     "execution_count": 11,
     "metadata": {},
     "output_type": "execute_result"
    }
   ],
   "source": [
    "rfc_grid_search.best_estimator_"
   ]
  },
  {
   "cell_type": "code",
   "execution_count": 12,
   "metadata": {},
   "outputs": [
    {
     "name": "stdout",
     "output_type": "stream",
     "text": [
      "[[35  1  4]\n",
      " [ 0 50  0]\n",
      " [12  0 28]]\n",
      "Classification report: \n",
      "              precision    recall  f1-score   support\n",
      "\n",
      "         0.0       0.74      0.88      0.80        40\n",
      "         1.0       0.98      1.00      0.99        50\n",
      "         2.0       0.88      0.70      0.78        40\n",
      "\n",
      "    accuracy                           0.87       130\n",
      "   macro avg       0.87      0.86      0.86       130\n",
      "weighted avg       0.88      0.87      0.87       130\n",
      "\n",
      "Accuracy:  0.8692307692307693\n"
     ]
    },
    {
     "data": {
      "image/png": "[encoded data removed]",
      "text/plain": [
       "<Figure size 640x480 with 2 Axes>"
      ]
     },
     "metadata": {},
     "output_type": "display_data"
    }
   ],
   "source": [
    "rfc_time = make_pipeline(rfc_grid_search.best_estimator_)\n",
    "rfc_time.fit(X_time_train, y_time_train)\n",
    "y_time_pred = rfc_time.predict(X_time_test)\n",
    "y_time_pred_prob = rfc_time.predict_proba(X_time_test)\n",
    "rfc_time_result = confusion_matrix(y_time_test, y_time_pred)\n",
    "print(rfc_time_result)\n",
    "rfc_time_result1 = classification_report(y_time_test, y_time_pred)\n",
    "print(\"Classification report: \")\n",
    "print(rfc_time_result1)\n",
    "rfc_time_acc = accuracy_score(y_time_test,y_time_pred)\n",
    "print(\"Accuracy: \", rfc_time_acc)\n",
    "\n",
    "confusion_matrix_plot(rfc_time_result, \"Random Forest\", 0)\n",
    "\n"
   ]
  },
  {
   "cell_type": "code",
   "execution_count": 13,
   "metadata": {},
   "outputs": [
    {
     "name": "stdout",
     "output_type": "stream",
     "text": [
      "Fitting 5 folds for each of 8 candidates, totalling 40 fits\n",
      "[CV] END .................................n_neighbors=1, p=1; total time=   0.0s\n",
      "[CV] END .................................n_neighbors=1, p=1; total time=   0.1s\n",
      "[CV] END .................................n_neighbors=1, p=1; total time=   0.1s\n",
      "[CV] END .................................n_neighbors=1, p=1; total time=   0.4s\n",
      "[CV] END .................................n_neighbors=1, p=1; total time=   0.4s\n",
      "[CV] END .................................n_neighbors=1, p=2; total time=   0.0s\n",
      "[CV] END .................................n_neighbors=1, p=2; total time=   0.0s\n",
      "[CV] END .................................n_neighbors=1, p=2; total time=   0.0s\n",
      "[CV] END .................................n_neighbors=1, p=2; total time=   0.1s\n",
      "[CV] END .................................n_neighbors=1, p=2; total time=   0.0s\n",
      "[CV] END .................................n_neighbors=2, p=1; total time=   0.0s\n",
      "[CV] END .................................n_neighbors=2, p=1; total time=   0.1s\n",
      "[CV] END .................................n_neighbors=2, p=1; total time=   0.1s\n",
      "[CV] END .................................n_neighbors=2, p=1; total time=   0.2s\n",
      "[CV] END .................................n_neighbors=2, p=1; total time=   0.3s\n",
      "[CV] END .................................n_neighbors=2, p=2; total time=   0.0s\n",
      "[CV] END .................................n_neighbors=2, p=2; total time=   0.0s\n",
      "[CV] END .................................n_neighbors=2, p=2; total time=   0.0s\n",
      "[CV] END .................................n_neighbors=2, p=2; total time=   0.0s\n",
      "[CV] END .................................n_neighbors=2, p=2; total time=   0.0s\n",
      "[CV] END .................................n_neighbors=3, p=1; total time=   0.0s\n",
      "[CV] END .................................n_neighbors=3, p=1; total time=   0.1s\n",
      "[CV] END .................................n_neighbors=3, p=1; total time=   0.2s\n",
      "[CV] END .................................n_neighbors=3, p=1; total time=   0.2s\n",
      "[CV] END .................................n_neighbors=3, p=1; total time=   0.3s\n",
      "[CV] END .................................n_neighbors=3, p=2; total time=   0.0s\n",
      "[CV] END .................................n_neighbors=3, p=2; total time=   0.0s\n",
      "[CV] END .................................n_neighbors=3, p=2; total time=   0.0s\n",
      "[CV] END .................................n_neighbors=3, p=2; total time=   0.0s\n",
      "[CV] END .................................n_neighbors=3, p=2; total time=   0.0s\n",
      "[CV] END .................................n_neighbors=4, p=1; total time=   0.0s\n",
      "[CV] END .................................n_neighbors=4, p=1; total time=   0.1s\n",
      "[CV] END .................................n_neighbors=4, p=1; total time=   0.1s\n",
      "[CV] END .................................n_neighbors=4, p=1; total time=   0.2s\n",
      "[CV] END .................................n_neighbors=4, p=1; total time=   0.3s\n",
      "[CV] END .................................n_neighbors=4, p=2; total time=   0.0s\n",
      "[CV] END .................................n_neighbors=4, p=2; total time=   0.0s\n",
      "[CV] END .................................n_neighbors=4, p=2; total time=   0.0s\n",
      "[CV] END .................................n_neighbors=4, p=2; total time=   0.0s\n",
      "[CV] END .................................n_neighbors=4, p=2; total time=   0.0s\n",
      "Best leaf_size: 30\n",
      "Best p: 1\n",
      "Best n_neighbors: 1\n"
     ]
    }
   ],
   "source": [
    "# Hyper parameter tuning for knn - COMMENT OUT IF YOU DON'T WANT TO RUN (TAKES A LONG TIME)\n",
    "n_neighbors = list(range(1,5))\n",
    "p = [1,2]\n",
    "#Convert to dictionary\n",
    "hyperparameters = dict( n_neighbors=n_neighbors, p=p)\n",
    "\n",
    "#Create new KNN object\n",
    "knn_2 = KNeighborsClassifier()#Use GridSearch\n",
    "clf = GridSearchCV(knn_2, hyperparameters, cv=tscv, verbose=2)\n",
    "\n",
    "#Fit the model\n",
    "knn_grid_search = clf.fit(X_time_train,y_time_train)\n",
    "#Print The value of best Hyperparameters\n",
    "print('Best leaf_size:', knn_grid_search.best_estimator_.get_params()['leaf_size'])\n",
    "print('Best p:', knn_grid_search.best_estimator_.get_params()['p'])\n",
    "print('Best n_neighbors:', knn_grid_search.best_estimator_.get_params()['n_neighbors'])"
   ]
  },
  {
   "cell_type": "code",
   "execution_count": 14,
   "metadata": {},
   "outputs": [
    {
     "data": {
      "text/plain": [
       "{'n_neighbors': 1, 'p': 1}"
      ]
     },
     "execution_count": 14,
     "metadata": {},
     "output_type": "execute_result"
    }
   ],
   "source": [
    "knn_grid_search.best_params_"
   ]
  },
  {
   "cell_type": "code",
   "execution_count": 15,
   "metadata": {},
   "outputs": [
    {
     "name": "stdout",
     "output_type": "stream",
     "text": [
      "Confusion Matrix: \n",
      "[[34  0  6]\n",
      " [ 0 50  0]\n",
      " [20  0 20]]\n",
      "Classification report: \n",
      "              precision    recall  f1-score   support\n",
      "\n",
      "         0.0       0.63      0.85      0.72        40\n",
      "         1.0       1.00      1.00      1.00        50\n",
      "         2.0       0.77      0.50      0.61        40\n",
      "\n",
      "    accuracy                           0.80       130\n",
      "   macro avg       0.80      0.78      0.78       130\n",
      "weighted avg       0.82      0.80      0.79       130\n",
      "\n",
      "Accuracy:  0.8\n"
     ]
    },
    {
     "data": {
      "image/png": "[encoded data removed]",
      "text/plain": [
       "<Figure size 640x480 with 2 Axes>"
      ]
     },
     "metadata": {},
     "output_type": "display_data"
    }
   ],
   "source": [
    "knn = make_pipeline(StandardScaler(),knn_grid_search.best_estimator_)\n",
    "knn.fit(X_time_train, y_time_train)\n",
    "y_time_pred = knn.predict(X_time_test)\n",
    "y_time_pred_prob = knn.predict_proba(X_time_test)\n",
    "knn_time_result = confusion_matrix(y_time_test, y_time_pred)\n",
    "print(\"Confusion Matrix: \")\n",
    "print(knn_time_result)\n",
    "knn_class_report = classification_report(y_time_test, y_time_pred)\n",
    "print(\"Classification report: \")\n",
    "print(knn_class_report)\n",
    "knn_acc = accuracy_score(y_time_test,y_time_pred)\n",
    "print(\"Accuracy: \",knn_acc)\n",
    "\n",
    "confusion_matrix_plot(knn_time_result, \"KNN\", 0)"
   ]
  },
  {
   "cell_type": "code",
   "execution_count": 34,
   "metadata": {},
   "outputs": [
    {
     "name": "stdout",
     "output_type": "stream",
     "text": [
      "Fitting 5 folds for each of 8 candidates, totalling 40 fits\n",
      "[CV] END ...........................C=2, gamma=1, kernel=rbf; total time=   0.0s\n",
      "[CV] END ...........................C=2, gamma=1, kernel=rbf; total time=   0.6s\n",
      "[CV] END ...........................C=2, gamma=1, kernel=rbf; total time=   2.0s\n",
      "[CV] END ...........................C=2, gamma=1, kernel=rbf; total time=   2.4s\n",
      "[CV] END ...........................C=2, gamma=1, kernel=rbf; total time=   5.6s\n",
      "[CV] END ..........................C=2, gamma=1, kernel=poly; total time=   0.0s\n",
      "[CV] END ..........................C=2, gamma=1, kernel=poly; total time=   0.5s\n",
      "[CV] END ..........................C=2, gamma=1, kernel=poly; total time=   1.1s\n",
      "[CV] END ..........................C=2, gamma=1, kernel=poly; total time=   1.7s\n",
      "[CV] END ..........................C=2, gamma=1, kernel=poly; total time=   4.3s\n",
      "[CV] END ...........................C=2, gamma=4, kernel=rbf; total time=   0.0s\n",
      "[CV] END ...........................C=2, gamma=4, kernel=rbf; total time=   0.4s\n",
      "[CV] END ...........................C=2, gamma=4, kernel=rbf; total time=   0.8s\n",
      "[CV] END ...........................C=2, gamma=4, kernel=rbf; total time=   1.1s\n",
      "[CV] END ...........................C=2, gamma=4, kernel=rbf; total time=   3.9s\n",
      "[CV] END ..........................C=2, gamma=4, kernel=poly; total time=   0.0s\n",
      "[CV] END ..........................C=2, gamma=4, kernel=poly; total time=   0.2s\n",
      "[CV] END ..........................C=2, gamma=4, kernel=poly; total time=   0.5s\n",
      "[CV] END ..........................C=2, gamma=4, kernel=poly; total time=   0.6s\n",
      "[CV] END ..........................C=2, gamma=4, kernel=poly; total time=   2.0s\n",
      "[CV] END ...........................C=4, gamma=1, kernel=rbf; total time=   0.0s\n",
      "[CV] END ...........................C=4, gamma=1, kernel=rbf; total time=   0.5s\n",
      "[CV] END ...........................C=4, gamma=1, kernel=rbf; total time=   1.3s\n",
      "[CV] END ...........................C=4, gamma=1, kernel=rbf; total time=   1.7s\n",
      "[CV] END ...........................C=4, gamma=1, kernel=rbf; total time=   4.5s\n",
      "[CV] END ..........................C=4, gamma=1, kernel=poly; total time=   0.0s\n",
      "[CV] END ..........................C=4, gamma=1, kernel=poly; total time=   0.4s\n",
      "[CV] END ..........................C=4, gamma=1, kernel=poly; total time=   0.9s\n",
      "[CV] END ..........................C=4, gamma=1, kernel=poly; total time=   1.3s\n",
      "[CV] END ..........................C=4, gamma=1, kernel=poly; total time=   3.3s\n",
      "[CV] END ...........................C=4, gamma=4, kernel=rbf; total time=   0.0s\n",
      "[CV] END ...........................C=4, gamma=4, kernel=rbf; total time=   0.3s\n",
      "[CV] END ...........................C=4, gamma=4, kernel=rbf; total time=   0.5s\n",
      "[CV] END ...........................C=4, gamma=4, kernel=rbf; total time=   0.8s\n",
      "[CV] END ...........................C=4, gamma=4, kernel=rbf; total time=   3.1s\n",
      "[CV] END ..........................C=4, gamma=4, kernel=poly; total time=   0.0s\n",
      "[CV] END ..........................C=4, gamma=4, kernel=poly; total time=   0.2s\n",
      "[CV] END ..........................C=4, gamma=4, kernel=poly; total time=   0.4s\n",
      "[CV] END ..........................C=4, gamma=4, kernel=poly; total time=   0.6s\n",
      "[CV] END ..........................C=4, gamma=4, kernel=poly; total time=   2.0s\n"
     ]
    },
    {
     "name": "stderr",
     "output_type": "stream",
     "text": [
      "C:\\Users\\Abdus\\AppData\\Local\\Packages\\PythonSoftwareFoundation.Python.3.7_qbz5n2kfra8p0\\LocalCache\\local-packages\\Python37\\site-packages\\sklearn\\model_selection\\_validation.py:372: FitFailedWarning: \n",
      "8 fits failed out of a total of 40.\n",
      "The score on these train-test partitions for these parameters will be set to nan.\n",
      "If these failures are not expected, you can try to debug them by setting error_score='raise'.\n",
      "\n",
      "Below are more details about the failures:\n",
      "--------------------------------------------------------------------------------\n",
      "8 fits failed with the following error:\n",
      "Traceback (most recent call last):\n",
      "  File \"C:\\Users\\Abdus\\AppData\\Local\\Packages\\PythonSoftwareFoundation.Python.3.7_qbz5n2kfra8p0\\LocalCache\\local-packages\\Python37\\site-packages\\sklearn\\model_selection\\_validation.py\", line 680, in _fit_and_score\n",
      "    estimator.fit(X_train, y_train, **fit_params)\n",
      "  File \"C:\\Users\\Abdus\\AppData\\Local\\Packages\\PythonSoftwareFoundation.Python.3.7_qbz5n2kfra8p0\\LocalCache\\local-packages\\Python37\\site-packages\\sklearn\\svm\\_base.py\", line 199, in fit\n",
      "    y = self._validate_targets(y)\n",
      "  File \"C:\\Users\\Abdus\\AppData\\Local\\Packages\\PythonSoftwareFoundation.Python.3.7_qbz5n2kfra8p0\\LocalCache\\local-packages\\Python37\\site-packages\\sklearn\\svm\\_base.py\", line 722, in _validate_targets\n",
      "    % len(cls)\n",
      "ValueError: The number of classes has to be greater than one; got 1 class\n",
      "\n",
      "  warnings.warn(some_fits_failed_message, FitFailedWarning)\n",
      "C:\\Users\\Abdus\\AppData\\Local\\Packages\\PythonSoftwareFoundation.Python.3.7_qbz5n2kfra8p0\\LocalCache\\local-packages\\Python37\\site-packages\\sklearn\\model_selection\\_search.py:972: UserWarning: One or more of the test scores are non-finite: [nan nan nan nan nan nan nan nan]\n",
      "  category=UserWarning,\n"
     ]
    },
    {
     "data": {
      "text/plain": [
       "GridSearchCV(cv=TimeSeriesSplit(gap=0, max_train_size=None, n_splits=5, test_size=None),\n",
       "             estimator=SVC(random_state=1234),\n",
       "             param_grid={'C': [2, 4], 'gamma': [1, 4],\n",
       "                         'kernel': ['rbf', 'poly']},\n",
       "             verbose=2)"
      ]
     },
     "execution_count": 34,
     "metadata": {},
     "output_type": "execute_result"
    }
   ],
   "source": [
    "\n",
    "svc_param_grid = { \n",
    "    # Regularization parameter.\n",
    "    \"C\": [2, 4],\n",
    "    # Kernel type\n",
    "    \"kernel\": ['rbf', 'poly'],\n",
    "    # Gamma is the Kernel coefficient for ‘rbf’, ‘poly’ and ‘sigmoid’.\n",
    "    \"gamma\": [1, 4],\n",
    "    }\n",
    "\n",
    "svc = SVC(random_state=1234)\n",
    "svc_grid_search = GridSearchCV(estimator=svc, param_grid=svc_param_grid, cv=tscv, verbose=2)\n",
    "svc_grid_search.fit(X_time_train, y_time_train)"
   ]
  },
  {
   "cell_type": "code",
   "execution_count": 35,
   "metadata": {},
   "outputs": [
    {
     "data": {
      "text/plain": [
       "{'C': 2, 'gamma': 1, 'kernel': 'rbf'}"
      ]
     },
     "execution_count": 35,
     "metadata": {},
     "output_type": "execute_result"
    }
   ],
   "source": [
    "svc_grid_search.best_params_"
   ]
  },
  {
   "cell_type": "code",
   "execution_count": 36,
   "metadata": {},
   "outputs": [],
   "source": [
    "poly = make_pipeline(svc_grid_search.best_estimator_)\n",
    "poly.fit(X_time_train, y_time_train)\n",
    "poly_pred = poly.predict(X_time_test)"
   ]
  },
  {
   "cell_type": "code",
   "execution_count": 37,
   "metadata": {},
   "outputs": [
    {
     "name": "stdout",
     "output_type": "stream",
     "text": [
      "Classification report: \n",
      "              precision    recall  f1-score   support\n",
      "\n",
      "         0.0       0.62      0.97      0.76        40\n",
      "         1.0       1.00      1.00      1.00        50\n",
      "         2.0       0.94      0.40      0.56        40\n",
      "\n",
      "    accuracy                           0.81       130\n",
      "   macro avg       0.85      0.79      0.77       130\n",
      "weighted avg       0.86      0.81      0.79       130\n",
      "\n",
      "Accuracy:  0.8076923076923077\n"
     ]
    },
    {
     "data": {
      "image/png": "[encoded data removed]",
      "text/plain": [
       "<Figure size 640x480 with 2 Axes>"
      ]
     },
     "metadata": {},
     "output_type": "display_data"
    }
   ],
   "source": [
    "poly_result = confusion_matrix(y_time_test, poly_pred)\n",
    "poly_classification_rep = classification_report(y_time_test, poly_pred)\n",
    "print(\"Classification report: \")\n",
    "print(poly_classification_rep)\n",
    "poly_acc = accuracy_score(y_time_test,poly_pred)\n",
    "print(\"Accuracy: \", poly_acc)\n",
    "confusion_matrix_plot(poly_result, \"SVM\", 0)"
   ]
  },
  {
   "cell_type": "code",
   "execution_count": 38,
   "metadata": {},
   "outputs": [
    {
     "ename": "KeyError",
     "evalue": "\"Registering two gradient with name 'ImageProjectiveTransformV2'! (Previous registration was in register C:\\\\Users\\\\Abdus\\\\AppData\\\\Local\\\\Packages\\\\PythonSoftwareFoundation.Python.3.7_qbz5n2kfra8p0\\\\LocalCache\\\\local-packages\\\\Python37\\\\site-packages\\\\tensorflow\\\\python\\\\framework\\\\registry.py:65)\"",
     "output_type": "error",
     "traceback": [
      "\u001b[1;31m---------------------------------------------------------------------------\u001b[0m",
      "\u001b[1;31mKeyError\u001b[0m                                  Traceback (most recent call last)",
      "\u001b[1;32m~\\AppData\\Local\\Temp\\ipykernel_16556\\191304789.py\u001b[0m in \u001b[0;36m<module>\u001b[1;34m\u001b[0m\n\u001b[1;32m----> 1\u001b[1;33m \u001b[1;32mfrom\u001b[0m \u001b[0mkeras\u001b[0m \u001b[1;32mimport\u001b[0m \u001b[0mmodels\u001b[0m\u001b[1;33m,\u001b[0m \u001b[0mlayers\u001b[0m\u001b[1;33m,\u001b[0m \u001b[0minitializers\u001b[0m\u001b[1;33m,\u001b[0m \u001b[0mutils\u001b[0m\u001b[1;33m,\u001b[0m \u001b[0mcallbacks\u001b[0m\u001b[1;33m,\u001b[0m \u001b[0mregularizers\u001b[0m\u001b[1;33m\u001b[0m\u001b[1;33m\u001b[0m\u001b[0m\n\u001b[0m\u001b[0;32m      2\u001b[0m \u001b[1;32mimport\u001b[0m \u001b[0mtensorflow\u001b[0m \u001b[1;32mas\u001b[0m \u001b[0mtf\u001b[0m\u001b[1;33m\u001b[0m\u001b[1;33m\u001b[0m\u001b[0m\n",
      "\u001b[1;32m~\\AppData\\Local\\Packages\\PythonSoftwareFoundation.Python.3.7_qbz5n2kfra8p0\\LocalCache\\local-packages\\Python37\\site-packages\\keras\\__init__.py\u001b[0m in \u001b[0;36m<module>\u001b[1;34m\u001b[0m\n\u001b[0;32m     19\u001b[0m \"\"\"\n\u001b[0;32m     20\u001b[0m \u001b[1;32mfrom\u001b[0m \u001b[0mkeras\u001b[0m \u001b[1;32mimport\u001b[0m \u001b[0mdistribute\u001b[0m\u001b[1;33m\u001b[0m\u001b[1;33m\u001b[0m\u001b[0m\n\u001b[1;32m---> 21\u001b[1;33m \u001b[1;32mfrom\u001b[0m \u001b[0mkeras\u001b[0m \u001b[1;32mimport\u001b[0m \u001b[0mmodels\u001b[0m\u001b[1;33m\u001b[0m\u001b[1;33m\u001b[0m\u001b[0m\n\u001b[0m\u001b[0;32m     22\u001b[0m \u001b[1;32mfrom\u001b[0m \u001b[0mkeras\u001b[0m\u001b[1;33m.\u001b[0m\u001b[0mengine\u001b[0m\u001b[1;33m.\u001b[0m\u001b[0minput_layer\u001b[0m \u001b[1;32mimport\u001b[0m \u001b[0mInput\u001b[0m\u001b[1;33m\u001b[0m\u001b[1;33m\u001b[0m\u001b[0m\n\u001b[0;32m     23\u001b[0m \u001b[1;32mfrom\u001b[0m \u001b[0mkeras\u001b[0m\u001b[1;33m.\u001b[0m\u001b[0mengine\u001b[0m\u001b[1;33m.\u001b[0m\u001b[0msequential\u001b[0m \u001b[1;32mimport\u001b[0m \u001b[0mSequential\u001b[0m\u001b[1;33m\u001b[0m\u001b[1;33m\u001b[0m\u001b[0m\n",
      "\u001b[1;32m~\\AppData\\Local\\Packages\\PythonSoftwareFoundation.Python.3.7_qbz5n2kfra8p0\\LocalCache\\local-packages\\Python37\\site-packages\\keras\\models\\__init__.py\u001b[0m in \u001b[0;36m<module>\u001b[1;34m\u001b[0m\n\u001b[0;32m     16\u001b[0m \u001b[1;33m\u001b[0m\u001b[0m\n\u001b[0;32m     17\u001b[0m \u001b[1;33m\u001b[0m\u001b[0m\n\u001b[1;32m---> 18\u001b[1;33m \u001b[1;32mfrom\u001b[0m \u001b[0mkeras\u001b[0m\u001b[1;33m.\u001b[0m\u001b[0mengine\u001b[0m\u001b[1;33m.\u001b[0m\u001b[0mfunctional\u001b[0m \u001b[1;32mimport\u001b[0m \u001b[0mFunctional\u001b[0m\u001b[1;33m\u001b[0m\u001b[1;33m\u001b[0m\u001b[0m\n\u001b[0m\u001b[0;32m     19\u001b[0m \u001b[1;32mfrom\u001b[0m \u001b[0mkeras\u001b[0m\u001b[1;33m.\u001b[0m\u001b[0mengine\u001b[0m\u001b[1;33m.\u001b[0m\u001b[0msequential\u001b[0m \u001b[1;32mimport\u001b[0m \u001b[0mSequential\u001b[0m\u001b[1;33m\u001b[0m\u001b[1;33m\u001b[0m\u001b[0m\n\u001b[0;32m     20\u001b[0m \u001b[1;32mfrom\u001b[0m \u001b[0mkeras\u001b[0m\u001b[1;33m.\u001b[0m\u001b[0mengine\u001b[0m\u001b[1;33m.\u001b[0m\u001b[0mtraining\u001b[0m \u001b[1;32mimport\u001b[0m \u001b[0mModel\u001b[0m\u001b[1;33m\u001b[0m\u001b[1;33m\u001b[0m\u001b[0m\n",
      "\u001b[1;32m~\\AppData\\Local\\Packages\\PythonSoftwareFoundation.Python.3.7_qbz5n2kfra8p0\\LocalCache\\local-packages\\Python37\\site-packages\\keras\\engine\\functional.py\u001b[0m in \u001b[0;36m<module>\u001b[1;34m\u001b[0m\n\u001b[0;32m     22\u001b[0m \u001b[1;32mimport\u001b[0m \u001b[0mwarnings\u001b[0m\u001b[1;33m\u001b[0m\u001b[1;33m\u001b[0m\u001b[0m\n\u001b[0;32m     23\u001b[0m \u001b[1;33m\u001b[0m\u001b[0m\n\u001b[1;32m---> 24\u001b[1;33m \u001b[1;32mimport\u001b[0m \u001b[0mtensorflow\u001b[0m\u001b[1;33m.\u001b[0m\u001b[0mcompat\u001b[0m\u001b[1;33m.\u001b[0m\u001b[0mv2\u001b[0m \u001b[1;32mas\u001b[0m \u001b[0mtf\u001b[0m\u001b[1;33m\u001b[0m\u001b[1;33m\u001b[0m\u001b[0m\n\u001b[0m\u001b[0;32m     25\u001b[0m \u001b[1;33m\u001b[0m\u001b[0m\n\u001b[0;32m     26\u001b[0m \u001b[1;32mfrom\u001b[0m \u001b[0mkeras\u001b[0m \u001b[1;32mimport\u001b[0m \u001b[0mbackend\u001b[0m\u001b[1;33m\u001b[0m\u001b[1;33m\u001b[0m\u001b[0m\n",
      "\u001b[1;32m~\\AppData\\Local\\Packages\\PythonSoftwareFoundation.Python.3.7_qbz5n2kfra8p0\\LocalCache\\local-packages\\Python37\\site-packages\\tensorflow\\__init__.py\u001b[0m in \u001b[0;36m<module>\u001b[1;34m\u001b[0m\n\u001b[0;32m     35\u001b[0m \u001b[1;32mimport\u001b[0m \u001b[0mtyping\u001b[0m \u001b[1;32mas\u001b[0m \u001b[0m_typing\u001b[0m\u001b[1;33m\u001b[0m\u001b[1;33m\u001b[0m\u001b[0m\n\u001b[0;32m     36\u001b[0m \u001b[1;33m\u001b[0m\u001b[0m\n\u001b[1;32m---> 37\u001b[1;33m \u001b[1;32mfrom\u001b[0m \u001b[0mtensorflow\u001b[0m\u001b[1;33m.\u001b[0m\u001b[0mpython\u001b[0m\u001b[1;33m.\u001b[0m\u001b[0mtools\u001b[0m \u001b[1;32mimport\u001b[0m \u001b[0mmodule_util\u001b[0m \u001b[1;32mas\u001b[0m \u001b[0m_module_util\u001b[0m\u001b[1;33m\u001b[0m\u001b[1;33m\u001b[0m\u001b[0m\n\u001b[0m\u001b[0;32m     38\u001b[0m \u001b[1;32mfrom\u001b[0m \u001b[0mtensorflow\u001b[0m\u001b[1;33m.\u001b[0m\u001b[0mpython\u001b[0m\u001b[1;33m.\u001b[0m\u001b[0mutil\u001b[0m\u001b[1;33m.\u001b[0m\u001b[0mlazy_loader\u001b[0m \u001b[1;32mimport\u001b[0m \u001b[0mLazyLoader\u001b[0m \u001b[1;32mas\u001b[0m \u001b[0m_LazyLoader\u001b[0m\u001b[1;33m\u001b[0m\u001b[1;33m\u001b[0m\u001b[0m\n\u001b[0;32m     39\u001b[0m \u001b[1;33m\u001b[0m\u001b[0m\n",
      "\u001b[1;32m~\\AppData\\Local\\Packages\\PythonSoftwareFoundation.Python.3.7_qbz5n2kfra8p0\\LocalCache\\local-packages\\Python37\\site-packages\\tensorflow\\python\\__init__.py\u001b[0m in \u001b[0;36m<module>\u001b[1;34m\u001b[0m\n\u001b[0;32m     43\u001b[0m \u001b[1;32mfrom\u001b[0m \u001b[0mtensorflow\u001b[0m\u001b[1;33m.\u001b[0m\u001b[0mpython\u001b[0m \u001b[1;32mimport\u001b[0m \u001b[0mdistribute\u001b[0m\u001b[1;33m\u001b[0m\u001b[1;33m\u001b[0m\u001b[0m\n\u001b[0;32m     44\u001b[0m \u001b[1;31m# from tensorflow.python import keras\u001b[0m\u001b[1;33m\u001b[0m\u001b[1;33m\u001b[0m\u001b[1;33m\u001b[0m\u001b[0m\n\u001b[1;32m---> 45\u001b[1;33m \u001b[1;32mfrom\u001b[0m \u001b[0mtensorflow\u001b[0m\u001b[1;33m.\u001b[0m\u001b[0mpython\u001b[0m\u001b[1;33m.\u001b[0m\u001b[0mfeature_column\u001b[0m \u001b[1;32mimport\u001b[0m \u001b[0mfeature_column_lib\u001b[0m \u001b[1;32mas\u001b[0m \u001b[0mfeature_column\u001b[0m\u001b[1;33m\u001b[0m\u001b[1;33m\u001b[0m\u001b[0m\n\u001b[0m\u001b[0;32m     46\u001b[0m \u001b[1;31m# from tensorflow.python.layers import layers\u001b[0m\u001b[1;33m\u001b[0m\u001b[1;33m\u001b[0m\u001b[1;33m\u001b[0m\u001b[0m\n\u001b[0;32m     47\u001b[0m \u001b[1;32mfrom\u001b[0m \u001b[0mtensorflow\u001b[0m\u001b[1;33m.\u001b[0m\u001b[0mpython\u001b[0m\u001b[1;33m.\u001b[0m\u001b[0mmodule\u001b[0m \u001b[1;32mimport\u001b[0m \u001b[0mmodule\u001b[0m\u001b[1;33m\u001b[0m\u001b[1;33m\u001b[0m\u001b[0m\n",
      "\u001b[1;32m~\\AppData\\Local\\Packages\\PythonSoftwareFoundation.Python.3.7_qbz5n2kfra8p0\\LocalCache\\local-packages\\Python37\\site-packages\\tensorflow\\python\\feature_column\\feature_column_lib.py\u001b[0m in \u001b[0;36m<module>\u001b[1;34m\u001b[0m\n\u001b[0;32m     16\u001b[0m \u001b[1;33m\u001b[0m\u001b[0m\n\u001b[0;32m     17\u001b[0m \u001b[1;31m# pylint: disable=unused-import,line-too-long,wildcard-import,g-bad-import-order\u001b[0m\u001b[1;33m\u001b[0m\u001b[1;33m\u001b[0m\u001b[1;33m\u001b[0m\u001b[0m\n\u001b[1;32m---> 18\u001b[1;33m \u001b[1;32mfrom\u001b[0m \u001b[0mtensorflow\u001b[0m\u001b[1;33m.\u001b[0m\u001b[0mpython\u001b[0m\u001b[1;33m.\u001b[0m\u001b[0mfeature_column\u001b[0m\u001b[1;33m.\u001b[0m\u001b[0mfeature_column\u001b[0m \u001b[1;32mimport\u001b[0m \u001b[1;33m*\u001b[0m\u001b[1;33m\u001b[0m\u001b[1;33m\u001b[0m\u001b[0m\n\u001b[0m\u001b[0;32m     19\u001b[0m \u001b[1;32mfrom\u001b[0m \u001b[0mtensorflow\u001b[0m\u001b[1;33m.\u001b[0m\u001b[0mpython\u001b[0m\u001b[1;33m.\u001b[0m\u001b[0mfeature_column\u001b[0m\u001b[1;33m.\u001b[0m\u001b[0mfeature_column_v2\u001b[0m \u001b[1;32mimport\u001b[0m \u001b[1;33m*\u001b[0m\u001b[1;33m\u001b[0m\u001b[1;33m\u001b[0m\u001b[0m\n\u001b[0;32m     20\u001b[0m \u001b[1;32mfrom\u001b[0m \u001b[0mtensorflow\u001b[0m\u001b[1;33m.\u001b[0m\u001b[0mpython\u001b[0m\u001b[1;33m.\u001b[0m\u001b[0mfeature_column\u001b[0m\u001b[1;33m.\u001b[0m\u001b[0msequence_feature_column\u001b[0m \u001b[1;32mimport\u001b[0m \u001b[1;33m*\u001b[0m\u001b[1;33m\u001b[0m\u001b[1;33m\u001b[0m\u001b[0m\n",
      "\u001b[1;32m~\\AppData\\Local\\Packages\\PythonSoftwareFoundation.Python.3.7_qbz5n2kfra8p0\\LocalCache\\local-packages\\Python37\\site-packages\\tensorflow\\python\\feature_column\\feature_column.py\u001b[0m in \u001b[0;36m<module>\u001b[1;34m\u001b[0m\n\u001b[0;32m    141\u001b[0m \u001b[1;32mfrom\u001b[0m \u001b[0mtensorflow\u001b[0m\u001b[1;33m.\u001b[0m\u001b[0mpython\u001b[0m\u001b[1;33m.\u001b[0m\u001b[0mframework\u001b[0m \u001b[1;32mimport\u001b[0m \u001b[0msparse_tensor\u001b[0m \u001b[1;32mas\u001b[0m \u001b[0msparse_tensor_lib\u001b[0m\u001b[1;33m\u001b[0m\u001b[1;33m\u001b[0m\u001b[0m\n\u001b[0;32m    142\u001b[0m \u001b[1;32mfrom\u001b[0m \u001b[0mtensorflow\u001b[0m\u001b[1;33m.\u001b[0m\u001b[0mpython\u001b[0m\u001b[1;33m.\u001b[0m\u001b[0mframework\u001b[0m \u001b[1;32mimport\u001b[0m \u001b[0mtensor_shape\u001b[0m\u001b[1;33m\u001b[0m\u001b[1;33m\u001b[0m\u001b[0m\n\u001b[1;32m--> 143\u001b[1;33m \u001b[1;32mfrom\u001b[0m \u001b[0mtensorflow\u001b[0m\u001b[1;33m.\u001b[0m\u001b[0mpython\u001b[0m\u001b[1;33m.\u001b[0m\u001b[0mlayers\u001b[0m \u001b[1;32mimport\u001b[0m \u001b[0mbase\u001b[0m\u001b[1;33m\u001b[0m\u001b[1;33m\u001b[0m\u001b[0m\n\u001b[0m\u001b[0;32m    144\u001b[0m \u001b[1;32mfrom\u001b[0m \u001b[0mtensorflow\u001b[0m\u001b[1;33m.\u001b[0m\u001b[0mpython\u001b[0m\u001b[1;33m.\u001b[0m\u001b[0mops\u001b[0m \u001b[1;32mimport\u001b[0m \u001b[0marray_ops\u001b[0m\u001b[1;33m\u001b[0m\u001b[1;33m\u001b[0m\u001b[0m\n\u001b[0;32m    145\u001b[0m \u001b[1;32mfrom\u001b[0m \u001b[0mtensorflow\u001b[0m\u001b[1;33m.\u001b[0m\u001b[0mpython\u001b[0m\u001b[1;33m.\u001b[0m\u001b[0mops\u001b[0m \u001b[1;32mimport\u001b[0m \u001b[0mcheck_ops\u001b[0m\u001b[1;33m\u001b[0m\u001b[1;33m\u001b[0m\u001b[0m\n",
      "\u001b[1;32m~\\AppData\\Local\\Packages\\PythonSoftwareFoundation.Python.3.7_qbz5n2kfra8p0\\LocalCache\\local-packages\\Python37\\site-packages\\tensorflow\\python\\layers\\base.py\u001b[0m in \u001b[0;36m<module>\u001b[1;34m\u001b[0m\n\u001b[0;32m     14\u001b[0m \u001b[1;31m# =============================================================================\u001b[0m\u001b[1;33m\u001b[0m\u001b[1;33m\u001b[0m\u001b[1;33m\u001b[0m\u001b[0m\n\u001b[0;32m     15\u001b[0m \u001b[1;34m\"\"\"Contains the base Layer class, from which all layers inherit.\"\"\"\u001b[0m\u001b[1;33m\u001b[0m\u001b[1;33m\u001b[0m\u001b[0m\n\u001b[1;32m---> 16\u001b[1;33m \u001b[1;32mfrom\u001b[0m \u001b[0mtensorflow\u001b[0m\u001b[1;33m.\u001b[0m\u001b[0mpython\u001b[0m\u001b[1;33m.\u001b[0m\u001b[0mkeras\u001b[0m\u001b[1;33m.\u001b[0m\u001b[0mlegacy_tf_layers\u001b[0m \u001b[1;32mimport\u001b[0m \u001b[0mbase\u001b[0m\u001b[1;33m\u001b[0m\u001b[1;33m\u001b[0m\u001b[0m\n\u001b[0m\u001b[0;32m     17\u001b[0m \u001b[1;33m\u001b[0m\u001b[0m\n\u001b[0;32m     18\u001b[0m \u001b[0mInputSpec\u001b[0m \u001b[1;33m=\u001b[0m \u001b[0mbase\u001b[0m\u001b[1;33m.\u001b[0m\u001b[0mInputSpec\u001b[0m\u001b[1;33m\u001b[0m\u001b[1;33m\u001b[0m\u001b[0m\n",
      "\u001b[1;32m~\\AppData\\Local\\Packages\\PythonSoftwareFoundation.Python.3.7_qbz5n2kfra8p0\\LocalCache\\local-packages\\Python37\\site-packages\\tensorflow\\python\\keras\\__init__.py\u001b[0m in \u001b[0;36m<module>\u001b[1;34m\u001b[0m\n\u001b[0;32m     23\u001b[0m \u001b[1;33m\u001b[0m\u001b[0m\n\u001b[0;32m     24\u001b[0m \u001b[1;31m# See b/110718070#comment18 for more details about this import.\u001b[0m\u001b[1;33m\u001b[0m\u001b[1;33m\u001b[0m\u001b[1;33m\u001b[0m\u001b[0m\n\u001b[1;32m---> 25\u001b[1;33m \u001b[1;32mfrom\u001b[0m \u001b[0mtensorflow\u001b[0m\u001b[1;33m.\u001b[0m\u001b[0mpython\u001b[0m\u001b[1;33m.\u001b[0m\u001b[0mkeras\u001b[0m \u001b[1;32mimport\u001b[0m \u001b[0mmodels\u001b[0m\u001b[1;33m\u001b[0m\u001b[1;33m\u001b[0m\u001b[0m\n\u001b[0m\u001b[0;32m     26\u001b[0m \u001b[1;33m\u001b[0m\u001b[0m\n\u001b[0;32m     27\u001b[0m \u001b[1;32mfrom\u001b[0m \u001b[0mtensorflow\u001b[0m\u001b[1;33m.\u001b[0m\u001b[0mpython\u001b[0m\u001b[1;33m.\u001b[0m\u001b[0mkeras\u001b[0m\u001b[1;33m.\u001b[0m\u001b[0mengine\u001b[0m\u001b[1;33m.\u001b[0m\u001b[0minput_layer\u001b[0m \u001b[1;32mimport\u001b[0m \u001b[0mInput\u001b[0m\u001b[1;33m\u001b[0m\u001b[1;33m\u001b[0m\u001b[0m\n",
      "\u001b[1;32m~\\AppData\\Local\\Packages\\PythonSoftwareFoundation.Python.3.7_qbz5n2kfra8p0\\LocalCache\\local-packages\\Python37\\site-packages\\tensorflow\\python\\keras\\models.py\u001b[0m in \u001b[0;36m<module>\u001b[1;34m\u001b[0m\n\u001b[0;32m     17\u001b[0m \u001b[1;33m\u001b[0m\u001b[0m\n\u001b[0;32m     18\u001b[0m \u001b[1;32mfrom\u001b[0m \u001b[0mtensorflow\u001b[0m\u001b[1;33m.\u001b[0m\u001b[0mpython\u001b[0m\u001b[1;33m.\u001b[0m\u001b[0mframework\u001b[0m \u001b[1;32mimport\u001b[0m \u001b[0mops\u001b[0m\u001b[1;33m\u001b[0m\u001b[1;33m\u001b[0m\u001b[0m\n\u001b[1;32m---> 19\u001b[1;33m \u001b[1;32mfrom\u001b[0m \u001b[0mtensorflow\u001b[0m\u001b[1;33m.\u001b[0m\u001b[0mpython\u001b[0m\u001b[1;33m.\u001b[0m\u001b[0mkeras\u001b[0m \u001b[1;32mimport\u001b[0m \u001b[0mbackend\u001b[0m\u001b[1;33m\u001b[0m\u001b[1;33m\u001b[0m\u001b[0m\n\u001b[0m\u001b[0;32m     20\u001b[0m \u001b[1;32mfrom\u001b[0m \u001b[0mtensorflow\u001b[0m\u001b[1;33m.\u001b[0m\u001b[0mpython\u001b[0m\u001b[1;33m.\u001b[0m\u001b[0mkeras\u001b[0m \u001b[1;32mimport\u001b[0m \u001b[0mmetrics\u001b[0m \u001b[1;32mas\u001b[0m \u001b[0mmetrics_module\u001b[0m\u001b[1;33m\u001b[0m\u001b[1;33m\u001b[0m\u001b[0m\n\u001b[0;32m     21\u001b[0m \u001b[1;32mfrom\u001b[0m \u001b[0mtensorflow\u001b[0m\u001b[1;33m.\u001b[0m\u001b[0mpython\u001b[0m\u001b[1;33m.\u001b[0m\u001b[0mkeras\u001b[0m \u001b[1;32mimport\u001b[0m \u001b[0moptimizer_v1\u001b[0m\u001b[1;33m\u001b[0m\u001b[1;33m\u001b[0m\u001b[0m\n",
      "\u001b[1;32m~\\AppData\\Local\\Packages\\PythonSoftwareFoundation.Python.3.7_qbz5n2kfra8p0\\LocalCache\\local-packages\\Python37\\site-packages\\tensorflow\\python\\keras\\backend.py\u001b[0m in \u001b[0;36m<module>\u001b[1;34m\u001b[0m\n\u001b[0;32m     60\u001b[0m \u001b[1;32mfrom\u001b[0m \u001b[0mtensorflow\u001b[0m\u001b[1;33m.\u001b[0m\u001b[0mpython\u001b[0m\u001b[1;33m.\u001b[0m\u001b[0mops\u001b[0m \u001b[1;32mimport\u001b[0m \u001b[0mfunctional_ops\u001b[0m\u001b[1;33m\u001b[0m\u001b[1;33m\u001b[0m\u001b[0m\n\u001b[0;32m     61\u001b[0m \u001b[1;32mfrom\u001b[0m \u001b[0mtensorflow\u001b[0m\u001b[1;33m.\u001b[0m\u001b[0mpython\u001b[0m\u001b[1;33m.\u001b[0m\u001b[0mops\u001b[0m \u001b[1;32mimport\u001b[0m \u001b[0mgradients\u001b[0m \u001b[1;32mas\u001b[0m \u001b[0mgradients_module\u001b[0m\u001b[1;33m\u001b[0m\u001b[1;33m\u001b[0m\u001b[0m\n\u001b[1;32m---> 62\u001b[1;33m \u001b[1;32mfrom\u001b[0m \u001b[0mtensorflow\u001b[0m\u001b[1;33m.\u001b[0m\u001b[0mpython\u001b[0m\u001b[1;33m.\u001b[0m\u001b[0mops\u001b[0m \u001b[1;32mimport\u001b[0m \u001b[0mimage_ops\u001b[0m\u001b[1;33m\u001b[0m\u001b[1;33m\u001b[0m\u001b[0m\n\u001b[0m\u001b[0;32m     63\u001b[0m \u001b[1;32mfrom\u001b[0m \u001b[0mtensorflow\u001b[0m\u001b[1;33m.\u001b[0m\u001b[0mpython\u001b[0m\u001b[1;33m.\u001b[0m\u001b[0mops\u001b[0m \u001b[1;32mimport\u001b[0m \u001b[0minit_ops\u001b[0m\u001b[1;33m\u001b[0m\u001b[1;33m\u001b[0m\u001b[0m\n\u001b[0;32m     64\u001b[0m \u001b[1;32mfrom\u001b[0m \u001b[0mtensorflow\u001b[0m\u001b[1;33m.\u001b[0m\u001b[0mpython\u001b[0m\u001b[1;33m.\u001b[0m\u001b[0mops\u001b[0m \u001b[1;32mimport\u001b[0m \u001b[0mlinalg_ops\u001b[0m\u001b[1;33m\u001b[0m\u001b[1;33m\u001b[0m\u001b[0m\n",
      "\u001b[1;32m~\\AppData\\Local\\Packages\\PythonSoftwareFoundation.Python.3.7_qbz5n2kfra8p0\\LocalCache\\local-packages\\Python37\\site-packages\\tensorflow\\python\\ops\\image_ops.py\u001b[0m in \u001b[0;36m<module>\u001b[1;34m\u001b[0m\n\u001b[0;32m    236\u001b[0m \u001b[1;33m\u001b[0m\u001b[0m\n\u001b[0;32m    237\u001b[0m \u001b[1;33m\u001b[0m\u001b[0m\n\u001b[1;32m--> 238\u001b[1;33m \u001b[1;33m@\u001b[0m\u001b[0mops\u001b[0m\u001b[1;33m.\u001b[0m\u001b[0mRegisterGradient\u001b[0m\u001b[1;33m(\u001b[0m\u001b[1;34m\"ImageProjectiveTransformV2\"\u001b[0m\u001b[1;33m)\u001b[0m\u001b[1;33m\u001b[0m\u001b[1;33m\u001b[0m\u001b[0m\n\u001b[0m\u001b[0;32m    239\u001b[0m \u001b[1;32mdef\u001b[0m \u001b[0m_image_projective_transform_grad\u001b[0m\u001b[1;33m(\u001b[0m\u001b[0mop\u001b[0m\u001b[1;33m,\u001b[0m \u001b[0mgrad\u001b[0m\u001b[1;33m)\u001b[0m\u001b[1;33m:\u001b[0m\u001b[1;33m\u001b[0m\u001b[1;33m\u001b[0m\u001b[0m\n\u001b[0;32m    240\u001b[0m   \u001b[1;34m\"\"\"Computes the gradient for ImageProjectiveTransform.\"\"\"\u001b[0m\u001b[1;33m\u001b[0m\u001b[1;33m\u001b[0m\u001b[0m\n",
      "\u001b[1;32m~\\AppData\\Local\\Packages\\PythonSoftwareFoundation.Python.3.7_qbz5n2kfra8p0\\LocalCache\\local-packages\\Python37\\site-packages\\tensorflow\\python\\framework\\ops.py\u001b[0m in \u001b[0;36m__call__\u001b[1;34m(self, f)\u001b[0m\n\u001b[0;32m   2823\u001b[0m   \u001b[1;32mdef\u001b[0m \u001b[0m__call__\u001b[0m\u001b[1;33m(\u001b[0m\u001b[0mself\u001b[0m\u001b[1;33m,\u001b[0m \u001b[0mf\u001b[0m\u001b[1;33m)\u001b[0m\u001b[1;33m:\u001b[0m\u001b[1;33m\u001b[0m\u001b[1;33m\u001b[0m\u001b[0m\n\u001b[0;32m   2824\u001b[0m     \u001b[1;34m\"\"\"Registers the function `f` as gradient function for `op_type`.\"\"\"\u001b[0m\u001b[1;33m\u001b[0m\u001b[1;33m\u001b[0m\u001b[0m\n\u001b[1;32m-> 2825\u001b[1;33m     \u001b[0mgradient_registry\u001b[0m\u001b[1;33m.\u001b[0m\u001b[0mregister\u001b[0m\u001b[1;33m(\u001b[0m\u001b[0mf\u001b[0m\u001b[1;33m,\u001b[0m \u001b[0mself\u001b[0m\u001b[1;33m.\u001b[0m\u001b[0m_op_type\u001b[0m\u001b[1;33m)\u001b[0m\u001b[1;33m\u001b[0m\u001b[1;33m\u001b[0m\u001b[0m\n\u001b[0m\u001b[0;32m   2826\u001b[0m     \u001b[1;32mreturn\u001b[0m \u001b[0mf\u001b[0m\u001b[1;33m\u001b[0m\u001b[1;33m\u001b[0m\u001b[0m\n\u001b[0;32m   2827\u001b[0m \u001b[1;33m\u001b[0m\u001b[0m\n",
      "\u001b[1;32m~\\AppData\\Local\\Packages\\PythonSoftwareFoundation.Python.3.7_qbz5n2kfra8p0\\LocalCache\\local-packages\\Python37\\site-packages\\tensorflow\\python\\framework\\registry.py\u001b[0m in \u001b[0;36mregister\u001b[1;34m(self, candidate, name)\u001b[0m\n\u001b[0;32m     58\u001b[0m           \u001b[1;34m\"Registering two %s with name '%s'! \"\u001b[0m\u001b[1;33m\u001b[0m\u001b[1;33m\u001b[0m\u001b[0m\n\u001b[0;32m     59\u001b[0m           \u001b[1;34m\"(Previous registration was in %s %s:%d)\"\u001b[0m \u001b[1;33m%\u001b[0m\u001b[1;33m\u001b[0m\u001b[1;33m\u001b[0m\u001b[0m\n\u001b[1;32m---> 60\u001b[1;33m           (self._name, name, frame.name, frame.filename, frame.lineno))\n\u001b[0m\u001b[0;32m     61\u001b[0m \u001b[1;33m\u001b[0m\u001b[0m\n\u001b[0;32m     62\u001b[0m     \u001b[0mlogging\u001b[0m\u001b[1;33m.\u001b[0m\u001b[0mvlog\u001b[0m\u001b[1;33m(\u001b[0m\u001b[1;36m1\u001b[0m\u001b[1;33m,\u001b[0m \u001b[1;34m\"Registering %s (%s) in %s.\"\u001b[0m\u001b[1;33m,\u001b[0m \u001b[0mname\u001b[0m\u001b[1;33m,\u001b[0m \u001b[0mcandidate\u001b[0m\u001b[1;33m,\u001b[0m \u001b[0mself\u001b[0m\u001b[1;33m.\u001b[0m\u001b[0m_name\u001b[0m\u001b[1;33m)\u001b[0m\u001b[1;33m\u001b[0m\u001b[1;33m\u001b[0m\u001b[0m\n",
      "\u001b[1;31mKeyError\u001b[0m: \"Registering two gradient with name 'ImageProjectiveTransformV2'! (Previous registration was in register C:\\\\Users\\\\Abdus\\\\AppData\\\\Local\\\\Packages\\\\PythonSoftwareFoundation.Python.3.7_qbz5n2kfra8p0\\\\LocalCache\\\\local-packages\\\\Python37\\\\site-packages\\\\tensorflow\\\\python\\\\framework\\\\registry.py:65)\""
     ]
    }
   ],
   "source": [
    "from keras import models, layers, initializers, utils, callbacks, regularizers\n",
    "import tensorflow as tf"
   ]
  },
  {
   "cell_type": "code",
   "execution_count": null,
   "metadata": {},
   "outputs": [
    {
     "data": {
      "text/plain": [
       "(520, 3)"
      ]
     },
     "execution_count": 21,
     "metadata": {},
     "output_type": "execute_result"
    }
   ],
   "source": [
    "train_labels = utils.to_categorical(y_time_train)\n",
    "train_labels.shape"
   ]
  },
  {
   "cell_type": "code",
   "execution_count": null,
   "metadata": {},
   "outputs": [
    {
     "name": "stdout",
     "output_type": "stream",
     "text": [
      "Model: \"sequential\"\n",
      "_________________________________________________________________\n",
      " Layer (type)                Output Shape              Param #   \n",
      "=================================================================\n",
      " conv1d (Conv1D)             (None, 3331, 32)          352       \n",
      "                                                                 \n",
      " max_pooling1d (MaxPooling1D  (None, 1110, 32)         0         \n",
      " )                                                               \n",
      "                                                                 \n",
      " conv1d_1 (Conv1D)           (None, 553, 16)           2576      \n",
      "                                                                 \n",
      " max_pooling1d_1 (MaxPooling  (None, 276, 16)          0         \n",
      " 1D)                                                             \n",
      "                                                                 \n",
      " flatten (Flatten)           (None, 4416)              0         \n",
      "                                                                 \n",
      " dense (Dense)               (None, 256)               1130752   \n",
      "                                                                 \n",
      " dense_1 (Dense)             (None, 64)                16448     \n",
      "                                                                 \n",
      " dropout (Dropout)           (None, 64)                0         \n",
      "                                                                 \n",
      " dense_2 (Dense)             (None, 3)                 195       \n",
      "                                                                 \n",
      "=================================================================\n",
      "Total params: 1,150,323\n",
      "Trainable params: 1,150,323\n",
      "Non-trainable params: 0\n",
      "_________________________________________________________________\n"
     ]
    }
   ],
   "source": [
    "model = models.Sequential(\n",
    "    [\n",
    "        layers.Input(shape=(X_time_train.shape[1],1)),\n",
    "        layers.Conv1D(32, 10, strides=3, activation='relu'),\n",
    "        layers.MaxPool1D(pool_size=3, strides=3),\n",
    "        layers.Conv1D(16, 5, strides=2, activation='relu'),\n",
    "        layers.MaxPool1D(pool_size=2, strides=2),\n",
    "        #layers.SpatialDropout1D(0.6),\n",
    "        layers.Flatten(),\n",
    "        layers.Dense(256, activation='linear'),\n",
    "        layers.Dense(64, activation='linear'),\n",
    "        layers.Dropout(0.6),\n",
    "        layers.Dense(3, activation=\"softmax\")\n",
    "    ]\n",
    ")\n",
    "\n",
    "model.summary()"
   ]
  },
  {
   "cell_type": "code",
   "execution_count": null,
   "metadata": {},
   "outputs": [
    {
     "name": "stdout",
     "output_type": "stream",
     "text": [
      "Epoch 1/100\n",
      "8/8 [==============================] - 4s 251ms/step - loss: 1.0880 - accuracy: 0.4103 - val_loss: 1.2376 - val_accuracy: 0.0000e+00\n",
      "Epoch 2/100\n",
      "8/8 [==============================] - 1s 179ms/step - loss: 1.0805 - accuracy: 0.3868 - val_loss: 1.4057 - val_accuracy: 0.0000e+00\n",
      "Epoch 3/100\n",
      "8/8 [==============================] - 1s 181ms/step - loss: 1.0521 - accuracy: 0.4444 - val_loss: 1.4197 - val_accuracy: 0.0000e+00\n",
      "Epoch 4/100\n",
      "8/8 [==============================] - 1s 177ms/step - loss: 0.9872 - accuracy: 0.5150 - val_loss: 1.0467 - val_accuracy: 0.0962\n",
      "Epoch 5/100\n",
      "8/8 [==============================] - 1s 170ms/step - loss: 0.8504 - accuracy: 0.6581 - val_loss: 0.9570 - val_accuracy: 0.4231\n",
      "Epoch 6/100\n",
      "8/8 [==============================] - 1s 180ms/step - loss: 0.7239 - accuracy: 0.7350 - val_loss: 1.4217 - val_accuracy: 0.0769\n",
      "Epoch 7/100\n",
      "8/8 [==============================] - 2s 209ms/step - loss: 0.6256 - accuracy: 0.7415 - val_loss: 1.1101 - val_accuracy: 0.2115\n",
      "Epoch 8/100\n",
      "8/8 [==============================] - 2s 253ms/step - loss: 0.5340 - accuracy: 0.7885 - val_loss: 1.0797 - val_accuracy: 0.1538\n",
      "Epoch 9/100\n",
      "8/8 [==============================] - 2s 234ms/step - loss: 0.4367 - accuracy: 0.8205 - val_loss: 1.4973 - val_accuracy: 0.0769\n",
      "Epoch 10/100\n",
      "8/8 [==============================] - 2s 220ms/step - loss: 0.3934 - accuracy: 0.8462 - val_loss: 0.7503 - val_accuracy: 0.5000\n",
      "Epoch 11/100\n",
      "8/8 [==============================] - 2s 197ms/step - loss: 0.3543 - accuracy: 0.8654 - val_loss: 2.3777 - val_accuracy: 0.0577\n",
      "Epoch 12/100\n",
      "8/8 [==============================] - 2s 200ms/step - loss: 0.4412 - accuracy: 0.7970 - val_loss: 0.3614 - val_accuracy: 0.8846\n",
      "Epoch 13/100\n",
      "8/8 [==============================] - 1s 175ms/step - loss: 0.4243 - accuracy: 0.8226 - val_loss: 1.0920 - val_accuracy: 0.2885\n",
      "Epoch 14/100\n",
      "8/8 [==============================] - 2s 297ms/step - loss: 0.3421 - accuracy: 0.8568 - val_loss: 0.7427 - val_accuracy: 0.5192\n",
      "Epoch 15/100\n",
      "8/8 [==============================] - 2s 250ms/step - loss: 0.2934 - accuracy: 0.8889 - val_loss: 1.2765 - val_accuracy: 0.1923\n",
      "Epoch 16/100\n",
      "8/8 [==============================] - 2s 240ms/step - loss: 0.2793 - accuracy: 0.9017 - val_loss: 1.0360 - val_accuracy: 0.4038\n",
      "Epoch 17/100\n",
      "8/8 [==============================] - 2s 196ms/step - loss: 0.2673 - accuracy: 0.9017 - val_loss: 0.7470 - val_accuracy: 0.5577\n",
      "Epoch 18/100\n",
      "8/8 [==============================] - 1s 183ms/step - loss: 0.2983 - accuracy: 0.8803 - val_loss: 0.9188 - val_accuracy: 0.5000\n",
      "Epoch 19/100\n",
      "8/8 [==============================] - 2s 197ms/step - loss: 0.2679 - accuracy: 0.9017 - val_loss: 0.6507 - val_accuracy: 0.6346\n",
      "Epoch 20/100\n",
      "8/8 [==============================] - 2s 202ms/step - loss: 0.2966 - accuracy: 0.8932 - val_loss: 0.7888 - val_accuracy: 0.5577\n",
      "Epoch 21/100\n",
      "8/8 [==============================] - 2s 218ms/step - loss: 0.2564 - accuracy: 0.8996 - val_loss: 0.8608 - val_accuracy: 0.5192\n",
      "Epoch 22/100\n",
      "8/8 [==============================] - 2s 239ms/step - loss: 0.2190 - accuracy: 0.9252 - val_loss: 0.9215 - val_accuracy: 0.5000\n",
      "Epoch 23/100\n",
      "8/8 [==============================] - 2s 207ms/step - loss: 0.2386 - accuracy: 0.9081 - val_loss: 1.3710 - val_accuracy: 0.3462\n",
      "Epoch 24/100\n",
      "8/8 [==============================] - 2s 191ms/step - loss: 0.2515 - accuracy: 0.9038 - val_loss: 1.1962 - val_accuracy: 0.4423\n",
      "Epoch 25/100\n",
      "8/8 [==============================] - 1s 178ms/step - loss: 0.2340 - accuracy: 0.9167 - val_loss: 0.9711 - val_accuracy: 0.5192\n",
      "Epoch 26/100\n",
      "8/8 [==============================] - 1s 174ms/step - loss: 0.2293 - accuracy: 0.9103 - val_loss: 1.2174 - val_accuracy: 0.4808\n",
      "Epoch 27/100\n",
      "8/8 [==============================] - 2s 195ms/step - loss: 0.2232 - accuracy: 0.9316 - val_loss: 1.1496 - val_accuracy: 0.4808\n",
      "Epoch 28/100\n",
      "8/8 [==============================] - 2s 193ms/step - loss: 0.2251 - accuracy: 0.9209 - val_loss: 0.9128 - val_accuracy: 0.5385\n",
      "Epoch 29/100\n",
      "8/8 [==============================] - 2s 192ms/step - loss: 0.2172 - accuracy: 0.9231 - val_loss: 1.2117 - val_accuracy: 0.4615\n",
      "Epoch 30/100\n",
      "8/8 [==============================] - 2s 220ms/step - loss: 0.2269 - accuracy: 0.9209 - val_loss: 1.2792 - val_accuracy: 0.4231\n",
      "Epoch 31/100\n",
      "8/8 [==============================] - 2s 226ms/step - loss: 0.2245 - accuracy: 0.9188 - val_loss: 0.9693 - val_accuracy: 0.5192\n",
      "Epoch 32/100\n",
      "8/8 [==============================] - 2s 245ms/step - loss: 0.2408 - accuracy: 0.9167 - val_loss: 0.7692 - val_accuracy: 0.5962\n",
      "Epoch 33/100\n",
      "8/8 [==============================] - 2s 283ms/step - loss: 0.2128 - accuracy: 0.9316 - val_loss: 0.4744 - val_accuracy: 0.7692\n",
      "Epoch 34/100\n",
      "8/8 [==============================] - 2s 275ms/step - loss: 0.2900 - accuracy: 0.8889 - val_loss: 0.9704 - val_accuracy: 0.5192\n",
      "Epoch 35/100\n",
      "8/8 [==============================] - 2s 225ms/step - loss: 0.2305 - accuracy: 0.9167 - val_loss: 0.7686 - val_accuracy: 0.5577\n",
      "Epoch 36/100\n",
      "8/8 [==============================] - 2s 207ms/step - loss: 0.2136 - accuracy: 0.9209 - val_loss: 0.7912 - val_accuracy: 0.5577\n",
      "Epoch 37/100\n",
      "8/8 [==============================] - 2s 213ms/step - loss: 0.1961 - accuracy: 0.9295 - val_loss: 0.8102 - val_accuracy: 0.5385\n",
      "Epoch 38/100\n",
      "8/8 [==============================] - 2s 210ms/step - loss: 0.1954 - accuracy: 0.9316 - val_loss: 0.7601 - val_accuracy: 0.5577\n",
      "Epoch 39/100\n",
      "8/8 [==============================] - 2s 203ms/step - loss: 0.2021 - accuracy: 0.9316 - val_loss: 0.7237 - val_accuracy: 0.6154\n",
      "Epoch 40/100\n",
      "8/8 [==============================] - 2s 277ms/step - loss: 0.2027 - accuracy: 0.9231 - val_loss: 0.8333 - val_accuracy: 0.5577\n",
      "Epoch 41/100\n",
      "8/8 [==============================] - 2s 222ms/step - loss: 0.1934 - accuracy: 0.9338 - val_loss: 1.1674 - val_accuracy: 0.4615\n",
      "Epoch 42/100\n",
      "8/8 [==============================] - 2s 227ms/step - loss: 0.1839 - accuracy: 0.9402 - val_loss: 0.9049 - val_accuracy: 0.5577\n",
      "Epoch 43/100\n",
      "8/8 [==============================] - 2s 207ms/step - loss: 0.1830 - accuracy: 0.9466 - val_loss: 0.8784 - val_accuracy: 0.5577\n",
      "Epoch 44/100\n",
      "8/8 [==============================] - 2s 205ms/step - loss: 0.1777 - accuracy: 0.9338 - val_loss: 1.1518 - val_accuracy: 0.4808\n",
      "Epoch 45/100\n",
      "8/8 [==============================] - 2s 197ms/step - loss: 0.1711 - accuracy: 0.9530 - val_loss: 0.6998 - val_accuracy: 0.6346\n",
      "Epoch 46/100\n",
      "8/8 [==============================] - 2s 217ms/step - loss: 0.1774 - accuracy: 0.9530 - val_loss: 1.3967 - val_accuracy: 0.4038\n",
      "Epoch 47/100\n",
      "8/8 [==============================] - 2s 217ms/step - loss: 0.1607 - accuracy: 0.9423 - val_loss: 0.7555 - val_accuracy: 0.6154\n",
      "Epoch 48/100\n",
      "8/8 [==============================] - 2s 228ms/step - loss: 0.1759 - accuracy: 0.9380 - val_loss: 1.0487 - val_accuracy: 0.5577\n",
      "Epoch 49/100\n",
      "8/8 [==============================] - 2s 262ms/step - loss: 0.1769 - accuracy: 0.9380 - val_loss: 0.7984 - val_accuracy: 0.6538\n",
      "Epoch 50/100\n",
      "8/8 [==============================] - 2s 236ms/step - loss: 0.1478 - accuracy: 0.9594 - val_loss: 0.5653 - val_accuracy: 0.7115\n",
      "Epoch 51/100\n",
      "8/8 [==============================] - 2s 230ms/step - loss: 0.1842 - accuracy: 0.9252 - val_loss: 0.8833 - val_accuracy: 0.5769\n",
      "Epoch 52/100\n",
      "8/8 [==============================] - 2s 246ms/step - loss: 0.1454 - accuracy: 0.9444 - val_loss: 0.9218 - val_accuracy: 0.5769\n",
      "Epoch 53/100\n",
      "8/8 [==============================] - 2s 202ms/step - loss: 0.1722 - accuracy: 0.9274 - val_loss: 1.1711 - val_accuracy: 0.5192\n",
      "Epoch 54/100\n",
      "8/8 [==============================] - 2s 222ms/step - loss: 0.1657 - accuracy: 0.9444 - val_loss: 1.1051 - val_accuracy: 0.5577\n",
      "Epoch 55/100\n",
      "8/8 [==============================] - 2s 204ms/step - loss: 0.1401 - accuracy: 0.9615 - val_loss: 0.2959 - val_accuracy: 0.8846\n",
      "Epoch 56/100\n",
      "8/8 [==============================] - 2s 200ms/step - loss: 0.2290 - accuracy: 0.9124 - val_loss: 0.4285 - val_accuracy: 0.7692\n",
      "Epoch 57/100\n",
      "8/8 [==============================] - 2s 211ms/step - loss: 0.1833 - accuracy: 0.9252 - val_loss: 0.8737 - val_accuracy: 0.5769\n",
      "Epoch 58/100\n",
      "8/8 [==============================] - 2s 214ms/step - loss: 0.1435 - accuracy: 0.9487 - val_loss: 1.3273 - val_accuracy: 0.4423\n",
      "Epoch 59/100\n",
      "8/8 [==============================] - 2s 225ms/step - loss: 0.1600 - accuracy: 0.9444 - val_loss: 1.1009 - val_accuracy: 0.5192\n",
      "Epoch 60/100\n",
      "8/8 [==============================] - 2s 210ms/step - loss: 0.1451 - accuracy: 0.9551 - val_loss: 0.7823 - val_accuracy: 0.6346\n",
      "Epoch 61/100\n",
      "8/8 [==============================] - 2s 238ms/step - loss: 0.1471 - accuracy: 0.9594 - val_loss: 0.7496 - val_accuracy: 0.6154\n",
      "Epoch 62/100\n",
      "8/8 [==============================] - 2s 220ms/step - loss: 0.1594 - accuracy: 0.9423 - val_loss: 1.0580 - val_accuracy: 0.5577\n",
      "Epoch 63/100\n",
      "8/8 [==============================] - 2s 200ms/step - loss: 0.1361 - accuracy: 0.9509 - val_loss: 0.6596 - val_accuracy: 0.6923\n",
      "Epoch 64/100\n",
      "8/8 [==============================] - 2s 215ms/step - loss: 0.1621 - accuracy: 0.9252 - val_loss: 1.9103 - val_accuracy: 0.3462\n",
      "Epoch 65/100\n",
      "8/8 [==============================] - 2s 202ms/step - loss: 0.1839 - accuracy: 0.9252 - val_loss: 1.2740 - val_accuracy: 0.4808\n",
      "Epoch 66/100\n",
      "8/8 [==============================] - 2s 191ms/step - loss: 0.1560 - accuracy: 0.9573 - val_loss: 1.7505 - val_accuracy: 0.3269\n",
      "Epoch 67/100\n",
      "8/8 [==============================] - 1s 175ms/step - loss: 0.1475 - accuracy: 0.9231 - val_loss: 1.5631 - val_accuracy: 0.4038\n",
      "Epoch 68/100\n",
      "8/8 [==============================] - 1s 178ms/step - loss: 0.1498 - accuracy: 0.9466 - val_loss: 1.2139 - val_accuracy: 0.4808\n",
      "Epoch 69/100\n",
      "8/8 [==============================] - 2s 207ms/step - loss: 0.1587 - accuracy: 0.9380 - val_loss: 1.2763 - val_accuracy: 0.5192\n",
      "Epoch 70/100\n",
      "8/8 [==============================] - 2s 214ms/step - loss: 0.1340 - accuracy: 0.9509 - val_loss: 1.2011 - val_accuracy: 0.5385\n",
      "Epoch 71/100\n",
      "8/8 [==============================] - 2s 237ms/step - loss: 0.1430 - accuracy: 0.9380 - val_loss: 0.7020 - val_accuracy: 0.6538\n",
      "Epoch 72/100\n",
      "8/8 [==============================] - 2s 240ms/step - loss: 0.1414 - accuracy: 0.9466 - val_loss: 1.0403 - val_accuracy: 0.5577\n",
      "Epoch 73/100\n",
      "8/8 [==============================] - 2s 201ms/step - loss: 0.1320 - accuracy: 0.9594 - val_loss: 0.7924 - val_accuracy: 0.6154\n",
      "Epoch 74/100\n",
      "8/8 [==============================] - 2s 214ms/step - loss: 0.1332 - accuracy: 0.9509 - val_loss: 0.7676 - val_accuracy: 0.6346\n",
      "Epoch 75/100\n",
      "8/8 [==============================] - 2s 186ms/step - loss: 0.1303 - accuracy: 0.9444 - val_loss: 0.6181 - val_accuracy: 0.7115\n",
      "Epoch 76/100\n",
      "8/8 [==============================] - 2s 199ms/step - loss: 0.1576 - accuracy: 0.9466 - val_loss: 1.6580 - val_accuracy: 0.4038\n",
      "Epoch 77/100\n",
      "8/8 [==============================] - 2s 192ms/step - loss: 0.1265 - accuracy: 0.9573 - val_loss: 1.1247 - val_accuracy: 0.5577\n",
      "Epoch 78/100\n",
      "8/8 [==============================] - 2s 195ms/step - loss: 0.1093 - accuracy: 0.9637 - val_loss: 1.3216 - val_accuracy: 0.5192\n",
      "Epoch 79/100\n",
      "8/8 [==============================] - 2s 200ms/step - loss: 0.1292 - accuracy: 0.9487 - val_loss: 1.3052 - val_accuracy: 0.5192\n",
      "Epoch 80/100\n",
      "8/8 [==============================] - 2s 210ms/step - loss: 0.1439 - accuracy: 0.9615 - val_loss: 1.0335 - val_accuracy: 0.5769\n",
      "Epoch 81/100\n",
      "8/8 [==============================] - 2s 208ms/step - loss: 0.1467 - accuracy: 0.9423 - val_loss: 1.0581 - val_accuracy: 0.5577\n",
      "Epoch 82/100\n",
      "8/8 [==============================] - 2s 233ms/step - loss: 0.1533 - accuracy: 0.9466 - val_loss: 0.5659 - val_accuracy: 0.7115\n",
      "Epoch 83/100\n",
      "8/8 [==============================] - 2s 258ms/step - loss: 0.1331 - accuracy: 0.9530 - val_loss: 0.5316 - val_accuracy: 0.7308\n",
      "Epoch 84/100\n",
      "8/8 [==============================] - ETA: 0s - loss: 0.1289 - accuracy: 0.9573"
     ]
    },
    {
     "ename": "KeyboardInterrupt",
     "evalue": "",
     "output_type": "error",
     "traceback": [
      "\u001b[1;31m---------------------------------------------------------------------------\u001b[0m",
      "\u001b[1;31mKeyboardInterrupt\u001b[0m                         Traceback (most recent call last)",
      "\u001b[1;32m~\\AppData\\Local\\Temp\\ipykernel_16652\\2033282325.py\u001b[0m in \u001b[0;36m<module>\u001b[1;34m\u001b[0m\n\u001b[0;32m      7\u001b[0m                     \u001b[0mbatch_size\u001b[0m\u001b[1;33m=\u001b[0m\u001b[1;36m64\u001b[0m\u001b[1;33m,\u001b[0m\u001b[1;33m\u001b[0m\u001b[1;33m\u001b[0m\u001b[0m\n\u001b[0;32m      8\u001b[0m                     \u001b[0mepochs\u001b[0m\u001b[1;33m=\u001b[0m\u001b[1;36m100\u001b[0m\u001b[1;33m,\u001b[0m\u001b[1;33m\u001b[0m\u001b[1;33m\u001b[0m\u001b[0m\n\u001b[1;32m----> 9\u001b[1;33m                     \u001b[0mvalidation_split\u001b[0m\u001b[1;33m=\u001b[0m\u001b[1;36m0.1\u001b[0m\u001b[1;33m,\u001b[0m\u001b[1;33m\u001b[0m\u001b[1;33m\u001b[0m\u001b[0m\n\u001b[0m\u001b[0;32m     10\u001b[0m                     )\n",
      "\u001b[1;32m~\\AppData\\Local\\Packages\\PythonSoftwareFoundation.Python.3.7_qbz5n2kfra8p0\\LocalCache\\local-packages\\Python37\\site-packages\\keras\\utils\\traceback_utils.py\u001b[0m in \u001b[0;36merror_handler\u001b[1;34m(*args, **kwargs)\u001b[0m\n\u001b[0;32m     63\u001b[0m         \u001b[0mfiltered_tb\u001b[0m \u001b[1;33m=\u001b[0m \u001b[1;32mNone\u001b[0m\u001b[1;33m\u001b[0m\u001b[1;33m\u001b[0m\u001b[0m\n\u001b[0;32m     64\u001b[0m         \u001b[1;32mtry\u001b[0m\u001b[1;33m:\u001b[0m\u001b[1;33m\u001b[0m\u001b[1;33m\u001b[0m\u001b[0m\n\u001b[1;32m---> 65\u001b[1;33m             \u001b[1;32mreturn\u001b[0m \u001b[0mfn\u001b[0m\u001b[1;33m(\u001b[0m\u001b[1;33m*\u001b[0m\u001b[0margs\u001b[0m\u001b[1;33m,\u001b[0m \u001b[1;33m**\u001b[0m\u001b[0mkwargs\u001b[0m\u001b[1;33m)\u001b[0m\u001b[1;33m\u001b[0m\u001b[1;33m\u001b[0m\u001b[0m\n\u001b[0m\u001b[0;32m     66\u001b[0m         \u001b[1;32mexcept\u001b[0m \u001b[0mException\u001b[0m \u001b[1;32mas\u001b[0m \u001b[0me\u001b[0m\u001b[1;33m:\u001b[0m\u001b[1;33m\u001b[0m\u001b[1;33m\u001b[0m\u001b[0m\n\u001b[0;32m     67\u001b[0m             \u001b[0mfiltered_tb\u001b[0m \u001b[1;33m=\u001b[0m \u001b[0m_process_traceback_frames\u001b[0m\u001b[1;33m(\u001b[0m\u001b[0me\u001b[0m\u001b[1;33m.\u001b[0m\u001b[0m__traceback__\u001b[0m\u001b[1;33m)\u001b[0m\u001b[1;33m\u001b[0m\u001b[1;33m\u001b[0m\u001b[0m\n",
      "\u001b[1;32m~\\AppData\\Local\\Packages\\PythonSoftwareFoundation.Python.3.7_qbz5n2kfra8p0\\LocalCache\\local-packages\\Python37\\site-packages\\keras\\engine\\training.py\u001b[0m in \u001b[0;36mfit\u001b[1;34m(self, x, y, batch_size, epochs, verbose, callbacks, validation_split, validation_data, shuffle, class_weight, sample_weight, initial_epoch, steps_per_epoch, validation_steps, validation_batch_size, validation_freq, max_queue_size, workers, use_multiprocessing)\u001b[0m\n\u001b[0;32m   1703\u001b[0m                         \u001b[0muse_multiprocessing\u001b[0m\u001b[1;33m=\u001b[0m\u001b[0muse_multiprocessing\u001b[0m\u001b[1;33m,\u001b[0m\u001b[1;33m\u001b[0m\u001b[1;33m\u001b[0m\u001b[0m\n\u001b[0;32m   1704\u001b[0m                         \u001b[0mreturn_dict\u001b[0m\u001b[1;33m=\u001b[0m\u001b[1;32mTrue\u001b[0m\u001b[1;33m,\u001b[0m\u001b[1;33m\u001b[0m\u001b[1;33m\u001b[0m\u001b[0m\n\u001b[1;32m-> 1705\u001b[1;33m                         \u001b[0m_use_cached_eval_dataset\u001b[0m\u001b[1;33m=\u001b[0m\u001b[1;32mTrue\u001b[0m\u001b[1;33m,\u001b[0m\u001b[1;33m\u001b[0m\u001b[1;33m\u001b[0m\u001b[0m\n\u001b[0m\u001b[0;32m   1706\u001b[0m                     )\n\u001b[0;32m   1707\u001b[0m                     val_logs = {\n",
      "\u001b[1;32m~\\AppData\\Local\\Packages\\PythonSoftwareFoundation.Python.3.7_qbz5n2kfra8p0\\LocalCache\\local-packages\\Python37\\site-packages\\keras\\utils\\traceback_utils.py\u001b[0m in \u001b[0;36merror_handler\u001b[1;34m(*args, **kwargs)\u001b[0m\n\u001b[0;32m     63\u001b[0m         \u001b[0mfiltered_tb\u001b[0m \u001b[1;33m=\u001b[0m \u001b[1;32mNone\u001b[0m\u001b[1;33m\u001b[0m\u001b[1;33m\u001b[0m\u001b[0m\n\u001b[0;32m     64\u001b[0m         \u001b[1;32mtry\u001b[0m\u001b[1;33m:\u001b[0m\u001b[1;33m\u001b[0m\u001b[1;33m\u001b[0m\u001b[0m\n\u001b[1;32m---> 65\u001b[1;33m             \u001b[1;32mreturn\u001b[0m \u001b[0mfn\u001b[0m\u001b[1;33m(\u001b[0m\u001b[1;33m*\u001b[0m\u001b[0margs\u001b[0m\u001b[1;33m,\u001b[0m \u001b[1;33m**\u001b[0m\u001b[0mkwargs\u001b[0m\u001b[1;33m)\u001b[0m\u001b[1;33m\u001b[0m\u001b[1;33m\u001b[0m\u001b[0m\n\u001b[0m\u001b[0;32m     66\u001b[0m         \u001b[1;32mexcept\u001b[0m \u001b[0mException\u001b[0m \u001b[1;32mas\u001b[0m \u001b[0me\u001b[0m\u001b[1;33m:\u001b[0m\u001b[1;33m\u001b[0m\u001b[1;33m\u001b[0m\u001b[0m\n\u001b[0;32m     67\u001b[0m             \u001b[0mfiltered_tb\u001b[0m \u001b[1;33m=\u001b[0m \u001b[0m_process_traceback_frames\u001b[0m\u001b[1;33m(\u001b[0m\u001b[0me\u001b[0m\u001b[1;33m.\u001b[0m\u001b[0m__traceback__\u001b[0m\u001b[1;33m)\u001b[0m\u001b[1;33m\u001b[0m\u001b[1;33m\u001b[0m\u001b[0m\n",
      "\u001b[1;32m~\\AppData\\Local\\Packages\\PythonSoftwareFoundation.Python.3.7_qbz5n2kfra8p0\\LocalCache\\local-packages\\Python37\\site-packages\\keras\\engine\\training.py\u001b[0m in \u001b[0;36mevaluate\u001b[1;34m(self, x, y, batch_size, verbose, sample_weight, steps, callbacks, max_queue_size, workers, use_multiprocessing, return_dict, **kwargs)\u001b[0m\n\u001b[0;32m   2030\u001b[0m             \u001b[0mself\u001b[0m\u001b[1;33m.\u001b[0m\u001b[0m_test_counter\u001b[0m\u001b[1;33m.\u001b[0m\u001b[0massign\u001b[0m\u001b[1;33m(\u001b[0m\u001b[1;36m0\u001b[0m\u001b[1;33m)\u001b[0m\u001b[1;33m\u001b[0m\u001b[1;33m\u001b[0m\u001b[0m\n\u001b[0;32m   2031\u001b[0m             \u001b[0mcallbacks\u001b[0m\u001b[1;33m.\u001b[0m\u001b[0mon_test_begin\u001b[0m\u001b[1;33m(\u001b[0m\u001b[1;33m)\u001b[0m\u001b[1;33m\u001b[0m\u001b[1;33m\u001b[0m\u001b[0m\n\u001b[1;32m-> 2032\u001b[1;33m             \u001b[1;32mfor\u001b[0m \u001b[0m_\u001b[0m\u001b[1;33m,\u001b[0m \u001b[0miterator\u001b[0m \u001b[1;32min\u001b[0m \u001b[0mdata_handler\u001b[0m\u001b[1;33m.\u001b[0m\u001b[0menumerate_epochs\u001b[0m\u001b[1;33m(\u001b[0m\u001b[1;33m)\u001b[0m\u001b[1;33m:\u001b[0m  \u001b[1;31m# Single epoch.\u001b[0m\u001b[1;33m\u001b[0m\u001b[1;33m\u001b[0m\u001b[0m\n\u001b[0m\u001b[0;32m   2033\u001b[0m                 \u001b[0mself\u001b[0m\u001b[1;33m.\u001b[0m\u001b[0mreset_metrics\u001b[0m\u001b[1;33m(\u001b[0m\u001b[1;33m)\u001b[0m\u001b[1;33m\u001b[0m\u001b[1;33m\u001b[0m\u001b[0m\n\u001b[0;32m   2034\u001b[0m                 \u001b[1;32mwith\u001b[0m \u001b[0mdata_handler\u001b[0m\u001b[1;33m.\u001b[0m\u001b[0mcatch_stop_iteration\u001b[0m\u001b[1;33m(\u001b[0m\u001b[1;33m)\u001b[0m\u001b[1;33m:\u001b[0m\u001b[1;33m\u001b[0m\u001b[1;33m\u001b[0m\u001b[0m\n",
      "\u001b[1;32m~\\AppData\\Local\\Packages\\PythonSoftwareFoundation.Python.3.7_qbz5n2kfra8p0\\LocalCache\\local-packages\\Python37\\site-packages\\keras\\engine\\data_adapter.py\u001b[0m in \u001b[0;36menumerate_epochs\u001b[1;34m(self)\u001b[0m\n\u001b[0;32m   1302\u001b[0m         \u001b[1;34m\"\"\"Yields `(epoch, tf.data.Iterator)`.\"\"\"\u001b[0m\u001b[1;33m\u001b[0m\u001b[1;33m\u001b[0m\u001b[0m\n\u001b[0;32m   1303\u001b[0m         \u001b[1;32mwith\u001b[0m \u001b[0mself\u001b[0m\u001b[1;33m.\u001b[0m\u001b[0m_truncate_execution_to_epoch\u001b[0m\u001b[1;33m(\u001b[0m\u001b[1;33m)\u001b[0m\u001b[1;33m:\u001b[0m\u001b[1;33m\u001b[0m\u001b[1;33m\u001b[0m\u001b[0m\n\u001b[1;32m-> 1304\u001b[1;33m             \u001b[0mdata_iterator\u001b[0m \u001b[1;33m=\u001b[0m \u001b[0miter\u001b[0m\u001b[1;33m(\u001b[0m\u001b[0mself\u001b[0m\u001b[1;33m.\u001b[0m\u001b[0m_dataset\u001b[0m\u001b[1;33m)\u001b[0m\u001b[1;33m\u001b[0m\u001b[1;33m\u001b[0m\u001b[0m\n\u001b[0m\u001b[0;32m   1305\u001b[0m             \u001b[1;32mfor\u001b[0m \u001b[0mepoch\u001b[0m \u001b[1;32min\u001b[0m \u001b[0mrange\u001b[0m\u001b[1;33m(\u001b[0m\u001b[0mself\u001b[0m\u001b[1;33m.\u001b[0m\u001b[0m_initial_epoch\u001b[0m\u001b[1;33m,\u001b[0m \u001b[0mself\u001b[0m\u001b[1;33m.\u001b[0m\u001b[0m_epochs\u001b[0m\u001b[1;33m)\u001b[0m\u001b[1;33m:\u001b[0m\u001b[1;33m\u001b[0m\u001b[1;33m\u001b[0m\u001b[0m\n\u001b[0;32m   1306\u001b[0m                 \u001b[1;32mif\u001b[0m \u001b[0mself\u001b[0m\u001b[1;33m.\u001b[0m\u001b[0m_insufficient_data\u001b[0m\u001b[1;33m:\u001b[0m  \u001b[1;31m# Set by `catch_stop_iteration`.\u001b[0m\u001b[1;33m\u001b[0m\u001b[1;33m\u001b[0m\u001b[0m\n",
      "\u001b[1;32m~\\AppData\\Local\\Packages\\PythonSoftwareFoundation.Python.3.7_qbz5n2kfra8p0\\LocalCache\\local-packages\\Python37\\site-packages\\tensorflow\\python\\data\\ops\\dataset_ops.py\u001b[0m in \u001b[0;36m__iter__\u001b[1;34m(self)\u001b[0m\n\u001b[0;32m    497\u001b[0m     \u001b[1;32mif\u001b[0m \u001b[0mcontext\u001b[0m\u001b[1;33m.\u001b[0m\u001b[0mexecuting_eagerly\u001b[0m\u001b[1;33m(\u001b[0m\u001b[1;33m)\u001b[0m \u001b[1;32mor\u001b[0m \u001b[0mops\u001b[0m\u001b[1;33m.\u001b[0m\u001b[0minside_function\u001b[0m\u001b[1;33m(\u001b[0m\u001b[1;33m)\u001b[0m\u001b[1;33m:\u001b[0m\u001b[1;33m\u001b[0m\u001b[1;33m\u001b[0m\u001b[0m\n\u001b[0;32m    498\u001b[0m       \u001b[1;32mwith\u001b[0m \u001b[0mops\u001b[0m\u001b[1;33m.\u001b[0m\u001b[0mcolocate_with\u001b[0m\u001b[1;33m(\u001b[0m\u001b[0mself\u001b[0m\u001b[1;33m.\u001b[0m\u001b[0m_variant_tensor\u001b[0m\u001b[1;33m)\u001b[0m\u001b[1;33m:\u001b[0m\u001b[1;33m\u001b[0m\u001b[1;33m\u001b[0m\u001b[0m\n\u001b[1;32m--> 499\u001b[1;33m         \u001b[1;32mreturn\u001b[0m \u001b[0miterator_ops\u001b[0m\u001b[1;33m.\u001b[0m\u001b[0mOwnedIterator\u001b[0m\u001b[1;33m(\u001b[0m\u001b[0mself\u001b[0m\u001b[1;33m)\u001b[0m\u001b[1;33m\u001b[0m\u001b[1;33m\u001b[0m\u001b[0m\n\u001b[0m\u001b[0;32m    500\u001b[0m     \u001b[1;32melse\u001b[0m\u001b[1;33m:\u001b[0m\u001b[1;33m\u001b[0m\u001b[1;33m\u001b[0m\u001b[0m\n\u001b[0;32m    501\u001b[0m       raise RuntimeError(\"`tf.data.Dataset` only supports Python-style \"\n",
      "\u001b[1;32m~\\AppData\\Local\\Packages\\PythonSoftwareFoundation.Python.3.7_qbz5n2kfra8p0\\LocalCache\\local-packages\\Python37\\site-packages\\tensorflow\\python\\data\\ops\\iterator_ops.py\u001b[0m in \u001b[0;36m__init__\u001b[1;34m(self, dataset, components, element_spec)\u001b[0m\n\u001b[0;32m    701\u001b[0m             \u001b[1;34m\"When `dataset` is provided, `element_spec` and `components` must \"\u001b[0m\u001b[1;33m\u001b[0m\u001b[1;33m\u001b[0m\u001b[0m\n\u001b[0;32m    702\u001b[0m             \"not be specified.\")\n\u001b[1;32m--> 703\u001b[1;33m       \u001b[0mself\u001b[0m\u001b[1;33m.\u001b[0m\u001b[0m_create_iterator\u001b[0m\u001b[1;33m(\u001b[0m\u001b[0mdataset\u001b[0m\u001b[1;33m)\u001b[0m\u001b[1;33m\u001b[0m\u001b[1;33m\u001b[0m\u001b[0m\n\u001b[0m\u001b[0;32m    704\u001b[0m \u001b[1;33m\u001b[0m\u001b[0m\n\u001b[0;32m    705\u001b[0m     \u001b[0mself\u001b[0m\u001b[1;33m.\u001b[0m\u001b[0m_get_next_call_count\u001b[0m \u001b[1;33m=\u001b[0m \u001b[1;36m0\u001b[0m\u001b[1;33m\u001b[0m\u001b[1;33m\u001b[0m\u001b[0m\n",
      "\u001b[1;32m~\\AppData\\Local\\Packages\\PythonSoftwareFoundation.Python.3.7_qbz5n2kfra8p0\\LocalCache\\local-packages\\Python37\\site-packages\\tensorflow\\python\\data\\ops\\iterator_ops.py\u001b[0m in \u001b[0;36m_create_iterator\u001b[1;34m(self, dataset)\u001b[0m\n\u001b[0;32m    740\u001b[0m             self._flat_output_types)\n\u001b[0;32m    741\u001b[0m         \u001b[0mself\u001b[0m\u001b[1;33m.\u001b[0m\u001b[0m_iterator_resource\u001b[0m\u001b[1;33m.\u001b[0m\u001b[0mop\u001b[0m\u001b[1;33m.\u001b[0m\u001b[0mexperimental_set_type\u001b[0m\u001b[1;33m(\u001b[0m\u001b[0mfulltype\u001b[0m\u001b[1;33m)\u001b[0m\u001b[1;33m\u001b[0m\u001b[1;33m\u001b[0m\u001b[0m\n\u001b[1;32m--> 742\u001b[1;33m       \u001b[0mgen_dataset_ops\u001b[0m\u001b[1;33m.\u001b[0m\u001b[0mmake_iterator\u001b[0m\u001b[1;33m(\u001b[0m\u001b[0mds_variant\u001b[0m\u001b[1;33m,\u001b[0m \u001b[0mself\u001b[0m\u001b[1;33m.\u001b[0m\u001b[0m_iterator_resource\u001b[0m\u001b[1;33m)\u001b[0m\u001b[1;33m\u001b[0m\u001b[1;33m\u001b[0m\u001b[0m\n\u001b[0m\u001b[0;32m    743\u001b[0m \u001b[1;33m\u001b[0m\u001b[0m\n\u001b[0;32m    744\u001b[0m   \u001b[1;32mdef\u001b[0m \u001b[0m__iter__\u001b[0m\u001b[1;33m(\u001b[0m\u001b[0mself\u001b[0m\u001b[1;33m)\u001b[0m\u001b[1;33m:\u001b[0m\u001b[1;33m\u001b[0m\u001b[1;33m\u001b[0m\u001b[0m\n",
      "\u001b[1;32m~\\AppData\\Local\\Packages\\PythonSoftwareFoundation.Python.3.7_qbz5n2kfra8p0\\LocalCache\\local-packages\\Python37\\site-packages\\tensorflow\\python\\ops\\gen_dataset_ops.py\u001b[0m in \u001b[0;36mmake_iterator\u001b[1;34m(dataset, iterator, name)\u001b[0m\n\u001b[0;32m   3438\u001b[0m     \u001b[1;32mtry\u001b[0m\u001b[1;33m:\u001b[0m\u001b[1;33m\u001b[0m\u001b[1;33m\u001b[0m\u001b[0m\n\u001b[0;32m   3439\u001b[0m       _result = pywrap_tfe.TFE_Py_FastPathExecute(\n\u001b[1;32m-> 3440\u001b[1;33m         _ctx, \"MakeIterator\", name, dataset, iterator)\n\u001b[0m\u001b[0;32m   3441\u001b[0m       \u001b[1;32mreturn\u001b[0m \u001b[0m_result\u001b[0m\u001b[1;33m\u001b[0m\u001b[1;33m\u001b[0m\u001b[0m\n\u001b[0;32m   3442\u001b[0m     \u001b[1;32mexcept\u001b[0m \u001b[0m_core\u001b[0m\u001b[1;33m.\u001b[0m\u001b[0m_NotOkStatusException\u001b[0m \u001b[1;32mas\u001b[0m \u001b[0me\u001b[0m\u001b[1;33m:\u001b[0m\u001b[1;33m\u001b[0m\u001b[1;33m\u001b[0m\u001b[0m\n",
      "\u001b[1;31mKeyboardInterrupt\u001b[0m: "
     ]
    }
   ],
   "source": [
    "es = callbacks.EarlyStopping(monitor='val_accuracy', patience=10)\n",
    "model.compile(loss=\"categorical_crossentropy\", \n",
    "              optimizer=\"adam\", \n",
    "              metrics=[\"accuracy\"])\n",
    "\n",
    "history = model.fit(X_time_train, train_labels,\n",
    "                    batch_size=64, \n",
    "                    epochs=100, \n",
    "                    validation_split=0.1,\n",
    "                    )"
   ]
  },
  {
   "cell_type": "code",
   "execution_count": null,
   "metadata": {},
   "outputs": [],
   "source": [
    "test_labels  = utils.to_categorical(y_time_test)"
   ]
  },
  {
   "cell_type": "code",
   "execution_count": null,
   "metadata": {},
   "outputs": [
    {
     "name": "stdout",
     "output_type": "stream",
     "text": [
      "33/33 [==============================] - 0s 10ms/step - loss: 0.1781 - accuracy: 0.9385\n"
     ]
    },
    {
     "data": {
      "text/plain": [
       "(0.17814768850803375, 0.9384615421295166)"
      ]
     },
     "execution_count": 50,
     "metadata": {},
     "output_type": "execute_result"
    }
   ],
   "source": [
    "loss, acc = model.evaluate(X_time_test, test_labels, batch_size=4)\n",
    "loss,acc"
   ]
  },
  {
   "cell_type": "code",
   "execution_count": null,
   "metadata": {},
   "outputs": [
    {
     "name": "stdout",
     "output_type": "stream",
     "text": [
      "5/5 [==============================] - 0s 40ms/step\n"
     ]
    }
   ],
   "source": [
    "y_pred = np.argmax(model.predict(X_time_test), axis=1)"
   ]
  },
  {
   "cell_type": "code",
   "execution_count": null,
   "metadata": {},
   "outputs": [],
   "source": [
    "cnn_cm = confusion_matrix(y_time_test, y_pred)"
   ]
  },
  {
   "cell_type": "code",
   "execution_count": null,
   "metadata": {},
   "outputs": [
    {
     "data": {
      "image/png": "[encoded data removed]",
      "text/plain": [
       "<Figure size 640x480 with 2 Axes>"
      ]
     },
     "metadata": {},
     "output_type": "display_data"
    }
   ],
   "source": [
    "confusion_matrix_plot(cnn_cm, \"CNN\", 0)"
   ]
  },
  {
   "cell_type": "code",
   "execution_count": null,
   "metadata": {},
   "outputs": [
    {
     "name": "stdout",
     "output_type": "stream",
     "text": [
      "              precision    recall  f1-score   support\n",
      "\n",
      "         0.0       0.85      0.97      0.91        40\n",
      "         1.0       1.00      1.00      1.00        50\n",
      "         2.0       0.97      0.82      0.89        40\n",
      "\n",
      "    accuracy                           0.94       130\n",
      "   macro avg       0.94      0.93      0.93       130\n",
      "weighted avg       0.94      0.94      0.94       130\n",
      "\n"
     ]
    }
   ],
   "source": [
    "cnn_class_report = classification_report(y_time_test, y_pred)\n",
    "print(cnn_class_report)"
   ]
  }
 ],
 "metadata": {
  "kernelspec": {
   "display_name": "Python 3",
   "language": "python",
   "name": "python3"
  },
  "language_info": {
   "codemirror_mode": {
    "name": "ipython",
    "version": 3
   },
   "file_extension": ".py",
   "mimetype": "text/x-python",
   "name": "python",
   "nbconvert_exporter": "python",
   "pygments_lexer": "ipython3",
   "version": "3.7.9"
  },
  "orig_nbformat": 4,
  "vscode": {
   "interpreter": {
    "hash": "9f79606e34b3657ca7e79b69d16ce71d6cda752753ffec416cd0e9c51f24d40b"
   }
  }
 },
 "nbformat": 4,
 "nbformat_minor": 2
}
