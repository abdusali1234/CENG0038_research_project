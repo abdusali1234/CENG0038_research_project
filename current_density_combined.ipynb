{
 "cells": [
  {
   "cell_type": "code",
   "execution_count": 1,
   "metadata": {},
   "outputs": [],
   "source": [
    "import numpy as np\n",
    "import matplotlib.pyplot as plt\n",
    "import matplotlib\n",
    "\n",
    "matplotlib.rcParams['mathtext.fontset'] = 'cm'\n",
    "matplotlib.rcParams['font.family'] = 'STIXGeneral'"
   ]
  },
  {
   "cell_type": "code",
   "execution_count": 2,
   "metadata": {},
   "outputs": [],
   "source": [
    "# load data obtained from each operating conditions at all current densities\n",
    "as_600 = np.load(\"Data/wrangled_data/as_600.npy\")\n",
    "cs_600 = np.load(\"Data/wrangled_data/cs_600.npy\")\n",
    "normal_600 = np.load(\"Data/wrangled_data/normal_600.npy\")\n",
    "\n",
    "as_700 = np.load(\"Data/wrangled_data/as_700.npy\")\n",
    "cs_700 = np.load(\"Data/wrangled_data/cs_700.npy\")\n",
    "normal_700 = np.load(\"Data/wrangled_data/normal_700.npy\")\n",
    "\n",
    "as_800 = np.load(\"Data/wrangled_data/as_800.npy\")\n",
    "cs_800 = np.load(\"Data/wrangled_data/cs_800.npy\")\n",
    "normal_800 = np.load(\"Data/wrangled_data/normal_800.npy\")"
   ]
  },
  {
   "cell_type": "code",
   "execution_count": 3,
   "metadata": {},
   "outputs": [],
   "source": [
    "# Create labels for each SoH\n",
    "label_AS = np.zeros(as_600.shape[0]+as_700.shape[0]+as_800.shape[0])\n",
    "label_normal = np.ones(normal_600.shape[0]+normal_700.shape[0]+normal_800.shape[0])\n",
    "label_CS = np.ones(cs_600.shape[0]+cs_700.shape[0]+cs_800.shape[0]) * 2"
   ]
  },
  {
   "cell_type": "code",
   "execution_count": 4,
   "metadata": {},
   "outputs": [],
   "source": [
    "anode_star = np.vstack((as_600, as_700, as_800))\n",
    "normal = np.vstack((normal_600, normal_700, normal_800))\n",
    "cathode_star = np.vstack((cs_600, cs_700, cs_800))\n",
    "X = np.vstack((anode_star, normal, cathode_star))\n",
    "Y = np.hstack((label_AS, label_normal, label_CS))"
   ]
  },
  {
   "cell_type": "code",
   "execution_count": 5,
   "metadata": {},
   "outputs": [],
   "source": [
    "train_split = 0.80"
   ]
  },
  {
   "cell_type": "code",
   "execution_count": 6,
   "metadata": {},
   "outputs": [],
   "source": [
    "# chronological split\n",
    "\n",
    "as_train = np.vstack((as_600[0:round(as_600.shape[0] * train_split), :],\n",
    "                      as_700[0:round(as_700.shape[0] * train_split), :],\n",
    "                      as_800[0:round(cs_800.shape[0] * train_split), :]),\n",
    "                    )\n",
    "\n",
    "cs_train = np.vstack((cs_600[0:round(cs_600.shape[0] * train_split), :],\n",
    "                      cs_700[0:round(cs_700.shape[0] * train_split), :],\n",
    "                      cs_800[0:round(cs_800.shape[0] * train_split), :]),\n",
    "                    )\n",
    "\n",
    "normal_train = np.vstack((normal_600[0:round(normal_600.shape[0] * train_split), :],\n",
    "                          normal_700[0:round(normal_700.shape[0] * train_split), :],\n",
    "                          normal_800[0:round(normal_800.shape[0] * train_split), :]),\n",
    "                        )\n",
    "\n",
    "\n",
    "                                 \n",
    "\n",
    "X_time_train = np.vstack((as_train, normal_train, cs_train))\n",
    "\n",
    "\n",
    "y_time_train = np.hstack((np.hstack((label_AS[0:round(label_AS.shape[0] * train_split)],\n",
    "                                    label_normal[0:round(label_normal.shape[0] * train_split)])),\n",
    "                                    label_CS[0:round(label_CS.shape[0] * train_split)]))\n",
    "\n",
    "\n",
    "as_test = np.vstack((as_600[round(as_600.shape[0] * train_split):, :],\n",
    "                     as_700[round(as_700.shape[0] * train_split):, :],\n",
    "                     as_800[round(cs_800.shape[0] * train_split):, :]),\n",
    "                    )\n",
    "\n",
    "normal_test = np.vstack((normal_600[round(normal_600.shape[0] * train_split):, :],\n",
    "                         normal_700[round(normal_700.shape[0] * train_split):, :],\n",
    "                         normal_800[round(normal_800.shape[0] * train_split):, :]),\n",
    "                    )\n",
    "\n",
    "cs_test = np.vstack((cs_600[round(cs_600.shape[0] * train_split):, :],\n",
    "                     cs_700[round(cs_700.shape[0] * train_split):, :],\n",
    "                     cs_800[round(cs_800.shape[0] * train_split):, :]),\n",
    "                    )\n",
    "\n",
    "X_time_test = np.vstack((as_test, normal_test, cs_test))\n",
    "\n",
    "\n",
    "y_time_test = np.hstack((np.hstack((label_AS[round(label_AS.shape[0] * train_split):],\n",
    "                                    label_normal[round(label_normal.shape[0] * train_split):])),\n",
    "                                    label_CS[round(label_CS.shape[0] * train_split):]))"
   ]
  },
  {
   "cell_type": "code",
   "execution_count": 7,
   "metadata": {},
   "outputs": [],
   "source": [
    "from sklearn.metrics import roc_auc_score, roc_curve, auc, classification_report, confusion_matrix, accuracy_score\n",
    "from sklearn.ensemble import RandomForestClassifier\n",
    "from sklearn.preprocessing import label_binarize\n",
    "from sklearn.multiclass import OneVsRestClassifier\n",
    "import seaborn as sns\n",
    "from sklearn.model_selection import train_test_split\n",
    "from sklearn.svm import SVC\n",
    "from sklearn.pipeline import make_pipeline\n",
    "from sklearn.preprocessing import StandardScaler\n",
    "from sklearn.neighbors import KNeighborsClassifier\n",
    "from sklearn.model_selection import GridSearchCV, TimeSeriesSplit\n"
   ]
  },
  {
   "cell_type": "code",
   "execution_count": 8,
   "metadata": {},
   "outputs": [],
   "source": [
    "def confusion_matrix_plot(conf_mat: np.ndarray, model_name: str, split_type: int) -> plt.Figure:\n",
    "    ax = plt.axes()\n",
    "    sns.heatmap(np.array(conf_mat), annot=True, cmap=\"BuGn\", fmt=\"g\")\n",
    "\n",
    "\n",
    "    ax.set_xlabel(\"Predicted label\")\n",
    "    ax.set_ylabel(\"True label\")\n",
    "    plt.show()   \n"
   ]
  },
  {
   "cell_type": "code",
   "execution_count": 9,
   "metadata": {},
   "outputs": [
    {
     "name": "stdout",
     "output_type": "stream",
     "text": [
      "Fitting 5 folds for each of 25 candidates, totalling 125 fits\n",
      "[CV 1/5] END .......max_depth=5, n_estimators=5;, score=0.846 total time=   0.0s\n",
      "[CV 2/5] END .......max_depth=5, n_estimators=5;, score=0.600 total time=   0.4s\n",
      "[CV 3/5] END .......max_depth=5, n_estimators=5;, score=0.450 total time=   0.4s\n",
      "[CV 4/5] END .......max_depth=5, n_estimators=5;, score=0.135 total time=   0.4s\n",
      "[CV 5/5] END .......max_depth=5, n_estimators=5;, score=0.488 total time=   0.3s\n",
      "[CV 1/5] END ......max_depth=5, n_estimators=25;, score=0.846 total time=   0.0s\n",
      "[CV 2/5] END ......max_depth=5, n_estimators=25;, score=0.604 total time=   0.3s\n",
      "[CV 3/5] END ......max_depth=5, n_estimators=25;, score=0.435 total time=   0.5s\n",
      "[CV 4/5] END ......max_depth=5, n_estimators=25;, score=0.135 total time=   0.9s\n",
      "[CV 5/5] END ......max_depth=5, n_estimators=25;, score=0.527 total time=   1.4s\n",
      "[CV 1/5] END ......max_depth=5, n_estimators=50;, score=0.846 total time=   0.1s\n",
      "[CV 2/5] END ......max_depth=5, n_estimators=50;, score=0.596 total time=   0.8s\n",
      "[CV 3/5] END ......max_depth=5, n_estimators=50;, score=0.454 total time=   1.3s\n",
      "[CV 4/5] END ......max_depth=5, n_estimators=50;, score=0.131 total time=   1.6s\n",
      "[CV 5/5] END ......max_depth=5, n_estimators=50;, score=0.550 total time=   2.6s\n",
      "[CV 1/5] END ......max_depth=5, n_estimators=75;, score=0.846 total time=   0.2s\n",
      "[CV 2/5] END ......max_depth=5, n_estimators=75;, score=0.592 total time=   0.9s\n",
      "[CV 3/5] END ......max_depth=5, n_estimators=75;, score=0.442 total time=   1.7s\n",
      "[CV 4/5] END ......max_depth=5, n_estimators=75;, score=0.131 total time=   4.2s\n",
      "[CV 5/5] END ......max_depth=5, n_estimators=75;, score=0.550 total time=   3.6s\n",
      "[CV 1/5] END .....max_depth=5, n_estimators=100;, score=0.846 total time=   0.8s\n",
      "[CV 2/5] END .....max_depth=5, n_estimators=100;, score=0.592 total time=   1.3s\n",
      "[CV 3/5] END .....max_depth=5, n_estimators=100;, score=0.442 total time=   2.5s\n",
      "[CV 4/5] END .....max_depth=5, n_estimators=100;, score=0.131 total time=   6.8s\n",
      "[CV 5/5] END .....max_depth=5, n_estimators=100;, score=0.546 total time=   8.7s\n",
      "[CV 1/5] END ......max_depth=25, n_estimators=5;, score=0.846 total time=   0.2s\n",
      "[CV 2/5] END ......max_depth=25, n_estimators=5;, score=0.592 total time=   0.3s\n",
      "[CV 3/5] END ......max_depth=25, n_estimators=5;, score=0.415 total time=   0.6s\n",
      "[CV 4/5] END ......max_depth=25, n_estimators=5;, score=0.127 total time=   0.6s\n",
      "[CV 5/5] END ......max_depth=25, n_estimators=5;, score=0.719 total time=   1.2s\n",
      "[CV 1/5] END .....max_depth=25, n_estimators=25;, score=0.846 total time=   0.1s\n",
      "[CV 2/5] END .....max_depth=25, n_estimators=25;, score=0.592 total time=   0.4s\n",
      "[CV 3/5] END .....max_depth=25, n_estimators=25;, score=0.400 total time=   0.6s\n",
      "[CV 4/5] END .....max_depth=25, n_estimators=25;, score=0.119 total time=   1.1s\n",
      "[CV 5/5] END .....max_depth=25, n_estimators=25;, score=0.712 total time=   1.7s\n",
      "[CV 1/5] END .....max_depth=25, n_estimators=50;, score=0.846 total time=   0.1s\n",
      "[CV 2/5] END .....max_depth=25, n_estimators=50;, score=0.585 total time=   0.5s\n",
      "[CV 3/5] END .....max_depth=25, n_estimators=50;, score=0.412 total time=   1.0s\n",
      "[CV 4/5] END .....max_depth=25, n_estimators=50;, score=0.123 total time=   2.1s\n",
      "[CV 5/5] END .....max_depth=25, n_estimators=50;, score=0.712 total time=   3.4s\n",
      "[CV 1/5] END .....max_depth=25, n_estimators=75;, score=0.846 total time=   0.1s\n",
      "[CV 2/5] END .....max_depth=25, n_estimators=75;, score=0.588 total time=   0.7s\n",
      "[CV 3/5] END .....max_depth=25, n_estimators=75;, score=0.412 total time=   1.6s\n",
      "[CV 4/5] END .....max_depth=25, n_estimators=75;, score=0.123 total time=   3.0s\n",
      "[CV 5/5] END .....max_depth=25, n_estimators=75;, score=0.704 total time=   5.2s\n",
      "[CV 1/5] END ....max_depth=25, n_estimators=100;, score=0.846 total time=   0.2s\n",
      "[CV 2/5] END ....max_depth=25, n_estimators=100;, score=0.592 total time=   0.9s\n",
      "[CV 3/5] END ....max_depth=25, n_estimators=100;, score=0.404 total time=   2.2s\n",
      "[CV 4/5] END ....max_depth=25, n_estimators=100;, score=0.123 total time=   4.0s\n",
      "[CV 5/5] END ....max_depth=25, n_estimators=100;, score=0.700 total time=   7.0s\n",
      "[CV 1/5] END ......max_depth=50, n_estimators=5;, score=0.846 total time=   0.0s\n",
      "[CV 2/5] END ......max_depth=50, n_estimators=5;, score=0.592 total time=   0.0s\n",
      "[CV 3/5] END ......max_depth=50, n_estimators=5;, score=0.415 total time=   0.2s\n",
      "[CV 4/5] END ......max_depth=50, n_estimators=5;, score=0.127 total time=   0.2s\n",
      "[CV 5/5] END ......max_depth=50, n_estimators=5;, score=0.719 total time=   0.4s\n",
      "[CV 1/5] END .....max_depth=50, n_estimators=25;, score=0.846 total time=   0.0s\n",
      "[CV 2/5] END .....max_depth=50, n_estimators=25;, score=0.592 total time=   0.2s\n",
      "[CV 3/5] END .....max_depth=50, n_estimators=25;, score=0.400 total time=   0.5s\n",
      "[CV 4/5] END .....max_depth=50, n_estimators=25;, score=0.119 total time=   1.0s\n",
      "[CV 5/5] END .....max_depth=50, n_estimators=25;, score=0.712 total time=   1.9s\n",
      "[CV 1/5] END .....max_depth=50, n_estimators=50;, score=0.846 total time=   0.1s\n",
      "[CV 2/5] END .....max_depth=50, n_estimators=50;, score=0.585 total time=   0.5s\n",
      "[CV 3/5] END .....max_depth=50, n_estimators=50;, score=0.412 total time=   1.1s\n",
      "[CV 4/5] END .....max_depth=50, n_estimators=50;, score=0.123 total time=   2.1s\n",
      "[CV 5/5] END .....max_depth=50, n_estimators=50;, score=0.712 total time=   3.6s\n",
      "[CV 1/5] END .....max_depth=50, n_estimators=75;, score=0.846 total time=   0.1s\n",
      "[CV 2/5] END .....max_depth=50, n_estimators=75;, score=0.588 total time=   0.8s\n",
      "[CV 3/5] END .....max_depth=50, n_estimators=75;, score=0.412 total time=   1.8s\n",
      "[CV 4/5] END .....max_depth=50, n_estimators=75;, score=0.123 total time=   3.0s\n",
      "[CV 5/5] END .....max_depth=50, n_estimators=75;, score=0.704 total time=   5.2s\n",
      "[CV 1/5] END ....max_depth=50, n_estimators=100;, score=0.846 total time=   0.2s\n",
      "[CV 2/5] END ....max_depth=50, n_estimators=100;, score=0.592 total time=   0.9s\n",
      "[CV 3/5] END ....max_depth=50, n_estimators=100;, score=0.404 total time=   2.1s\n",
      "[CV 4/5] END ....max_depth=50, n_estimators=100;, score=0.123 total time=   4.1s\n",
      "[CV 5/5] END ....max_depth=50, n_estimators=100;, score=0.700 total time=   6.8s\n",
      "[CV 1/5] END ......max_depth=75, n_estimators=5;, score=0.846 total time=   0.0s\n",
      "[CV 2/5] END ......max_depth=75, n_estimators=5;, score=0.592 total time=   0.0s\n",
      "[CV 3/5] END ......max_depth=75, n_estimators=5;, score=0.415 total time=   0.1s\n",
      "[CV 4/5] END ......max_depth=75, n_estimators=5;, score=0.127 total time=   0.2s\n",
      "[CV 5/5] END ......max_depth=75, n_estimators=5;, score=0.719 total time=   0.4s\n",
      "[CV 1/5] END .....max_depth=75, n_estimators=25;, score=0.846 total time=   0.0s\n",
      "[CV 2/5] END .....max_depth=75, n_estimators=25;, score=0.592 total time=   0.2s\n",
      "[CV 3/5] END .....max_depth=75, n_estimators=25;, score=0.400 total time=   0.5s\n",
      "[CV 4/5] END .....max_depth=75, n_estimators=25;, score=0.119 total time=   1.0s\n",
      "[CV 5/5] END .....max_depth=75, n_estimators=25;, score=0.712 total time=   1.7s\n",
      "[CV 1/5] END .....max_depth=75, n_estimators=50;, score=0.846 total time=   0.1s\n",
      "[CV 2/5] END .....max_depth=75, n_estimators=50;, score=0.585 total time=   0.5s\n",
      "[CV 3/5] END .....max_depth=75, n_estimators=50;, score=0.412 total time=   1.0s\n",
      "[CV 4/5] END .....max_depth=75, n_estimators=50;, score=0.123 total time=   2.3s\n",
      "[CV 5/5] END .....max_depth=75, n_estimators=50;, score=0.712 total time=   3.4s\n",
      "[CV 1/5] END .....max_depth=75, n_estimators=75;, score=0.846 total time=   0.1s\n",
      "[CV 2/5] END .....max_depth=75, n_estimators=75;, score=0.588 total time=   0.7s\n",
      "[CV 3/5] END .....max_depth=75, n_estimators=75;, score=0.412 total time=   1.6s\n",
      "[CV 4/5] END .....max_depth=75, n_estimators=75;, score=0.123 total time=   3.0s\n",
      "[CV 5/5] END .....max_depth=75, n_estimators=75;, score=0.704 total time=   5.2s\n",
      "[CV 1/5] END ....max_depth=75, n_estimators=100;, score=0.846 total time=   0.2s\n",
      "[CV 2/5] END ....max_depth=75, n_estimators=100;, score=0.592 total time=   0.9s\n",
      "[CV 3/5] END ....max_depth=75, n_estimators=100;, score=0.404 total time=   2.3s\n",
      "[CV 4/5] END ....max_depth=75, n_estimators=100;, score=0.123 total time=   4.1s\n",
      "[CV 5/5] END ....max_depth=75, n_estimators=100;, score=0.700 total time=   7.2s\n",
      "[CV 1/5] END .....max_depth=100, n_estimators=5;, score=0.846 total time=   0.0s\n",
      "[CV 2/5] END .....max_depth=100, n_estimators=5;, score=0.592 total time=   0.0s\n",
      "[CV 3/5] END .....max_depth=100, n_estimators=5;, score=0.415 total time=   0.1s\n",
      "[CV 4/5] END .....max_depth=100, n_estimators=5;, score=0.127 total time=   0.2s\n",
      "[CV 5/5] END .....max_depth=100, n_estimators=5;, score=0.719 total time=   0.4s\n",
      "[CV 1/5] END ....max_depth=100, n_estimators=25;, score=0.846 total time=   0.0s\n",
      "[CV 2/5] END ....max_depth=100, n_estimators=25;, score=0.592 total time=   0.2s\n",
      "[CV 3/5] END ....max_depth=100, n_estimators=25;, score=0.400 total time=   0.5s\n",
      "[CV 4/5] END ....max_depth=100, n_estimators=25;, score=0.119 total time=   1.0s\n",
      "[CV 5/5] END ....max_depth=100, n_estimators=25;, score=0.712 total time=   1.8s\n",
      "[CV 1/5] END ....max_depth=100, n_estimators=50;, score=0.846 total time=   0.1s\n",
      "[CV 2/5] END ....max_depth=100, n_estimators=50;, score=0.585 total time=   0.5s\n",
      "[CV 3/5] END ....max_depth=100, n_estimators=50;, score=0.412 total time=   1.0s\n",
      "[CV 4/5] END ....max_depth=100, n_estimators=50;, score=0.123 total time=   2.2s\n",
      "[CV 5/5] END ....max_depth=100, n_estimators=50;, score=0.712 total time=   5.9s\n",
      "[CV 1/5] END ....max_depth=100, n_estimators=75;, score=0.846 total time=   0.2s\n",
      "[CV 2/5] END ....max_depth=100, n_estimators=75;, score=0.588 total time=   0.7s\n",
      "[CV 3/5] END ....max_depth=100, n_estimators=75;, score=0.412 total time=   1.8s\n",
      "[CV 4/5] END ....max_depth=100, n_estimators=75;, score=0.123 total time=   3.1s\n",
      "[CV 5/5] END ....max_depth=100, n_estimators=75;, score=0.704 total time=   5.2s\n",
      "[CV 1/5] END ...max_depth=100, n_estimators=100;, score=0.846 total time=   0.2s\n",
      "[CV 2/5] END ...max_depth=100, n_estimators=100;, score=0.592 total time=   1.0s\n",
      "[CV 3/5] END ...max_depth=100, n_estimators=100;, score=0.404 total time=   2.2s\n",
      "[CV 4/5] END ...max_depth=100, n_estimators=100;, score=0.123 total time=   4.0s\n",
      "[CV 5/5] END ...max_depth=100, n_estimators=100;, score=0.700 total time=   6.9s\n"
     ]
    },
    {
     "data": {
      "text/plain": [
       "GridSearchCV(cv=TimeSeriesSplit(gap=0, max_train_size=None, n_splits=5, test_size=None),\n",
       "             estimator=RandomForestClassifier(random_state=1234),\n",
       "             param_grid={'max_depth': [5, 25, 50, 75, 100],\n",
       "                         'n_estimators': [5, 25, 50, 75, 100]},\n",
       "             verbose=3)"
      ]
     },
     "execution_count": 9,
     "metadata": {},
     "output_type": "execute_result"
    }
   ],
   "source": [
    "rfc_param_grid = {'max_depth': [ 5, 25, 50, 75, 100], \n",
    "                  'n_estimators': [5, 25, 50, 75, 100]}\n",
    "rfc = RandomForestClassifier(random_state=1234)\n",
    "tscv = TimeSeriesSplit(n_splits=5)\n",
    "rfc_grid_search = GridSearchCV(estimator=rfc, param_grid=rfc_param_grid, cv=tscv, verbose=3)\n",
    "rfc_grid_search.fit(X_time_train, y_time_train)"
   ]
  },
  {
   "cell_type": "code",
   "execution_count": 10,
   "metadata": {},
   "outputs": [
    {
     "data": {
      "text/plain": [
       "{'max_depth': 25, 'n_estimators': 5}"
      ]
     },
     "execution_count": 10,
     "metadata": {},
     "output_type": "execute_result"
    }
   ],
   "source": [
    "rfc_grid_search.best_params_"
   ]
  },
  {
   "cell_type": "code",
   "execution_count": 11,
   "metadata": {},
   "outputs": [
    {
     "data": {
      "text/plain": [
       "RandomForestClassifier(max_depth=25, n_estimators=5, random_state=1234)"
      ]
     },
     "execution_count": 11,
     "metadata": {},
     "output_type": "execute_result"
    }
   ],
   "source": [
    "rfc_grid_search.best_estimator_"
   ]
  },
  {
   "cell_type": "code",
   "execution_count": 12,
   "metadata": {},
   "outputs": [
    {
     "name": "stdout",
     "output_type": "stream",
     "text": [
      "[[104   4  12]\n",
      " [ 14 136   0]\n",
      " [ 20   0 100]]\n",
      "Classification report: \n",
      "              precision    recall  f1-score   support\n",
      "\n",
      "         0.0       0.75      0.87      0.81       120\n",
      "         1.0       0.97      0.91      0.94       150\n",
      "         2.0       0.89      0.83      0.86       120\n",
      "\n",
      "    accuracy                           0.87       390\n",
      "   macro avg       0.87      0.87      0.87       390\n",
      "weighted avg       0.88      0.87      0.87       390\n",
      "\n",
      "Accuracy:  0.8717948717948718\n"
     ]
    },
    {
     "data": {
      "image/png": "[encoded data removed]",
      "text/plain": [
       "<Figure size 640x480 with 2 Axes>"
      ]
     },
     "metadata": {},
     "output_type": "display_data"
    }
   ],
   "source": [
    "rfc_time = make_pipeline(rfc_grid_search.best_estimator_)\n",
    "rfc_time.fit(X_time_train, y_time_train)\n",
    "y_time_pred = rfc_time.predict(X_time_test)\n",
    "y_time_pred_prob = rfc_time.predict_proba(X_time_test)\n",
    "rfc_time_result = confusion_matrix(y_time_test, y_time_pred)\n",
    "print(rfc_time_result)\n",
    "rfc_time_result1 = classification_report(y_time_test, y_time_pred)\n",
    "print(\"Classification report: \")\n",
    "print(rfc_time_result1)\n",
    "rfc_time_acc = accuracy_score(y_time_test,y_time_pred)\n",
    "print(\"Accuracy: \", rfc_time_acc)\n",
    "\n",
    "confusion_matrix_plot(rfc_time_result, \"Random Forest\", 0)\n"
   ]
  },
  {
   "cell_type": "code",
   "execution_count": 13,
   "metadata": {},
   "outputs": [
    {
     "name": "stdout",
     "output_type": "stream",
     "text": [
      "Fitting 5 folds for each of 8 candidates, totalling 40 fits\n",
      "[CV] END .................................n_neighbors=1, p=1; total time=   0.7s\n",
      "[CV] END .................................n_neighbors=1, p=1; total time=   1.5s\n",
      "[CV] END .................................n_neighbors=1, p=1; total time=   2.2s\n",
      "[CV] END .................................n_neighbors=1, p=1; total time=   2.6s\n",
      "[CV] END .................................n_neighbors=1, p=1; total time=   3.2s\n",
      "[CV] END .................................n_neighbors=1, p=2; total time=   0.0s\n",
      "[CV] END .................................n_neighbors=1, p=2; total time=   0.1s\n",
      "[CV] END .................................n_neighbors=1, p=2; total time=   0.2s\n",
      "[CV] END .................................n_neighbors=1, p=2; total time=   0.3s\n",
      "[CV] END .................................n_neighbors=1, p=2; total time=   0.3s\n",
      "[CV] END .................................n_neighbors=2, p=1; total time=   0.6s\n",
      "[CV] END .................................n_neighbors=2, p=1; total time=   1.2s\n",
      "[CV] END .................................n_neighbors=2, p=1; total time=   1.9s\n",
      "[CV] END .................................n_neighbors=2, p=1; total time=   3.7s\n",
      "[CV] END .................................n_neighbors=2, p=1; total time=   3.5s\n",
      "[CV] END .................................n_neighbors=2, p=2; total time=   0.1s\n",
      "[CV] END .................................n_neighbors=2, p=2; total time=   0.1s\n",
      "[CV] END .................................n_neighbors=2, p=2; total time=   0.2s\n",
      "[CV] END .................................n_neighbors=2, p=2; total time=   0.3s\n",
      "[CV] END .................................n_neighbors=2, p=2; total time=   0.3s\n",
      "[CV] END .................................n_neighbors=3, p=1; total time=   1.0s\n",
      "[CV] END .................................n_neighbors=3, p=1; total time=   2.1s\n",
      "[CV] END .................................n_neighbors=3, p=1; total time=   3.6s\n",
      "[CV] END .................................n_neighbors=3, p=1; total time=   3.2s\n",
      "[CV] END .................................n_neighbors=3, p=1; total time=   4.6s\n",
      "[CV] END .................................n_neighbors=3, p=2; total time=   0.0s\n",
      "[CV] END .................................n_neighbors=3, p=2; total time=   0.1s\n",
      "[CV] END .................................n_neighbors=3, p=2; total time=   0.2s\n",
      "[CV] END .................................n_neighbors=3, p=2; total time=   0.3s\n",
      "[CV] END .................................n_neighbors=3, p=2; total time=   0.5s\n",
      "[CV] END .................................n_neighbors=4, p=1; total time=   0.7s\n",
      "[CV] END .................................n_neighbors=4, p=1; total time=   2.1s\n",
      "[CV] END .................................n_neighbors=4, p=1; total time=   2.3s\n",
      "[CV] END .................................n_neighbors=4, p=1; total time=   2.8s\n",
      "[CV] END .................................n_neighbors=4, p=1; total time=   4.7s\n",
      "[CV] END .................................n_neighbors=4, p=2; total time=   0.1s\n",
      "[CV] END .................................n_neighbors=4, p=2; total time=   0.2s\n",
      "[CV] END .................................n_neighbors=4, p=2; total time=   0.2s\n",
      "[CV] END .................................n_neighbors=4, p=2; total time=   0.4s\n",
      "[CV] END .................................n_neighbors=4, p=2; total time=   0.5s\n",
      "Best p: 1\n",
      "Best n_neighbors: 3\n"
     ]
    }
   ],
   "source": [
    "# Hyper parameter tuning for knn - COMMENT OUT IF YOU DON'T WANT TO RUN (TAKES A LONG TIME)\n",
    "n_neighbors = list(range(1,5))\n",
    "p = [1,2]\n",
    "#Convert to dictionary\n",
    "hyperparameters = dict( n_neighbors=n_neighbors, p=p)\n",
    "\n",
    "#Create new KNN object\n",
    "knn_2 = KNeighborsClassifier()#Use GridSearch\n",
    "clf = GridSearchCV(knn_2, hyperparameters, cv=tscv, verbose=2)\n",
    "\n",
    "#Fit the model\n",
    "knn_grid_search = clf.fit(X_time_train,y_time_train)\n",
    "#Print The value of best Hyperparameters\n",
    "#print('Best leaf_size:', knn_grid_search.best_estimator_.get_params()['leaf_size'])\n",
    "print('Best p:', knn_grid_search.best_estimator_.get_params()['p'])\n",
    "print('Best n_neighbors:', knn_grid_search.best_estimator_.get_params()['n_neighbors'])"
   ]
  },
  {
   "cell_type": "code",
   "execution_count": 14,
   "metadata": {},
   "outputs": [
    {
     "data": {
      "text/plain": [
       "{'n_neighbors': 3, 'p': 1}"
      ]
     },
     "execution_count": 14,
     "metadata": {},
     "output_type": "execute_result"
    }
   ],
   "source": [
    "knn_grid_search.best_params_"
   ]
  },
  {
   "cell_type": "code",
   "execution_count": 15,
   "metadata": {},
   "outputs": [
    {
     "name": "stdout",
     "output_type": "stream",
     "text": [
      "Confusion Matrix: \n",
      "[[109   5   6]\n",
      " [  5 145   0]\n",
      " [ 42   0  78]]\n",
      "Classification report: \n",
      "              precision    recall  f1-score   support\n",
      "\n",
      "         0.0       0.70      0.91      0.79       120\n",
      "         1.0       0.97      0.97      0.97       150\n",
      "         2.0       0.93      0.65      0.76       120\n",
      "\n",
      "    accuracy                           0.85       390\n",
      "   macro avg       0.86      0.84      0.84       390\n",
      "weighted avg       0.87      0.85      0.85       390\n",
      "\n",
      "Accuracy:  0.8512820512820513\n"
     ]
    },
    {
     "data": {
      "image/png": "[encoded data removed]",
      "text/plain": [
       "<Figure size 640x480 with 2 Axes>"
      ]
     },
     "metadata": {},
     "output_type": "display_data"
    }
   ],
   "source": [
    "knn = make_pipeline(StandardScaler(),knn_grid_search.best_estimator_)\n",
    "knn.fit(X_time_train, y_time_train)\n",
    "y_time_pred = knn.predict(X_time_test)\n",
    "y_time_pred_prob = knn.predict_proba(X_time_test)\n",
    "knn_time_result = confusion_matrix(y_time_test, y_time_pred)\n",
    "print(\"Confusion Matrix: \")\n",
    "print(knn_time_result)\n",
    "knn_class_report = classification_report(y_time_test, y_time_pred)\n",
    "print(\"Classification report: \")\n",
    "print(knn_class_report)\n",
    "knn_acc = accuracy_score(y_time_test,y_time_pred)\n",
    "print(\"Accuracy: \",knn_acc)\n",
    "\n",
    "confusion_matrix_plot(knn_time_result, \"KNN\", 0)"
   ]
  },
  {
   "cell_type": "code",
   "execution_count": 16,
   "metadata": {},
   "outputs": [
    {
     "name": "stdout",
     "output_type": "stream",
     "text": [
      "Fitting 5 folds for each of 18 candidates, totalling 90 fits\n",
      "[CV 1/5] END ............C=1, gamma=1, kernel=rbf;, score=nan total time=   0.0s\n",
      "[CV 2/5] END ..........C=1, gamma=1, kernel=rbf;, score=0.000 total time=   4.5s\n",
      "[CV 3/5] END ..........C=1, gamma=1, kernel=rbf;, score=0.531 total time=  21.2s\n",
      "[CV 4/5] END ..........C=1, gamma=1, kernel=rbf;, score=0.142 total time=  40.4s\n",
      "[CV 5/5] END ..........C=1, gamma=1, kernel=rbf;, score=0.392 total time= 1.2min\n",
      "[CV 1/5] END ...........C=1, gamma=1, kernel=poly;, score=nan total time=   0.0s\n",
      "[CV 2/5] END .........C=1, gamma=1, kernel=poly;, score=0.000 total time=   5.4s\n",
      "[CV 3/5] END .........C=1, gamma=1, kernel=poly;, score=0.535 total time=  16.4s\n",
      "[CV 4/5] END .........C=1, gamma=1, kernel=poly;, score=0.131 total time=  34.3s\n",
      "[CV 5/5] END .........C=1, gamma=1, kernel=poly;, score=0.435 total time= 1.0min\n",
      "[CV 1/5] END ............C=1, gamma=2, kernel=rbf;, score=nan total time=   0.0s\n",
      "[CV 2/5] END ..........C=1, gamma=2, kernel=rbf;, score=0.138 total time=   4.6s\n",
      "[CV 3/5] END ..........C=1, gamma=2, kernel=rbf;, score=0.535 total time=  16.0s\n",
      "[CV 4/5] END ..........C=1, gamma=2, kernel=rbf;, score=0.142 total time=  32.8s\n",
      "[CV 5/5] END ..........C=1, gamma=2, kernel=rbf;, score=0.423 total time= 1.1min\n",
      "[CV 1/5] END ...........C=1, gamma=2, kernel=poly;, score=nan total time=   0.0s\n",
      "[CV 2/5] END .........C=1, gamma=2, kernel=poly;, score=0.677 total time=   3.5s\n",
      "[CV 3/5] END .........C=1, gamma=2, kernel=poly;, score=0.519 total time=  10.4s\n",
      "[CV 4/5] END .........C=1, gamma=2, kernel=poly;, score=0.131 total time=  26.1s\n",
      "[CV 5/5] END .........C=1, gamma=2, kernel=poly;, score=0.700 total time=  45.8s\n",
      "[CV 1/5] END ............C=1, gamma=5, kernel=rbf;, score=nan total time=   0.0s\n",
      "[CV 2/5] END ..........C=1, gamma=5, kernel=rbf;, score=0.558 total time=   4.4s\n",
      "[CV 3/5] END ..........C=1, gamma=5, kernel=rbf;, score=0.538 total time=  12.7s\n",
      "[CV 4/5] END ..........C=1, gamma=5, kernel=rbf;, score=0.138 total time=  28.4s\n",
      "[CV 5/5] END ..........C=1, gamma=5, kernel=rbf;, score=0.542 total time=  49.6s\n",
      "[CV 1/5] END ...........C=1, gamma=5, kernel=poly;, score=nan total time=   0.0s\n",
      "[CV 2/5] END .........C=1, gamma=5, kernel=poly;, score=0.692 total time=   2.1s\n",
      "[CV 3/5] END .........C=1, gamma=5, kernel=poly;, score=0.392 total time=   6.8s\n",
      "[CV 4/5] END .........C=1, gamma=5, kernel=poly;, score=0.154 total time=  21.6s\n",
      "[CV 5/5] END .........C=1, gamma=5, kernel=poly;, score=0.908 total time=  37.4s\n",
      "[CV 1/5] END ............C=2, gamma=1, kernel=rbf;, score=nan total time=   0.0s\n",
      "[CV 2/5] END ..........C=2, gamma=1, kernel=rbf;, score=0.165 total time=   4.4s\n",
      "[CV 3/5] END ..........C=2, gamma=1, kernel=rbf;, score=0.531 total time=  15.6s\n",
      "[CV 4/5] END ..........C=2, gamma=1, kernel=rbf;, score=0.138 total time=  34.2s\n",
      "[CV 5/5] END ..........C=2, gamma=1, kernel=rbf;, score=0.427 total time=  59.1s\n",
      "[CV 1/5] END ...........C=2, gamma=1, kernel=poly;, score=nan total time=   0.0s\n",
      "[CV 2/5] END .........C=2, gamma=1, kernel=poly;, score=0.231 total time=   4.0s\n",
      "[CV 3/5] END .........C=2, gamma=1, kernel=poly;, score=0.527 total time=  13.4s\n",
      "[CV 4/5] END .........C=2, gamma=1, kernel=poly;, score=0.131 total time=  30.8s\n",
      "[CV 5/5] END .........C=2, gamma=1, kernel=poly;, score=0.527 total time=  53.5s\n",
      "[CV 1/5] END ............C=2, gamma=2, kernel=rbf;, score=nan total time=   0.0s\n",
      "[CV 2/5] END ..........C=2, gamma=2, kernel=rbf;, score=0.488 total time=   4.2s\n",
      "[CV 3/5] END ..........C=2, gamma=2, kernel=rbf;, score=0.538 total time=  13.0s\n",
      "[CV 4/5] END ..........C=2, gamma=2, kernel=rbf;, score=0.135 total time=  29.5s\n",
      "[CV 5/5] END ..........C=2, gamma=2, kernel=rbf;, score=0.508 total time=  51.5s\n",
      "[CV 1/5] END ...........C=2, gamma=2, kernel=poly;, score=nan total time=   0.0s\n",
      "[CV 2/5] END .........C=2, gamma=2, kernel=poly;, score=0.715 total time=   3.0s\n",
      "[CV 3/5] END .........C=2, gamma=2, kernel=poly;, score=0.508 total time=   9.0s\n",
      "[CV 4/5] END .........C=2, gamma=2, kernel=poly;, score=0.131 total time=  25.1s\n",
      "[CV 5/5] END .........C=2, gamma=2, kernel=poly;, score=0.742 total time=  43.5s\n",
      "[CV 1/5] END ............C=2, gamma=5, kernel=rbf;, score=nan total time=   0.0s\n",
      "[CV 2/5] END ..........C=2, gamma=5, kernel=rbf;, score=0.688 total time=   3.4s\n",
      "[CV 3/5] END ..........C=2, gamma=5, kernel=rbf;, score=0.535 total time=  10.8s\n",
      "[CV 4/5] END ..........C=2, gamma=5, kernel=rbf;, score=0.131 total time=  25.0s\n",
      "[CV 5/5] END ..........C=2, gamma=5, kernel=rbf;, score=0.612 total time=  45.1s\n",
      "[CV 1/5] END ...........C=2, gamma=5, kernel=poly;, score=nan total time=   0.0s\n",
      "[CV 2/5] END .........C=2, gamma=5, kernel=poly;, score=0.677 total time=   1.8s\n",
      "[CV 3/5] END .........C=2, gamma=5, kernel=poly;, score=0.388 total time=   6.8s\n",
      "[CV 4/5] END .........C=2, gamma=5, kernel=poly;, score=0.154 total time=  21.5s\n",
      "[CV 5/5] END .........C=2, gamma=5, kernel=poly;, score=0.962 total time=  38.5s\n",
      "[CV 1/5] END ............C=5, gamma=1, kernel=rbf;, score=nan total time=   0.0s\n",
      "[CV 2/5] END ..........C=5, gamma=1, kernel=rbf;, score=0.546 total time=   4.0s\n",
      "[CV 3/5] END ..........C=5, gamma=1, kernel=rbf;, score=0.527 total time=  12.6s\n",
      "[CV 4/5] END ..........C=5, gamma=1, kernel=rbf;, score=0.127 total time=  29.0s\n",
      "[CV 5/5] END ..........C=5, gamma=1, kernel=rbf;, score=0.527 total time=  50.2s\n",
      "[CV 1/5] END ...........C=5, gamma=1, kernel=poly;, score=nan total time=   0.0s\n",
      "[CV 2/5] END .........C=5, gamma=1, kernel=poly;, score=0.608 total time=   3.8s\n",
      "[CV 3/5] END .........C=5, gamma=1, kernel=poly;, score=0.500 total time=  11.3s\n",
      "[CV 4/5] END .........C=5, gamma=1, kernel=poly;, score=0.131 total time=  27.8s\n",
      "[CV 5/5] END .........C=5, gamma=1, kernel=poly;, score=0.658 total time=  49.2s\n",
      "[CV 1/5] END ............C=5, gamma=2, kernel=rbf;, score=nan total time=   0.0s\n",
      "[CV 2/5] END ..........C=5, gamma=2, kernel=rbf;, score=0.677 total time=   3.4s\n",
      "[CV 3/5] END ..........C=5, gamma=2, kernel=rbf;, score=0.542 total time=  10.9s\n",
      "[CV 4/5] END ..........C=5, gamma=2, kernel=rbf;, score=0.127 total time=  26.7s\n",
      "[CV 5/5] END ..........C=5, gamma=2, kernel=rbf;, score=0.608 total time=  44.8s\n",
      "[CV 1/5] END ...........C=5, gamma=2, kernel=poly;, score=nan total time=   0.0s\n",
      "[CV 2/5] END .........C=5, gamma=2, kernel=poly;, score=0.692 total time=   2.4s\n",
      "[CV 3/5] END .........C=5, gamma=2, kernel=poly;, score=0.442 total time=   8.2s\n",
      "[CV 4/5] END .........C=5, gamma=2, kernel=poly;, score=0.138 total time=  22.6s\n",
      "[CV 5/5] END .........C=5, gamma=2, kernel=poly;, score=0.773 total time=  44.3s\n",
      "[CV 1/5] END ............C=5, gamma=5, kernel=rbf;, score=nan total time=   0.0s\n",
      "[CV 2/5] END ..........C=5, gamma=5, kernel=rbf;, score=0.712 total time=   2.8s\n",
      "[CV 3/5] END ..........C=5, gamma=5, kernel=rbf;, score=0.523 total time=   8.7s\n",
      "[CV 4/5] END ..........C=5, gamma=5, kernel=rbf;, score=0.127 total time=  22.2s\n",
      "[CV 5/5] END ..........C=5, gamma=5, kernel=rbf;, score=0.677 total time=  38.3s\n",
      "[CV 1/5] END ...........C=5, gamma=5, kernel=poly;, score=nan total time=   0.0s\n",
      "[CV 2/5] END .........C=5, gamma=5, kernel=poly;, score=0.681 total time=   1.6s\n",
      "[CV 3/5] END .........C=5, gamma=5, kernel=poly;, score=0.377 total time=   6.5s\n",
      "[CV 4/5] END .........C=5, gamma=5, kernel=poly;, score=0.154 total time=  23.1s\n",
      "[CV 5/5] END .........C=5, gamma=5, kernel=poly;, score=0.981 total time=  39.5s\n"
     ]
    },
    {
     "name": "stderr",
     "output_type": "stream",
     "text": [
      "C:\\Users\\Abdus\\AppData\\Local\\Packages\\PythonSoftwareFoundation.Python.3.7_qbz5n2kfra8p0\\LocalCache\\local-packages\\Python37\\site-packages\\sklearn\\model_selection\\_validation.py:372: FitFailedWarning: \n",
      "18 fits failed out of a total of 90.\n",
      "The score on these train-test partitions for these parameters will be set to nan.\n",
      "If these failures are not expected, you can try to debug them by setting error_score='raise'.\n",
      "\n",
      "Below are more details about the failures:\n",
      "--------------------------------------------------------------------------------\n",
      "18 fits failed with the following error:\n",
      "Traceback (most recent call last):\n",
      "  File \"C:\\Users\\Abdus\\AppData\\Local\\Packages\\PythonSoftwareFoundation.Python.3.7_qbz5n2kfra8p0\\LocalCache\\local-packages\\Python37\\site-packages\\sklearn\\model_selection\\_validation.py\", line 680, in _fit_and_score\n",
      "    estimator.fit(X_train, y_train, **fit_params)\n",
      "  File \"C:\\Users\\Abdus\\AppData\\Local\\Packages\\PythonSoftwareFoundation.Python.3.7_qbz5n2kfra8p0\\LocalCache\\local-packages\\Python37\\site-packages\\sklearn\\svm\\_base.py\", line 199, in fit\n",
      "    y = self._validate_targets(y)\n",
      "  File \"C:\\Users\\Abdus\\AppData\\Local\\Packages\\PythonSoftwareFoundation.Python.3.7_qbz5n2kfra8p0\\LocalCache\\local-packages\\Python37\\site-packages\\sklearn\\svm\\_base.py\", line 722, in _validate_targets\n",
      "    % len(cls)\n",
      "ValueError: The number of classes has to be greater than one; got 1 class\n",
      "\n",
      "  warnings.warn(some_fits_failed_message, FitFailedWarning)\n",
      "C:\\Users\\Abdus\\AppData\\Local\\Packages\\PythonSoftwareFoundation.Python.3.7_qbz5n2kfra8p0\\LocalCache\\local-packages\\Python37\\site-packages\\sklearn\\model_selection\\_search.py:972: UserWarning: One or more of the test scores are non-finite: [nan nan nan nan nan nan nan nan nan nan nan nan nan nan nan nan nan nan]\n",
      "  category=UserWarning,\n"
     ]
    },
    {
     "data": {
      "text/plain": [
       "GridSearchCV(cv=TimeSeriesSplit(gap=0, max_train_size=None, n_splits=5, test_size=None),\n",
       "             estimator=SVC(random_state=1234),\n",
       "             param_grid={'C': [1, 2, 5], 'gamma': [1, 2, 5],\n",
       "                         'kernel': ['rbf', 'poly']},\n",
       "             verbose=3)"
      ]
     },
     "execution_count": 16,
     "metadata": {},
     "output_type": "execute_result"
    }
   ],
   "source": [
    "\n",
    "svc_param_grid = { \n",
    "    # Regularization parameter.\n",
    "    \"C\": [1, 2, 5],\n",
    "    # Kernel type\n",
    "    \"kernel\": ['rbf', 'poly'],\n",
    "    # Gamma is the Kernel coefficient for ‘rbf’, ‘poly’ and ‘sigmoid’.\n",
    "    \"gamma\": [1, 2, 5],\n",
    "    }\n",
    "\n",
    "svc = SVC(random_state=1234)\n",
    "svc_grid_search = GridSearchCV(estimator=svc, param_grid=svc_param_grid, cv=tscv, verbose=3)\n",
    "svc_grid_search.fit(X_time_train, y_time_train)"
   ]
  },
  {
   "cell_type": "code",
   "execution_count": 17,
   "metadata": {},
   "outputs": [
    {
     "data": {
      "text/plain": [
       "{'C': 1, 'gamma': 1, 'kernel': 'rbf'}"
      ]
     },
     "execution_count": 17,
     "metadata": {},
     "output_type": "execute_result"
    }
   ],
   "source": [
    "svc_grid_search.best_params_"
   ]
  },
  {
   "cell_type": "code",
   "execution_count": 18,
   "metadata": {},
   "outputs": [],
   "source": [
    "poly = make_pipeline(svc_grid_search.best_estimator_)\n",
    "poly.fit(X_time_train, y_time_train)\n",
    "poly_pred = poly.predict(X_time_test)"
   ]
  },
  {
   "cell_type": "code",
   "execution_count": 19,
   "metadata": {},
   "outputs": [
    {
     "name": "stdout",
     "output_type": "stream",
     "text": [
      "Classification report: \n",
      "              precision    recall  f1-score   support\n",
      "\n",
      "         0.0       0.70      0.82      0.75       120\n",
      "         1.0       0.92      0.97      0.95       150\n",
      "         2.0       0.87      0.67      0.75       120\n",
      "\n",
      "    accuracy                           0.83       390\n",
      "   macro avg       0.83      0.82      0.82       390\n",
      "weighted avg       0.84      0.83      0.83       390\n",
      "\n",
      "Accuracy:  0.8307692307692308\n"
     ]
    },
    {
     "data": {
      "image/png": "[encoded data removed]",
      "text/plain": [
       "<Figure size 640x480 with 2 Axes>"
      ]
     },
     "metadata": {},
     "output_type": "display_data"
    }
   ],
   "source": [
    "poly_result = confusion_matrix(y_time_test, poly_pred)\n",
    "poly_classification_rep = classification_report(y_time_test, poly_pred)\n",
    "print(\"Classification report: \")\n",
    "print(poly_classification_rep)\n",
    "poly_acc = accuracy_score(y_time_test,poly_pred)\n",
    "print(\"Accuracy: \", poly_acc)\n",
    "confusion_matrix_plot(poly_result, \"SVM\", 0)"
   ]
  },
  {
   "cell_type": "code",
   "execution_count": 9,
   "metadata": {},
   "outputs": [],
   "source": [
    "from keras import models, layers, initializers, utils, callbacks\n",
    "import tensorflow as tf"
   ]
  },
  {
   "cell_type": "code",
   "execution_count": 10,
   "metadata": {},
   "outputs": [
    {
     "data": {
      "text/plain": [
       "(1560, 3)"
      ]
     },
     "execution_count": 10,
     "metadata": {},
     "output_type": "execute_result"
    }
   ],
   "source": [
    "train_labels = utils.to_categorical(y_time_train)\n",
    "train_labels.shape"
   ]
  },
  {
   "cell_type": "code",
   "execution_count": 11,
   "metadata": {},
   "outputs": [
    {
     "name": "stdout",
     "output_type": "stream",
     "text": [
      "Model: \"sequential\"\n",
      "_________________________________________________________________\n",
      " Layer (type)                Output Shape              Param #   \n",
      "=================================================================\n",
      " conv1d (Conv1D)             (None, 3331, 16)          176       \n",
      "                                                                 \n",
      " max_pooling1d (MaxPooling1D  (None, 1110, 16)         0         \n",
      " )                                                               \n",
      "                                                                 \n",
      " conv1d_1 (Conv1D)           (None, 553, 16)           1296      \n",
      "                                                                 \n",
      " max_pooling1d_1 (MaxPooling  (None, 276, 16)          0         \n",
      " 1D)                                                             \n",
      "                                                                 \n",
      " flatten (Flatten)           (None, 4416)              0         \n",
      "                                                                 \n",
      " dense (Dense)               (None, 256)               1130752   \n",
      "                                                                 \n",
      " dense_1 (Dense)             (None, 64)                16448     \n",
      "                                                                 \n",
      " dropout (Dropout)           (None, 64)                0         \n",
      "                                                                 \n",
      " dense_2 (Dense)             (None, 3)                 195       \n",
      "                                                                 \n",
      "=================================================================\n",
      "Total params: 1,148,867\n",
      "Trainable params: 1,148,867\n",
      "Non-trainable params: 0\n",
      "_________________________________________________________________\n"
     ]
    }
   ],
   "source": [
    "model = models.Sequential(\n",
    "    [\n",
    "        layers.Input(shape=(X_time_train.shape[1],1)),\n",
    "        layers.Conv1D(16, 10, strides=3, activation='relu'),\n",
    "        layers.MaxPool1D(pool_size=3, strides=3),\n",
    "        layers.Conv1D(16, 5, strides=2, activation='relu'),\n",
    "        layers.MaxPool1D(pool_size=2, strides=2),\n",
    "        #layers.SpatialDropout1D(0.6),\n",
    "        layers.Flatten(),\n",
    "        layers.Dense(256, activation='linear'),\n",
    "        layers.Dense(64, activation='linear'),\n",
    "        layers.Dropout(0.6),\n",
    "        layers.Dense(3, activation=\"softmax\")\n",
    "    ]\n",
    ")\n",
    "\n",
    "model.summary()"
   ]
  },
  {
   "cell_type": "code",
   "execution_count": 12,
   "metadata": {},
   "outputs": [
    {
     "name": "stdout",
     "output_type": "stream",
     "text": [
      "Epoch 1/100\n",
      "22/22 [==============================] - 8s 243ms/step - loss: 1.0420 - accuracy: 0.4544 - val_loss: 1.1007 - val_accuracy: 0.1859\n",
      "Epoch 2/100\n",
      "22/22 [==============================] - 4s 193ms/step - loss: 0.8037 - accuracy: 0.6368 - val_loss: 1.2116 - val_accuracy: 0.2628\n",
      "Epoch 3/100\n",
      "22/22 [==============================] - 6s 259ms/step - loss: 0.5863 - accuracy: 0.7692 - val_loss: 0.5722 - val_accuracy: 0.6474\n",
      "Epoch 4/100\n",
      "22/22 [==============================] - 5s 212ms/step - loss: 0.5098 - accuracy: 0.7892 - val_loss: 0.2937 - val_accuracy: 0.8846\n",
      "Epoch 5/100\n",
      "22/22 [==============================] - 5s 215ms/step - loss: 0.5000 - accuracy: 0.7906 - val_loss: 0.8696 - val_accuracy: 0.4936\n",
      "Epoch 6/100\n",
      "22/22 [==============================] - 3s 159ms/step - loss: 0.4725 - accuracy: 0.8134 - val_loss: 0.4058 - val_accuracy: 0.7885\n",
      "Epoch 7/100\n",
      "22/22 [==============================] - 3s 149ms/step - loss: 0.4333 - accuracy: 0.8376 - val_loss: 0.2327 - val_accuracy: 0.9038\n",
      "Epoch 8/100\n",
      "22/22 [==============================] - 4s 180ms/step - loss: 0.4125 - accuracy: 0.8376 - val_loss: 0.4435 - val_accuracy: 0.7756\n",
      "Epoch 9/100\n",
      "22/22 [==============================] - 3s 158ms/step - loss: 0.4190 - accuracy: 0.8376 - val_loss: 0.3036 - val_accuracy: 0.8718\n",
      "Epoch 10/100\n",
      "22/22 [==============================] - 5s 208ms/step - loss: 0.3936 - accuracy: 0.8454 - val_loss: 0.3891 - val_accuracy: 0.8141\n",
      "Epoch 11/100\n",
      "22/22 [==============================] - 4s 175ms/step - loss: 0.4254 - accuracy: 0.8362 - val_loss: 0.4289 - val_accuracy: 0.7821\n",
      "Epoch 12/100\n",
      "22/22 [==============================] - 4s 170ms/step - loss: 0.4135 - accuracy: 0.8333 - val_loss: 0.2497 - val_accuracy: 0.8782\n",
      "Epoch 13/100\n",
      "22/22 [==============================] - 3s 148ms/step - loss: 0.3986 - accuracy: 0.8390 - val_loss: 0.3106 - val_accuracy: 0.8654\n",
      "Epoch 14/100\n",
      "22/22 [==============================] - 4s 187ms/step - loss: 0.3876 - accuracy: 0.8412 - val_loss: 0.2631 - val_accuracy: 0.9038\n",
      "Epoch 15/100\n",
      "22/22 [==============================] - 3s 146ms/step - loss: 0.3649 - accuracy: 0.8682 - val_loss: 0.4234 - val_accuracy: 0.7949\n",
      "Epoch 16/100\n",
      "22/22 [==============================] - 3s 154ms/step - loss: 0.3796 - accuracy: 0.8504 - val_loss: 0.2950 - val_accuracy: 0.8782\n",
      "Epoch 17/100\n",
      "22/22 [==============================] - 4s 177ms/step - loss: 0.3661 - accuracy: 0.8554 - val_loss: 0.4641 - val_accuracy: 0.7821\n"
     ]
    }
   ],
   "source": [
    "es = callbacks.EarlyStopping(monitor='val_accuracy', patience=10)\n",
    "model.compile(loss=\"categorical_crossentropy\", \n",
    "              optimizer=\"adam\", \n",
    "              metrics=[\"accuracy\"])\n",
    "\n",
    "history = model.fit(X_time_train, train_labels,\n",
    "                    batch_size=64, \n",
    "                    epochs=100, \n",
    "                    validation_split=0.1,\n",
    "                    callbacks=[es])"
   ]
  },
  {
   "cell_type": "code",
   "execution_count": 13,
   "metadata": {},
   "outputs": [],
   "source": [
    "test_labels  = utils.to_categorical(y_time_test)"
   ]
  },
  {
   "cell_type": "code",
   "execution_count": 14,
   "metadata": {},
   "outputs": [
    {
     "name": "stdout",
     "output_type": "stream",
     "text": [
      "7/7 [==============================] - 0s 36ms/step - loss: 0.3593 - accuracy: 0.8564\n"
     ]
    },
    {
     "data": {
      "text/plain": [
       "(0.3592771589756012, 0.8564102649688721)"
      ]
     },
     "execution_count": 14,
     "metadata": {},
     "output_type": "execute_result"
    }
   ],
   "source": [
    "loss, acc = model.evaluate(X_time_test, test_labels, batch_size=64)\n",
    "loss,acc"
   ]
  },
  {
   "cell_type": "code",
   "execution_count": 15,
   "metadata": {},
   "outputs": [
    {
     "name": "stdout",
     "output_type": "stream",
     "text": [
      "13/13 [==============================] - 1s 23ms/step\n"
     ]
    }
   ],
   "source": [
    "y_pred = np.argmax(model.predict(X_time_test), axis=1)"
   ]
  },
  {
   "cell_type": "code",
   "execution_count": 16,
   "metadata": {},
   "outputs": [],
   "source": [
    "cnn_cm = confusion_matrix(y_time_test, y_pred)"
   ]
  },
  {
   "cell_type": "code",
   "execution_count": 17,
   "metadata": {},
   "outputs": [
    {
     "data": {
      "image/png": "[encoded data removed]",
      "text/plain": [
       "<Figure size 640x480 with 2 Axes>"
      ]
     },
     "metadata": {},
     "output_type": "display_data"
    }
   ],
   "source": [
    "confusion_matrix_plot(cnn_cm, \"CNN\", 0)"
   ]
  },
  {
   "cell_type": "code",
   "execution_count": 18,
   "metadata": {},
   "outputs": [
    {
     "name": "stdout",
     "output_type": "stream",
     "text": [
      "              precision    recall  f1-score   support\n",
      "\n",
      "         0.0       0.69      0.98      0.81       120\n",
      "         1.0       1.00      0.91      0.95       150\n",
      "         2.0       0.98      0.67      0.79       120\n",
      "\n",
      "    accuracy                           0.86       390\n",
      "   macro avg       0.89      0.85      0.85       390\n",
      "weighted avg       0.90      0.86      0.86       390\n",
      "\n"
     ]
    }
   ],
   "source": [
    "cnn_class_report = classification_report(y_time_test, y_pred)\n",
    "print(cnn_class_report)"
   ]
  },
  {
   "cell_type": "code",
   "execution_count": 19,
   "metadata": {},
   "outputs": [
    {
     "data": {
      "text/html": [
       "<div>\n",
       "<style scoped>\n",
       "    .dataframe tbody tr th:only-of-type {\n",
       "        vertical-align: middle;\n",
       "    }\n",
       "\n",
       "    .dataframe tbody tr th {\n",
       "        vertical-align: top;\n",
       "    }\n",
       "\n",
       "    .dataframe thead th {\n",
       "        text-align: right;\n",
       "    }\n",
       "</style>\n",
       "<table border=\"1\" class=\"dataframe\">\n",
       "  <thead>\n",
       "    <tr style=\"text-align: right;\">\n",
       "      <th></th>\n",
       "      <th>loss</th>\n",
       "      <th>accuracy</th>\n",
       "      <th>val_loss</th>\n",
       "      <th>val_accuracy</th>\n",
       "    </tr>\n",
       "  </thead>\n",
       "  <tbody>\n",
       "    <tr>\n",
       "      <th>0</th>\n",
       "      <td>1.042035</td>\n",
       "      <td>0.454416</td>\n",
       "      <td>1.100651</td>\n",
       "      <td>0.185897</td>\n",
       "    </tr>\n",
       "    <tr>\n",
       "      <th>1</th>\n",
       "      <td>0.803721</td>\n",
       "      <td>0.636752</td>\n",
       "      <td>1.211621</td>\n",
       "      <td>0.262821</td>\n",
       "    </tr>\n",
       "    <tr>\n",
       "      <th>2</th>\n",
       "      <td>0.586304</td>\n",
       "      <td>0.769231</td>\n",
       "      <td>0.572166</td>\n",
       "      <td>0.647436</td>\n",
       "    </tr>\n",
       "    <tr>\n",
       "      <th>3</th>\n",
       "      <td>0.509788</td>\n",
       "      <td>0.789174</td>\n",
       "      <td>0.293687</td>\n",
       "      <td>0.884615</td>\n",
       "    </tr>\n",
       "    <tr>\n",
       "      <th>4</th>\n",
       "      <td>0.500008</td>\n",
       "      <td>0.790598</td>\n",
       "      <td>0.869572</td>\n",
       "      <td>0.493590</td>\n",
       "    </tr>\n",
       "    <tr>\n",
       "      <th>5</th>\n",
       "      <td>0.472517</td>\n",
       "      <td>0.813390</td>\n",
       "      <td>0.405849</td>\n",
       "      <td>0.788462</td>\n",
       "    </tr>\n",
       "    <tr>\n",
       "      <th>6</th>\n",
       "      <td>0.433330</td>\n",
       "      <td>0.837607</td>\n",
       "      <td>0.232676</td>\n",
       "      <td>0.903846</td>\n",
       "    </tr>\n",
       "    <tr>\n",
       "      <th>7</th>\n",
       "      <td>0.412521</td>\n",
       "      <td>0.837607</td>\n",
       "      <td>0.443485</td>\n",
       "      <td>0.775641</td>\n",
       "    </tr>\n",
       "    <tr>\n",
       "      <th>8</th>\n",
       "      <td>0.419041</td>\n",
       "      <td>0.837607</td>\n",
       "      <td>0.303642</td>\n",
       "      <td>0.871795</td>\n",
       "    </tr>\n",
       "    <tr>\n",
       "      <th>9</th>\n",
       "      <td>0.393649</td>\n",
       "      <td>0.845442</td>\n",
       "      <td>0.389051</td>\n",
       "      <td>0.814103</td>\n",
       "    </tr>\n",
       "    <tr>\n",
       "      <th>10</th>\n",
       "      <td>0.425392</td>\n",
       "      <td>0.836182</td>\n",
       "      <td>0.428916</td>\n",
       "      <td>0.782051</td>\n",
       "    </tr>\n",
       "    <tr>\n",
       "      <th>11</th>\n",
       "      <td>0.413458</td>\n",
       "      <td>0.833333</td>\n",
       "      <td>0.249657</td>\n",
       "      <td>0.878205</td>\n",
       "    </tr>\n",
       "    <tr>\n",
       "      <th>12</th>\n",
       "      <td>0.398615</td>\n",
       "      <td>0.839031</td>\n",
       "      <td>0.310559</td>\n",
       "      <td>0.865385</td>\n",
       "    </tr>\n",
       "    <tr>\n",
       "      <th>13</th>\n",
       "      <td>0.387621</td>\n",
       "      <td>0.841168</td>\n",
       "      <td>0.263149</td>\n",
       "      <td>0.903846</td>\n",
       "    </tr>\n",
       "    <tr>\n",
       "      <th>14</th>\n",
       "      <td>0.364896</td>\n",
       "      <td>0.868234</td>\n",
       "      <td>0.423358</td>\n",
       "      <td>0.794872</td>\n",
       "    </tr>\n",
       "    <tr>\n",
       "      <th>15</th>\n",
       "      <td>0.379626</td>\n",
       "      <td>0.850427</td>\n",
       "      <td>0.294951</td>\n",
       "      <td>0.878205</td>\n",
       "    </tr>\n",
       "    <tr>\n",
       "      <th>16</th>\n",
       "      <td>0.366065</td>\n",
       "      <td>0.855413</td>\n",
       "      <td>0.464136</td>\n",
       "      <td>0.782051</td>\n",
       "    </tr>\n",
       "  </tbody>\n",
       "</table>\n",
       "</div>"
      ],
      "text/plain": [
       "        loss  accuracy  val_loss  val_accuracy\n",
       "0   1.042035  0.454416  1.100651      0.185897\n",
       "1   0.803721  0.636752  1.211621      0.262821\n",
       "2   0.586304  0.769231  0.572166      0.647436\n",
       "3   0.509788  0.789174  0.293687      0.884615\n",
       "4   0.500008  0.790598  0.869572      0.493590\n",
       "5   0.472517  0.813390  0.405849      0.788462\n",
       "6   0.433330  0.837607  0.232676      0.903846\n",
       "7   0.412521  0.837607  0.443485      0.775641\n",
       "8   0.419041  0.837607  0.303642      0.871795\n",
       "9   0.393649  0.845442  0.389051      0.814103\n",
       "10  0.425392  0.836182  0.428916      0.782051\n",
       "11  0.413458  0.833333  0.249657      0.878205\n",
       "12  0.398615  0.839031  0.310559      0.865385\n",
       "13  0.387621  0.841168  0.263149      0.903846\n",
       "14  0.364896  0.868234  0.423358      0.794872\n",
       "15  0.379626  0.850427  0.294951      0.878205\n",
       "16  0.366065  0.855413  0.464136      0.782051"
      ]
     },
     "execution_count": 19,
     "metadata": {},
     "output_type": "execute_result"
    }
   ],
   "source": [
    "import pandas as pd \n",
    "df = pd.DataFrame(history.history)\n",
    "\n",
    "df"
   ]
  },
  {
   "cell_type": "code",
   "execution_count": 20,
   "metadata": {},
   "outputs": [
    {
     "data": {
      "image/png": "[encoded data removed]",
      "text/plain": [
       "<Figure size 800x600 with 1 Axes>"
      ]
     },
     "metadata": {},
     "output_type": "display_data"
    }
   ],
   "source": [
    "fig, ax = plt.subplots(figsize=(8,6))\n",
    "ax.plot(df['accuracy'], label=\"Training\")\n",
    "ax.plot(df['val_accuracy'], label=\"Validation\")\n",
    "ax.set_ylim(ymin=0,ymax=1)\n",
    "ax.set_xlabel(\"Epoch\")\n",
    "ax.set_ylabel(\"Accuracy\")\n",
    "ax.legend(loc='best')\n",
    "plt.show()"
   ]
  },
  {
   "cell_type": "code",
   "execution_count": 21,
   "metadata": {},
   "outputs": [
    {
     "data": {
      "image/png": "[encoded data removed]",
      "text/plain": [
       "<Figure size 800x600 with 1 Axes>"
      ]
     },
     "metadata": {},
     "output_type": "display_data"
    }
   ],
   "source": [
    "fig, ax = plt.subplots(figsize=(8,6))\n",
    "ax.plot(df['loss'], label=\"Training\")\n",
    "ax.plot(df['val_loss'], label=\"Validation\")\n",
    "ax.set_ylim(ymin=0)\n",
    "ax.set_xlabel(\"Epoch\")\n",
    "ax.set_ylabel(\"loss\")\n",
    "ax.legend(loc='best')\n",
    "plt.show()"
   ]
  }
 ],
 "metadata": {
  "kernelspec": {
   "display_name": "Python 3",
   "language": "python",
   "name": "python3"
  },
  "language_info": {
   "codemirror_mode": {
    "name": "ipython",
    "version": 3
   },
   "file_extension": ".py",
   "mimetype": "text/x-python",
   "name": "python",
   "nbconvert_exporter": "python",
   "pygments_lexer": "ipython3",
   "version": "3.7.9"
  },
  "orig_nbformat": 4,
  "vscode": {
   "interpreter": {
    "hash": "9f79606e34b3657ca7e79b69d16ce71d6cda752753ffec416cd0e9c51f24d40b"
   }
  }
 },
 "nbformat": 4,
 "nbformat_minor": 2
}
