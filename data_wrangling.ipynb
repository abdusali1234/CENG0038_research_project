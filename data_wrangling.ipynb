{
 "cells": [
  {
   "attachments": {},
   "cell_type": "markdown",
   "metadata": {},
   "source": [
    "# Data wrangling\n",
    "\n",
    "AC voltage signals obtained from each file in each folder. Signals are saved as numpy arrays in a .npy format in the `Data/wrangled_data` folder"
   ]
  },
  {
   "cell_type": "code",
   "execution_count": 2,
   "metadata": {},
   "outputs": [],
   "source": [
    "import pandas as pd\n",
    "import numpy as np\n",
    "import os"
   ]
  },
  {
   "cell_type": "code",
   "execution_count": 3,
   "metadata": {},
   "outputs": [],
   "source": [
    "def get_voltage(parent_directory: str) -> np.ndarray:\n",
    "    matrix = np.ones(shape=(len(os.listdir(parent_directory)),10001))\n",
    "    i = 0\n",
    "    for filename in os.listdir(parent_directory):\n",
    "        df = pd.read_table(parent_directory+filename, delim_whitespace=True, header=None,skiprows=57)\n",
    "        header_row = [\"Pt\",\"T\",\"Vf\",\"Im\",\"Vu\",\"Sig\",\"Ach\",\"IERange\",\"Over\",\"Temp\"]\n",
    "        df = df.set_axis(header_row, axis=1, inplace=False)\n",
    "        # Check if last line in file is text \n",
    "        if isinstance(df[\"Vf\"].iloc[-1], str):\n",
    "            df = df[:-1]\n",
    "            df[\"Vf\"] = df['Vf'].astype(float)\n",
    "        row = np.asarray(df[\"Vf\"]-df[\"Vf\"][0])\n",
    "        matrix[i,:] = row\n",
    "        i += 1\n",
    "\n",
    "    return matrix"
   ]
  },
  {
   "cell_type": "code",
   "execution_count": 13,
   "metadata": {},
   "outputs": [],
   "source": [
    "as_600 = get_voltage(\"Data/Data/Voltage response/AS/PWRCAPACITY_AS_60/OTHER/\")\n",
    "cs_600 = get_voltage(\"Data/Data/Voltage response/CS/PWRCAPACITY_CS_60/OTHER/\")\n",
    "normal_600 = get_voltage(\"Data/Data/Voltage response/Normal/PWRCAPACITY_Normal_60/OTHER/\")"
   ]
  },
  {
   "cell_type": "code",
   "execution_count": 12,
   "metadata": {},
   "outputs": [
    {
     "data": {
      "text/plain": [
       "(250, 10001)"
      ]
     },
     "execution_count": 12,
     "metadata": {},
     "output_type": "execute_result"
    }
   ],
   "source": [
    "normal_600.shape"
   ]
  },
  {
   "cell_type": "code",
   "execution_count": 16,
   "metadata": {},
   "outputs": [],
   "source": [
    "cd_600_conds = [as_600, cs_600, normal_600]\n",
    "cd_600_names = [\"as_600\", \"cs_600\", \"normal_600\"]\n",
    "\n",
    "for i in range(len(cd_600_conds)):\n",
    "    np.save(f\"Data/wrangled_data/{cd_600_names[i]}.npy\", cd_600_conds[i])"
   ]
  },
  {
   "cell_type": "code",
   "execution_count": 17,
   "metadata": {},
   "outputs": [
    {
     "data": {
      "text/plain": [
       "array([[ 0.0000e+00, -1.8020e-03, -1.6020e-03, ..., -1.9020e-03,\n",
       "        -2.1020e-03, -1.6020e-03],\n",
       "       [ 0.0000e+00, -1.3020e-03, -1.4020e-03, ..., -5.9020e-03,\n",
       "        -5.7020e-03, -5.6020e-03],\n",
       "       [ 0.0000e+00, -2.0200e-04, -2.0000e-06, ...,  5.4980e-03,\n",
       "         5.8980e-03,  6.2980e-03],\n",
       "       ...,\n",
       "       [ 0.0000e+00, -5.0200e-04,  1.9800e-04, ..., -3.2020e-03,\n",
       "        -2.9020e-03, -2.7020e-03],\n",
       "       [ 0.0000e+00, -1.8020e-03, -1.7020e-03, ..., -6.9020e-03,\n",
       "        -6.6020e-03, -6.5020e-03],\n",
       "       [ 0.0000e+00, -1.8020e-03, -1.4020e-03, ...,  1.1598e-02,\n",
       "         1.1598e-02,  1.1998e-02]])"
      ]
     },
     "execution_count": 17,
     "metadata": {},
     "output_type": "execute_result"
    }
   ],
   "source": [
    "test = np.load(\"Data/wrangled_data/as_600.npy\")\n",
    "test"
   ]
  },
  {
   "cell_type": "code",
   "execution_count": 18,
   "metadata": {},
   "outputs": [],
   "source": [
    "as_700 = get_voltage(\"Data/Data/Voltage response/AS/PWRCAPACITY_AS_70/OTHER/\")\n",
    "cs_700 = get_voltage(\"Data/Data/Voltage response/CS/PWRCAPACITY_CS_70/OTHER/\")\n",
    "normal_700 = get_voltage(\"Data/Data/Voltage response/Normal/PWRCAPACITY_Normal_70/OTHER/\")"
   ]
  },
  {
   "cell_type": "code",
   "execution_count": 19,
   "metadata": {},
   "outputs": [],
   "source": [
    "cd_700_conds = [as_700, cs_700, normal_700]\n",
    "cd_700_names = [\"as_700\", \"cs_700\", \"normal_700\"]\n",
    "\n",
    "for i in range(len(cd_700_conds)):\n",
    "    np.save(f\"Data/wrangled_data/{cd_700_names[i]}.npy\", cd_700_conds[i])"
   ]
  },
  {
   "cell_type": "code",
   "execution_count": 20,
   "metadata": {},
   "outputs": [],
   "source": [
    "as_800 = get_voltage(\"Data/Data/Voltage response/AS/PWRCAPACITY_AS_80/OTHER/\")\n",
    "cs_800 = get_voltage(\"Data/Data/Voltage response/CS/PWRCAPACITY_CS_80/OTHER/\")\n",
    "normal_800 = get_voltage(\"Data/Data/Voltage response/Normal/PWRCAPACITY_Normal_80/OTHER/\")"
   ]
  },
  {
   "cell_type": "code",
   "execution_count": 21,
   "metadata": {},
   "outputs": [],
   "source": [
    "cd_800_conds = [as_800, cs_800, normal_800]\n",
    "cd_800_names = [\"as_800\", \"cs_800\", \"normal_800\"]\n",
    "\n",
    "for i in range(len(cd_800_conds)):\n",
    "    np.save(f\"Data/wrangled_data/{cd_800_names[i]}.npy\", cd_800_conds[i])"
   ]
  }
 ],
 "metadata": {
  "kernelspec": {
   "display_name": "Python 3",
   "language": "python",
   "name": "python3"
  },
  "language_info": {
   "codemirror_mode": {
    "name": "ipython",
    "version": 3
   },
   "file_extension": ".py",
   "mimetype": "text/x-python",
   "name": "python",
   "nbconvert_exporter": "python",
   "pygments_lexer": "ipython3",
   "version": "3.7.9"
  },
  "orig_nbformat": 4,
  "vscode": {
   "interpreter": {
    "hash": "9f79606e34b3657ca7e79b69d16ce71d6cda752753ffec416cd0e9c51f24d40b"
   }
  }
 },
 "nbformat": 4,
 "nbformat_minor": 2
}
