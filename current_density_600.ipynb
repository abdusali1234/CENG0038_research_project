{
 "cells": [
  {
   "cell_type": "code",
   "execution_count": 1,
   "metadata": {},
   "outputs": [],
   "source": [
    "import numpy as np\n",
    "import matplotlib.pyplot as plt\n",
    "import matplotlib\n",
    "\n",
    "import warnings\n",
    "warnings.filterwarnings(\"ignore\", message='.*UserWarning.*')\n",
    "matplotlib.rcParams['mathtext.fontset'] = 'cm'\n",
    "matplotlib.rcParams['font.family'] = 'STIXGeneral'"
   ]
  },
  {
   "cell_type": "code",
   "execution_count": 2,
   "metadata": {},
   "outputs": [],
   "source": [
    "# load data obtained from each operating conditions at current density of 600 mA/cm^2\n",
    "as_600 = np.load(\"Data/wrangled_data/as_600.npy\")\n",
    "cs_600 = np.load(\"Data/wrangled_data/cs_600.npy\")\n",
    "normal_600 = np.load(\"Data/wrangled_data/normal_600.npy\")"
   ]
  },
  {
   "cell_type": "code",
   "execution_count": 3,
   "metadata": {},
   "outputs": [],
   "source": [
    "# Create labels for each SoH\n",
    "label_AS = np.zeros(as_600.shape[0])\n",
    "label_normal = np.ones(normal_600.shape[0])\n",
    "label_CS = np.ones(cs_600.shape[0]) * 2"
   ]
  },
  {
   "cell_type": "code",
   "execution_count": 4,
   "metadata": {},
   "outputs": [],
   "source": [
    "X = np.vstack((as_600, normal_600, cs_600))\n",
    "Y = np.hstack((label_AS, label_normal, label_CS))"
   ]
  },
  {
   "cell_type": "code",
   "execution_count": 5,
   "metadata": {},
   "outputs": [],
   "source": [
    "train_split = 0.80"
   ]
  },
  {
   "cell_type": "code",
   "execution_count": 6,
   "metadata": {},
   "outputs": [],
   "source": [
    "# chronological split\n",
    "\n",
    "X_time_train = np.vstack((np.vstack((as_600[0:round(as_600.shape[0] * train_split), :],\n",
    "                                   normal_600[0:round(normal_600.shape[0] * train_split), :])),\n",
    "                        cs_600[0:round(cs_600.shape[0] * train_split), :]))\n",
    "y_time_train = np.hstack((np.hstack((label_AS[0:round(label_AS.shape[0] * train_split)],\n",
    "                                    label_normal[0:round(label_normal.shape[0] * train_split)])),\n",
    "                         label_CS[0:round(label_CS.shape[0] * train_split)]))\n",
    "X_time_test = np.vstack((np.vstack((as_600[round(as_600.shape[0] * train_split):, :],\n",
    "                                  normal_600[round(normal_600.shape[0] * train_split):, :])),\n",
    "                       cs_600[round(cs_600.shape[0] * train_split):, :]))\n",
    "y_time_test = np.hstack((np.hstack((label_AS[round(as_600.shape[0] * train_split):],\n",
    "                                   label_normal[round(normal_600.shape[0] * train_split):])),\n",
    "                        label_CS[round(cs_600.shape[0] * train_split):]))"
   ]
  },
  {
   "cell_type": "code",
   "execution_count": 7,
   "metadata": {},
   "outputs": [
    {
     "data": {
      "text/plain": [
       "((520, 10001), (130, 10001))"
      ]
     },
     "execution_count": 7,
     "metadata": {},
     "output_type": "execute_result"
    }
   ],
   "source": [
    "X_time_train.shape, X_time_test.shape"
   ]
  },
  {
   "cell_type": "code",
   "execution_count": 8,
   "metadata": {},
   "outputs": [],
   "source": [
    "from sklearn.metrics import roc_auc_score, roc_curve, auc, classification_report, confusion_matrix, accuracy_score, multilabel_confusion_matrix\n",
    "from sklearn.ensemble import RandomForestClassifier\n",
    "from sklearn.preprocessing import label_binarize\n",
    "from sklearn.multiclass import OneVsRestClassifier\n",
    "import seaborn as sns\n",
    "from sklearn.model_selection import train_test_split\n",
    "from sklearn.svm import SVC\n",
    "from sklearn.pipeline import make_pipeline\n",
    "from sklearn.preprocessing import StandardScaler\n",
    "from sklearn.neighbors import KNeighborsClassifier\n",
    "from sklearn.model_selection import GridSearchCV, TimeSeriesSplit\n"
   ]
  },
  {
   "cell_type": "code",
   "execution_count": 18,
   "metadata": {},
   "outputs": [],
   "source": [
    "def confusion_matrix_plot(conf_mat: np.ndarray, model_name: str, split_type: int) -> plt.Figure:\n",
    "    ax = plt.axes()\n",
    "    sns.heatmap(np.array(conf_mat), annot=True, cmap=\"BuGn\", fmt=\"g\")\n",
    "\n",
    "    \n",
    "    ax.set_xlabel(\"Predicted label\")\n",
    "    ax.set_ylabel(\"True label\")\n",
    "    plt.show()   \n"
   ]
  },
  {
   "cell_type": "code",
   "execution_count": 10,
   "metadata": {},
   "outputs": [
    {
     "name": "stdout",
     "output_type": "stream",
     "text": [
      "Fitting 5 folds for each of 25 candidates, totalling 125 fits\n",
      "[CV 1/5] END .......max_depth=5, n_estimators=5;, score=0.814 total time=   0.1s\n",
      "[CV 2/5] END .......max_depth=5, n_estimators=5;, score=0.616 total time=   0.2s\n",
      "[CV 3/5] END .......max_depth=5, n_estimators=5;, score=0.919 total time=   0.5s\n",
      "[CV 4/5] END .......max_depth=5, n_estimators=5;, score=0.128 total time=   0.6s\n",
      "[CV 5/5] END .......max_depth=5, n_estimators=5;, score=0.721 total time=   0.6s\n",
      "[CV 1/5] END ......max_depth=5, n_estimators=25;, score=0.814 total time=   0.3s\n",
      "[CV 2/5] END ......max_depth=5, n_estimators=25;, score=0.663 total time=   0.6s\n",
      "[CV 3/5] END ......max_depth=5, n_estimators=25;, score=0.942 total time=   1.2s\n",
      "[CV 4/5] END ......max_depth=5, n_estimators=25;, score=0.128 total time=   1.7s\n",
      "[CV 5/5] END ......max_depth=5, n_estimators=25;, score=0.756 total time=   2.3s\n",
      "[CV 1/5] END ......max_depth=5, n_estimators=50;, score=0.814 total time=   0.9s\n",
      "[CV 2/5] END ......max_depth=5, n_estimators=50;, score=0.674 total time=   1.2s\n",
      "[CV 3/5] END ......max_depth=5, n_estimators=50;, score=0.930 total time=   2.0s\n",
      "[CV 4/5] END ......max_depth=5, n_estimators=50;, score=0.128 total time=   2.1s\n",
      "[CV 5/5] END ......max_depth=5, n_estimators=50;, score=0.756 total time=   2.5s\n",
      "[CV 1/5] END ......max_depth=5, n_estimators=75;, score=0.814 total time=   0.7s\n",
      "[CV 2/5] END ......max_depth=5, n_estimators=75;, score=0.674 total time=   1.5s\n",
      "[CV 3/5] END ......max_depth=5, n_estimators=75;, score=0.942 total time=   2.3s\n",
      "[CV 4/5] END ......max_depth=5, n_estimators=75;, score=0.128 total time=   2.6s\n",
      "[CV 5/5] END ......max_depth=5, n_estimators=75;, score=0.756 total time=   3.9s\n",
      "[CV 1/5] END .....max_depth=5, n_estimators=100;, score=0.814 total time=   1.2s\n",
      "[CV 2/5] END .....max_depth=5, n_estimators=100;, score=0.674 total time=   2.4s\n",
      "[CV 3/5] END .....max_depth=5, n_estimators=100;, score=0.942 total time=   3.8s\n",
      "[CV 4/5] END .....max_depth=5, n_estimators=100;, score=0.128 total time=   5.1s\n",
      "[CV 5/5] END .....max_depth=5, n_estimators=100;, score=0.756 total time=   7.6s\n",
      "[CV 1/5] END ......max_depth=25, n_estimators=5;, score=0.814 total time=   0.1s\n",
      "[CV 2/5] END ......max_depth=25, n_estimators=5;, score=0.616 total time=   0.1s\n",
      "[CV 3/5] END ......max_depth=25, n_estimators=5;, score=0.919 total time=   0.2s\n",
      "[CV 4/5] END ......max_depth=25, n_estimators=5;, score=0.128 total time=   0.3s\n",
      "[CV 5/5] END ......max_depth=25, n_estimators=5;, score=0.709 total time=   0.4s\n",
      "[CV 1/5] END .....max_depth=25, n_estimators=25;, score=0.814 total time=   0.4s\n",
      "[CV 2/5] END .....max_depth=25, n_estimators=25;, score=0.663 total time=   0.6s\n",
      "[CV 3/5] END .....max_depth=25, n_estimators=25;, score=0.942 total time=   1.1s\n",
      "[CV 4/5] END .....max_depth=25, n_estimators=25;, score=0.128 total time=   1.8s\n",
      "[CV 5/5] END .....max_depth=25, n_estimators=25;, score=0.744 total time=   3.0s\n",
      "[CV 1/5] END .....max_depth=25, n_estimators=50;, score=0.814 total time=   1.0s\n",
      "[CV 2/5] END .....max_depth=25, n_estimators=50;, score=0.674 total time=   1.9s\n",
      "[CV 3/5] END .....max_depth=25, n_estimators=50;, score=0.930 total time=   2.4s\n",
      "[CV 4/5] END .....max_depth=25, n_estimators=50;, score=0.128 total time=   2.4s\n",
      "[CV 5/5] END .....max_depth=25, n_estimators=50;, score=0.756 total time=   3.4s\n",
      "[CV 1/5] END .....max_depth=25, n_estimators=75;, score=0.814 total time=   0.7s\n",
      "[CV 2/5] END .....max_depth=25, n_estimators=75;, score=0.674 total time=   1.4s\n",
      "[CV 3/5] END .....max_depth=25, n_estimators=75;, score=0.942 total time=   2.5s\n",
      "[CV 4/5] END .....max_depth=25, n_estimators=75;, score=0.128 total time=   3.5s\n",
      "[CV 5/5] END .....max_depth=25, n_estimators=75;, score=0.767 total time=   5.6s\n",
      "[CV 1/5] END ....max_depth=25, n_estimators=100;, score=0.814 total time=   1.4s\n",
      "[CV 2/5] END ....max_depth=25, n_estimators=100;, score=0.674 total time=   2.2s\n",
      "[CV 3/5] END ....max_depth=25, n_estimators=100;, score=0.942 total time=   2.7s\n",
      "[CV 4/5] END ....max_depth=25, n_estimators=100;, score=0.128 total time=   3.1s\n",
      "[CV 5/5] END ....max_depth=25, n_estimators=100;, score=0.767 total time=   4.8s\n",
      "[CV 1/5] END ......max_depth=50, n_estimators=5;, score=0.814 total time=   0.0s\n",
      "[CV 2/5] END ......max_depth=50, n_estimators=5;, score=0.616 total time=   0.0s\n",
      "[CV 3/5] END ......max_depth=50, n_estimators=5;, score=0.919 total time=   0.1s\n",
      "[CV 4/5] END ......max_depth=50, n_estimators=5;, score=0.128 total time=   0.1s\n",
      "[CV 5/5] END ......max_depth=50, n_estimators=5;, score=0.709 total time=   0.2s\n",
      "[CV 1/5] END .....max_depth=50, n_estimators=25;, score=0.814 total time=   0.1s\n",
      "[CV 2/5] END .....max_depth=50, n_estimators=25;, score=0.663 total time=   0.3s\n",
      "[CV 3/5] END .....max_depth=50, n_estimators=25;, score=0.942 total time=   0.4s\n",
      "[CV 4/5] END .....max_depth=50, n_estimators=25;, score=0.128 total time=   0.6s\n",
      "[CV 5/5] END .....max_depth=50, n_estimators=25;, score=0.744 total time=   1.0s\n",
      "[CV 1/5] END .....max_depth=50, n_estimators=50;, score=0.814 total time=   0.3s\n",
      "[CV 2/5] END .....max_depth=50, n_estimators=50;, score=0.674 total time=   0.5s\n",
      "[CV 3/5] END .....max_depth=50, n_estimators=50;, score=0.930 total time=   0.7s\n",
      "[CV 4/5] END .....max_depth=50, n_estimators=50;, score=0.128 total time=   1.0s\n",
      "[CV 5/5] END .....max_depth=50, n_estimators=50;, score=0.756 total time=   1.3s\n",
      "[CV 1/5] END .....max_depth=50, n_estimators=75;, score=0.814 total time=   0.3s\n",
      "[CV 2/5] END .....max_depth=50, n_estimators=75;, score=0.674 total time=   0.6s\n",
      "[CV 3/5] END .....max_depth=50, n_estimators=75;, score=0.942 total time=   0.9s\n",
      "[CV 4/5] END .....max_depth=50, n_estimators=75;, score=0.128 total time=   1.2s\n",
      "[CV 5/5] END .....max_depth=50, n_estimators=75;, score=0.767 total time=   1.9s\n",
      "[CV 1/5] END ....max_depth=50, n_estimators=100;, score=0.814 total time=   0.4s\n",
      "[CV 2/5] END ....max_depth=50, n_estimators=100;, score=0.674 total time=   0.7s\n",
      "[CV 3/5] END ....max_depth=50, n_estimators=100;, score=0.942 total time=   1.3s\n",
      "[CV 4/5] END ....max_depth=50, n_estimators=100;, score=0.128 total time=   1.7s\n",
      "[CV 5/5] END ....max_depth=50, n_estimators=100;, score=0.767 total time=   2.6s\n",
      "[CV 1/5] END ......max_depth=75, n_estimators=5;, score=0.814 total time=   0.0s\n",
      "[CV 2/5] END ......max_depth=75, n_estimators=5;, score=0.616 total time=   0.0s\n",
      "[CV 3/5] END ......max_depth=75, n_estimators=5;, score=0.919 total time=   0.0s\n",
      "[CV 4/5] END ......max_depth=75, n_estimators=5;, score=0.128 total time=   0.1s\n",
      "[CV 5/5] END ......max_depth=75, n_estimators=5;, score=0.709 total time=   0.1s\n",
      "[CV 1/5] END .....max_depth=75, n_estimators=25;, score=0.814 total time=   0.0s\n",
      "[CV 2/5] END .....max_depth=75, n_estimators=25;, score=0.663 total time=   0.1s\n",
      "[CV 3/5] END .....max_depth=75, n_estimators=25;, score=0.942 total time=   0.2s\n",
      "[CV 4/5] END .....max_depth=75, n_estimators=25;, score=0.128 total time=   0.3s\n",
      "[CV 5/5] END .....max_depth=75, n_estimators=25;, score=0.744 total time=   0.6s\n",
      "[CV 1/5] END .....max_depth=75, n_estimators=50;, score=0.814 total time=   0.1s\n",
      "[CV 2/5] END .....max_depth=75, n_estimators=50;, score=0.674 total time=   0.2s\n",
      "[CV 3/5] END .....max_depth=75, n_estimators=50;, score=0.930 total time=   0.5s\n",
      "[CV 4/5] END .....max_depth=75, n_estimators=50;, score=0.128 total time=   0.7s\n",
      "[CV 5/5] END .....max_depth=75, n_estimators=50;, score=0.756 total time=   1.5s\n",
      "[CV 1/5] END .....max_depth=75, n_estimators=75;, score=0.814 total time=   0.3s\n",
      "[CV 2/5] END .....max_depth=75, n_estimators=75;, score=0.674 total time=   0.5s\n",
      "[CV 3/5] END .....max_depth=75, n_estimators=75;, score=0.942 total time=   0.9s\n",
      "[CV 4/5] END .....max_depth=75, n_estimators=75;, score=0.128 total time=   1.1s\n",
      "[CV 5/5] END .....max_depth=75, n_estimators=75;, score=0.767 total time=   1.5s\n",
      "[CV 1/5] END ....max_depth=75, n_estimators=100;, score=0.814 total time=   0.3s\n",
      "[CV 2/5] END ....max_depth=75, n_estimators=100;, score=0.674 total time=   0.6s\n",
      "[CV 3/5] END ....max_depth=75, n_estimators=100;, score=0.942 total time=   0.9s\n",
      "[CV 4/5] END ....max_depth=75, n_estimators=100;, score=0.128 total time=   1.5s\n",
      "[CV 5/5] END ....max_depth=75, n_estimators=100;, score=0.767 total time=   2.1s\n",
      "[CV 1/5] END .....max_depth=100, n_estimators=5;, score=0.814 total time=   0.0s\n",
      "[CV 2/5] END .....max_depth=100, n_estimators=5;, score=0.616 total time=   0.0s\n",
      "[CV 3/5] END .....max_depth=100, n_estimators=5;, score=0.919 total time=   0.0s\n",
      "[CV 4/5] END .....max_depth=100, n_estimators=5;, score=0.128 total time=   0.0s\n",
      "[CV 5/5] END .....max_depth=100, n_estimators=5;, score=0.709 total time=   0.1s\n",
      "[CV 1/5] END ....max_depth=100, n_estimators=25;, score=0.814 total time=   0.0s\n",
      "[CV 2/5] END ....max_depth=100, n_estimators=25;, score=0.663 total time=   0.1s\n",
      "[CV 3/5] END ....max_depth=100, n_estimators=25;, score=0.942 total time=   0.5s\n",
      "[CV 4/5] END ....max_depth=100, n_estimators=25;, score=0.128 total time=   0.4s\n",
      "[CV 5/5] END ....max_depth=100, n_estimators=25;, score=0.744 total time=   0.8s\n",
      "[CV 1/5] END ....max_depth=100, n_estimators=50;, score=0.814 total time=   0.2s\n",
      "[CV 2/5] END ....max_depth=100, n_estimators=50;, score=0.674 total time=   0.5s\n",
      "[CV 3/5] END ....max_depth=100, n_estimators=50;, score=0.930 total time=   0.5s\n",
      "[CV 4/5] END ....max_depth=100, n_estimators=50;, score=0.128 total time=   0.7s\n",
      "[CV 5/5] END ....max_depth=100, n_estimators=50;, score=0.756 total time=   1.2s\n",
      "[CV 1/5] END ....max_depth=100, n_estimators=75;, score=0.814 total time=   0.2s\n",
      "[CV 2/5] END ....max_depth=100, n_estimators=75;, score=0.674 total time=   0.4s\n",
      "[CV 3/5] END ....max_depth=100, n_estimators=75;, score=0.942 total time=   0.7s\n",
      "[CV 4/5] END ....max_depth=100, n_estimators=75;, score=0.128 total time=   1.2s\n",
      "[CV 5/5] END ....max_depth=100, n_estimators=75;, score=0.767 total time=   1.7s\n",
      "[CV 1/5] END ...max_depth=100, n_estimators=100;, score=0.814 total time=   0.3s\n",
      "[CV 2/5] END ...max_depth=100, n_estimators=100;, score=0.674 total time=   0.7s\n",
      "[CV 3/5] END ...max_depth=100, n_estimators=100;, score=0.942 total time=   1.0s\n",
      "[CV 4/5] END ...max_depth=100, n_estimators=100;, score=0.128 total time=   1.4s\n",
      "[CV 5/5] END ...max_depth=100, n_estimators=100;, score=0.767 total time=   2.2s\n"
     ]
    },
    {
     "data": {
      "text/plain": [
       "GridSearchCV(cv=TimeSeriesSplit(gap=0, max_train_size=None, n_splits=5, test_size=None),\n",
       "             estimator=RandomForestClassifier(random_state=1234),\n",
       "             param_grid={'max_depth': [5, 25, 50, 75, 100],\n",
       "                         'n_estimators': [5, 25, 50, 75, 100]},\n",
       "             verbose=3)"
      ]
     },
     "execution_count": 10,
     "metadata": {},
     "output_type": "execute_result"
    }
   ],
   "source": [
    "rfc_param_grid = {'max_depth': [ 5, 25, 50, 75, 100], \n",
    "                  'n_estimators': [5, 25, 50, 75, 100]}\n",
    "rfc = RandomForestClassifier(random_state=1234, )\n",
    "tscv = TimeSeriesSplit(n_splits=5)\n",
    "rfc_grid_search = GridSearchCV(estimator=rfc, param_grid=rfc_param_grid, cv=tscv, verbose=3)\n",
    "rfc_grid_search.fit(X_time_train, y_time_train)"
   ]
  },
  {
   "cell_type": "code",
   "execution_count": 12,
   "metadata": {},
   "outputs": [
    {
     "data": {
      "text/plain": [
       "{'max_depth': 25, 'n_estimators': 75}"
      ]
     },
     "execution_count": 12,
     "metadata": {},
     "output_type": "execute_result"
    }
   ],
   "source": [
    "rfc_grid_search.best_params_"
   ]
  },
  {
   "cell_type": "code",
   "execution_count": 13,
   "metadata": {},
   "outputs": [
    {
     "data": {
      "text/plain": [
       "RandomForestClassifier(max_depth=25, n_estimators=75, random_state=1234)"
      ]
     },
     "execution_count": 13,
     "metadata": {},
     "output_type": "execute_result"
    }
   ],
   "source": [
    "rfc_grid_search.best_estimator_"
   ]
  },
  {
   "cell_type": "code",
   "execution_count": 14,
   "metadata": {},
   "outputs": [
    {
     "name": "stdout",
     "output_type": "stream",
     "text": [
      "[[33  0  7]\n",
      " [ 1 49  0]\n",
      " [ 5  0 35]]\n",
      "Classification report: \n",
      "              precision    recall  f1-score   support\n",
      "\n",
      "         0.0       0.85      0.82      0.84        40\n",
      "         1.0       1.00      0.98      0.99        50\n",
      "         2.0       0.83      0.88      0.85        40\n",
      "\n",
      "    accuracy                           0.90       130\n",
      "   macro avg       0.89      0.89      0.89       130\n",
      "weighted avg       0.90      0.90      0.90       130\n",
      "\n",
      "Accuracy:  0.9\n"
     ]
    },
    {
     "data": {
      "image/png": "[encoded data removed]",
      "text/plain": [
       "<Figure size 640x480 with 2 Axes>"
      ]
     },
     "metadata": {},
     "output_type": "display_data"
    }
   ],
   "source": [
    "rfc_time = make_pipeline(rfc_grid_search.best_estimator_)\n",
    "rfc_time.fit(X_time_train, y_time_train)\n",
    "y_time_pred = rfc_time.predict(X_time_test)\n",
    "y_time_pred_prob = rfc_time.predict_proba(X_time_test)\n",
    "rfc_time_result = confusion_matrix(y_time_test, y_time_pred)\n",
    "print(rfc_time_result)\n",
    "rfc_time_result1 = classification_report(y_time_test, y_time_pred)\n",
    "print(\"Classification report: \")\n",
    "print(rfc_time_result1)\n",
    "rfc_time_acc = accuracy_score(y_time_test,y_time_pred)\n",
    "print(\"Accuracy: \", rfc_time_acc)\n",
    "\n",
    "confusion_matrix_plot(rfc_time_result, \"Random Forest\", 0)\n"
   ]
  },
  {
   "cell_type": "code",
   "execution_count": 15,
   "metadata": {},
   "outputs": [
    {
     "name": "stdout",
     "output_type": "stream",
     "text": [
      "Fitting 5 folds for each of 8 candidates, totalling 40 fits\n",
      "[CV 1/5] END ................n_neighbors=1, p=1;, score=0.814 total time=   0.1s\n",
      "[CV 2/5] END ................n_neighbors=1, p=1;, score=0.570 total time=   0.1s\n",
      "[CV 3/5] END ................n_neighbors=1, p=1;, score=0.965 total time=   0.2s\n",
      "[CV 4/5] END ................n_neighbors=1, p=1;, score=0.128 total time=   0.2s\n",
      "[CV 5/5] END ................n_neighbors=1, p=1;, score=0.686 total time=   0.4s\n",
      "[CV 1/5] END ................n_neighbors=1, p=2;, score=0.814 total time=   0.0s\n",
      "[CV 2/5] END ................n_neighbors=1, p=2;, score=0.547 total time=   0.0s\n",
      "[CV 3/5] END ................n_neighbors=1, p=2;, score=0.965 total time=   0.0s\n",
      "[CV 4/5] END ................n_neighbors=1, p=2;, score=0.128 total time=   0.0s\n",
      "[CV 5/5] END ................n_neighbors=1, p=2;, score=0.674 total time=   0.0s\n",
      "[CV 1/5] END ................n_neighbors=2, p=1;, score=0.814 total time=   0.0s\n",
      "[CV 2/5] END ................n_neighbors=2, p=1;, score=0.407 total time=   0.1s\n",
      "[CV 3/5] END ................n_neighbors=2, p=1;, score=0.919 total time=   0.2s\n",
      "[CV 4/5] END ................n_neighbors=2, p=1;, score=0.128 total time=   0.5s\n",
      "[CV 5/5] END ................n_neighbors=2, p=1;, score=0.523 total time=   0.5s\n",
      "[CV 1/5] END ................n_neighbors=2, p=2;, score=0.814 total time=   0.0s\n",
      "[CV 2/5] END ................n_neighbors=2, p=2;, score=0.419 total time=   0.0s\n",
      "[CV 3/5] END ................n_neighbors=2, p=2;, score=0.907 total time=   0.0s\n",
      "[CV 4/5] END ................n_neighbors=2, p=2;, score=0.128 total time=   0.0s\n",
      "[CV 5/5] END ................n_neighbors=2, p=2;, score=0.535 total time=   0.0s\n",
      "[CV 1/5] END ................n_neighbors=3, p=1;, score=0.814 total time=   0.0s\n",
      "[CV 2/5] END ................n_neighbors=3, p=1;, score=0.640 total time=   0.1s\n",
      "[CV 3/5] END ................n_neighbors=3, p=1;, score=0.977 total time=   0.2s\n",
      "[CV 4/5] END ................n_neighbors=3, p=1;, score=0.140 total time=   0.2s\n",
      "[CV 5/5] END ................n_neighbors=3, p=1;, score=0.547 total time=   0.4s\n",
      "[CV 1/5] END ................n_neighbors=3, p=2;, score=0.814 total time=   0.0s\n",
      "[CV 2/5] END ................n_neighbors=3, p=2;, score=0.651 total time=   0.0s\n",
      "[CV 3/5] END ................n_neighbors=3, p=2;, score=0.988 total time=   0.0s\n",
      "[CV 4/5] END ................n_neighbors=3, p=2;, score=0.140 total time=   0.0s\n",
      "[CV 5/5] END ................n_neighbors=3, p=2;, score=0.616 total time=   0.0s\n",
      "[CV 1/5] END ................n_neighbors=4, p=1;, score=0.814 total time=   0.0s\n",
      "[CV 2/5] END ................n_neighbors=4, p=1;, score=0.465 total time=   0.1s\n",
      "[CV 3/5] END ................n_neighbors=4, p=1;, score=0.965 total time=   0.2s\n",
      "[CV 4/5] END ................n_neighbors=4, p=1;, score=0.140 total time=   0.3s\n",
      "[CV 5/5] END ................n_neighbors=4, p=1;, score=0.523 total time=   0.3s\n",
      "[CV 1/5] END ................n_neighbors=4, p=2;, score=0.814 total time=   0.0s\n",
      "[CV 2/5] END ................n_neighbors=4, p=2;, score=0.488 total time=   0.0s\n",
      "[CV 3/5] END ................n_neighbors=4, p=2;, score=0.953 total time=   0.0s\n",
      "[CV 4/5] END ................n_neighbors=4, p=2;, score=0.140 total time=   0.1s\n",
      "[CV 5/5] END ................n_neighbors=4, p=2;, score=0.558 total time=   0.0s\n",
      "Best p: 2\n",
      "Best n_neighbors: 3\n"
     ]
    }
   ],
   "source": [
    "# Hyper parameter tuning for knn - COMMENT OUT IF YOU DON'T WANT TO RUN (TAKES A LONG TIME)\n",
    "\n",
    "n_neighbors = list(range(1,5))\n",
    "p = [1,2]\n",
    "#Convert to dictionary\n",
    "hyperparameters = dict( n_neighbors=n_neighbors, p=p)\n",
    "\n",
    "#Create new KNN object\n",
    "knn_2 = KNeighborsClassifier()#Use GridSearch\n",
    "clf = GridSearchCV(knn_2, hyperparameters, verbose=3, cv=tscv)\n",
    "\n",
    "#Fit the model\n",
    "knn_grid_search = clf.fit(X_time_train,y_time_train)\n",
    "\n",
    "print('Best p:', knn_grid_search.best_estimator_.get_params()['p'])\n",
    "print('Best n_neighbors:', knn_grid_search.best_estimator_.get_params()['n_neighbors'])"
   ]
  },
  {
   "cell_type": "code",
   "execution_count": 16,
   "metadata": {},
   "outputs": [
    {
     "data": {
      "text/plain": [
       "{'n_neighbors': 3, 'p': 2}"
      ]
     },
     "execution_count": 16,
     "metadata": {},
     "output_type": "execute_result"
    }
   ],
   "source": [
    "knn_grid_search.best_params_"
   ]
  },
  {
   "cell_type": "code",
   "execution_count": 17,
   "metadata": {},
   "outputs": [
    {
     "name": "stdout",
     "output_type": "stream",
     "text": [
      "Confusion Matrix: \n",
      "[[38  0  2]\n",
      " [ 0 50  0]\n",
      " [ 5  0 35]]\n",
      "Classification report: \n",
      "              precision    recall  f1-score   support\n",
      "\n",
      "         0.0       0.88      0.95      0.92        40\n",
      "         1.0       1.00      1.00      1.00        50\n",
      "         2.0       0.95      0.88      0.91        40\n",
      "\n",
      "    accuracy                           0.95       130\n",
      "   macro avg       0.94      0.94      0.94       130\n",
      "weighted avg       0.95      0.95      0.95       130\n",
      "\n",
      "Accuracy:  0.9461538461538461\n"
     ]
    },
    {
     "data": {
      "image/png": "[encoded data removed]",
      "text/plain": [
       "<Figure size 640x480 with 2 Axes>"
      ]
     },
     "metadata": {},
     "output_type": "display_data"
    }
   ],
   "source": [
    "knn = make_pipeline(StandardScaler(),knn_grid_search.best_estimator_)\n",
    "knn.fit(X_time_train, y_time_train)\n",
    "y_time_pred = knn.predict(X_time_test)\n",
    "y_time_pred_prob = knn.predict_proba(X_time_test)\n",
    "knn_time_result = confusion_matrix(y_time_test, y_time_pred)\n",
    "print(\"Confusion Matrix: \")\n",
    "print(knn_time_result)\n",
    "knn_class_report = classification_report(y_time_test, y_time_pred)\n",
    "print(\"Classification report: \")\n",
    "print(knn_class_report)\n",
    "knn_acc = accuracy_score(y_time_test,y_time_pred)\n",
    "print(\"Accuracy: \",knn_acc)\n",
    "\n",
    "confusion_matrix_plot(knn_time_result, \"KNN\", 0)"
   ]
  },
  {
   "cell_type": "code",
   "execution_count": 18,
   "metadata": {},
   "outputs": [
    {
     "name": "stdout",
     "output_type": "stream",
     "text": [
      "Fitting 5 folds for each of 18 candidates, totalling 90 fits\n",
      "[CV] END ...........................C=1, gamma=1, kernel=rbf; total time=   0.0s\n",
      "[CV] END ...........................C=1, gamma=1, kernel=rbf; total time=   0.6s\n",
      "[CV] END ...........................C=1, gamma=1, kernel=rbf; total time=   3.4s\n",
      "[CV] END ...........................C=1, gamma=1, kernel=rbf; total time=   5.0s\n",
      "[CV] END ...........................C=1, gamma=1, kernel=rbf; total time=   7.0s\n",
      "[CV] END ..........................C=1, gamma=1, kernel=poly; total time=   0.0s\n",
      "[CV] END ..........................C=1, gamma=1, kernel=poly; total time=   0.5s\n",
      "[CV] END ..........................C=1, gamma=1, kernel=poly; total time=   2.4s\n",
      "[CV] END ..........................C=1, gamma=1, kernel=poly; total time=   3.7s\n",
      "[CV] END ..........................C=1, gamma=1, kernel=poly; total time=   5.8s\n",
      "[CV] END ...........................C=1, gamma=2, kernel=rbf; total time=   0.0s\n",
      "[CV] END ...........................C=1, gamma=2, kernel=rbf; total time=   0.6s\n",
      "[CV] END ...........................C=1, gamma=2, kernel=rbf; total time=   2.9s\n",
      "[CV] END ...........................C=1, gamma=2, kernel=rbf; total time=   4.1s\n",
      "[CV] END ...........................C=1, gamma=2, kernel=rbf; total time=   6.1s\n",
      "[CV] END ..........................C=1, gamma=2, kernel=poly; total time=   0.0s\n",
      "[CV] END ..........................C=1, gamma=2, kernel=poly; total time=   0.6s\n",
      "[CV] END ..........................C=1, gamma=2, kernel=poly; total time=   1.9s\n",
      "[CV] END ..........................C=1, gamma=2, kernel=poly; total time=   2.7s\n",
      "[CV] END ..........................C=1, gamma=2, kernel=poly; total time=   4.0s\n",
      "[CV] END ...........................C=1, gamma=5, kernel=rbf; total time=   0.0s\n",
      "[CV] END ...........................C=1, gamma=5, kernel=rbf; total time=   0.5s\n",
      "[CV] END ...........................C=1, gamma=5, kernel=rbf; total time=   2.3s\n",
      "[CV] END ...........................C=1, gamma=5, kernel=rbf; total time=   3.3s\n",
      "[CV] END ...........................C=1, gamma=5, kernel=rbf; total time=   5.5s\n",
      "[CV] END ..........................C=1, gamma=5, kernel=poly; total time=   0.0s\n",
      "[CV] END ..........................C=1, gamma=5, kernel=poly; total time=   0.4s\n",
      "[CV] END ..........................C=1, gamma=5, kernel=poly; total time=   1.1s\n",
      "[CV] END ..........................C=1, gamma=5, kernel=poly; total time=   1.4s\n",
      "[CV] END ..........................C=1, gamma=5, kernel=poly; total time=   2.6s\n",
      "[CV] END ...........................C=2, gamma=1, kernel=rbf; total time=   0.0s\n",
      "[CV] END ...........................C=2, gamma=1, kernel=rbf; total time=   0.6s\n",
      "[CV] END ...........................C=2, gamma=1, kernel=rbf; total time=   2.8s\n",
      "[CV] END ...........................C=2, gamma=1, kernel=rbf; total time=   4.0s\n",
      "[CV] END ...........................C=2, gamma=1, kernel=rbf; total time=   6.0s\n",
      "[CV] END ..........................C=2, gamma=1, kernel=poly; total time=   0.0s\n",
      "[CV] END ..........................C=2, gamma=1, kernel=poly; total time=   0.6s\n",
      "[CV] END ..........................C=2, gamma=1, kernel=poly; total time=   2.4s\n",
      "[CV] END ..........................C=2, gamma=1, kernel=poly; total time=   3.3s\n",
      "[CV] END ..........................C=2, gamma=1, kernel=poly; total time=   5.2s\n",
      "[CV] END ...........................C=2, gamma=2, kernel=rbf; total time=   0.0s\n",
      "[CV] END ...........................C=2, gamma=2, kernel=rbf; total time=   0.6s\n",
      "[CV] END ...........................C=2, gamma=2, kernel=rbf; total time=   2.4s\n",
      "[CV] END ...........................C=2, gamma=2, kernel=rbf; total time=   3.4s\n",
      "[CV] END ...........................C=2, gamma=2, kernel=rbf; total time=   5.0s\n",
      "[CV] END ..........................C=2, gamma=2, kernel=poly; total time=   0.0s\n",
      "[CV] END ..........................C=2, gamma=2, kernel=poly; total time=   0.6s\n",
      "[CV] END ..........................C=2, gamma=2, kernel=poly; total time=   1.6s\n",
      "[CV] END ..........................C=2, gamma=2, kernel=poly; total time=   2.2s\n",
      "[CV] END ..........................C=2, gamma=2, kernel=poly; total time=   3.5s\n",
      "[CV] END ...........................C=2, gamma=5, kernel=rbf; total time=   0.0s\n",
      "[CV] END ...........................C=2, gamma=5, kernel=rbf; total time=   0.6s\n",
      "[CV] END ...........................C=2, gamma=5, kernel=rbf; total time=   1.9s\n",
      "[CV] END ...........................C=2, gamma=5, kernel=rbf; total time=   2.6s\n",
      "[CV] END ...........................C=2, gamma=5, kernel=rbf; total time=   4.9s\n",
      "[CV] END ..........................C=2, gamma=5, kernel=poly; total time=   0.0s\n",
      "[CV] END ..........................C=2, gamma=5, kernel=poly; total time=   0.3s\n",
      "[CV] END ..........................C=2, gamma=5, kernel=poly; total time=   1.0s\n",
      "[CV] END ..........................C=2, gamma=5, kernel=poly; total time=   1.3s\n",
      "[CV] END ..........................C=2, gamma=5, kernel=poly; total time=   2.6s\n",
      "[CV] END ...........................C=5, gamma=1, kernel=rbf; total time=   0.0s\n",
      "[CV] END ...........................C=5, gamma=1, kernel=rbf; total time=   0.5s\n",
      "[CV] END ...........................C=5, gamma=1, kernel=rbf; total time=   2.2s\n",
      "[CV] END ...........................C=5, gamma=1, kernel=rbf; total time=   3.2s\n",
      "[CV] END ...........................C=5, gamma=1, kernel=rbf; total time=   4.6s\n",
      "[CV] END ..........................C=5, gamma=1, kernel=poly; total time=   0.0s\n",
      "[CV] END ..........................C=5, gamma=1, kernel=poly; total time=   0.6s\n",
      "[CV] END ..........................C=5, gamma=1, kernel=poly; total time=   2.0s\n",
      "[CV] END ..........................C=5, gamma=1, kernel=poly; total time=   2.9s\n",
      "[CV] END ..........................C=5, gamma=1, kernel=poly; total time=   4.4s\n",
      "[CV] END ...........................C=5, gamma=2, kernel=rbf; total time=   0.0s\n",
      "[CV] END ...........................C=5, gamma=2, kernel=rbf; total time=   0.5s\n",
      "[CV] END ...........................C=5, gamma=2, kernel=rbf; total time=   1.9s\n",
      "[CV] END ...........................C=5, gamma=2, kernel=rbf; total time=   2.5s\n",
      "[CV] END ...........................C=5, gamma=2, kernel=rbf; total time=   3.8s\n",
      "[CV] END ..........................C=5, gamma=2, kernel=poly; total time=   0.0s\n",
      "[CV] END ..........................C=5, gamma=2, kernel=poly; total time=   0.4s\n",
      "[CV] END ..........................C=5, gamma=2, kernel=poly; total time=   1.3s\n",
      "[CV] END ..........................C=5, gamma=2, kernel=poly; total time=   1.8s\n",
      "[CV] END ..........................C=5, gamma=2, kernel=poly; total time=   3.3s\n",
      "[CV] END ...........................C=5, gamma=5, kernel=rbf; total time=   0.0s\n",
      "[CV] END ...........................C=5, gamma=5, kernel=rbf; total time=   0.5s\n",
      "[CV] END ...........................C=5, gamma=5, kernel=rbf; total time=   1.5s\n",
      "[CV] END ...........................C=5, gamma=5, kernel=rbf; total time=   2.0s\n",
      "[CV] END ...........................C=5, gamma=5, kernel=rbf; total time=   3.7s\n",
      "[CV] END ..........................C=5, gamma=5, kernel=poly; total time=   0.0s\n",
      "[CV] END ..........................C=5, gamma=5, kernel=poly; total time=   0.3s\n",
      "[CV] END ..........................C=5, gamma=5, kernel=poly; total time=   0.9s\n",
      "[CV] END ..........................C=5, gamma=5, kernel=poly; total time=   1.3s\n",
      "[CV] END ..........................C=5, gamma=5, kernel=poly; total time=   2.6s\n"
     ]
    },
    {
     "name": "stderr",
     "output_type": "stream",
     "text": [
      "C:\\Users\\Abdus\\AppData\\Local\\Packages\\PythonSoftwareFoundation.Python.3.7_qbz5n2kfra8p0\\LocalCache\\local-packages\\Python37\\site-packages\\sklearn\\model_selection\\_validation.py:372: FitFailedWarning: \n",
      "18 fits failed out of a total of 90.\n",
      "The score on these train-test partitions for these parameters will be set to nan.\n",
      "If these failures are not expected, you can try to debug them by setting error_score='raise'.\n",
      "\n",
      "Below are more details about the failures:\n",
      "--------------------------------------------------------------------------------\n",
      "18 fits failed with the following error:\n",
      "Traceback (most recent call last):\n",
      "  File \"C:\\Users\\Abdus\\AppData\\Local\\Packages\\PythonSoftwareFoundation.Python.3.7_qbz5n2kfra8p0\\LocalCache\\local-packages\\Python37\\site-packages\\sklearn\\model_selection\\_validation.py\", line 680, in _fit_and_score\n",
      "    estimator.fit(X_train, y_train, **fit_params)\n",
      "  File \"C:\\Users\\Abdus\\AppData\\Local\\Packages\\PythonSoftwareFoundation.Python.3.7_qbz5n2kfra8p0\\LocalCache\\local-packages\\Python37\\site-packages\\sklearn\\svm\\_base.py\", line 199, in fit\n",
      "    y = self._validate_targets(y)\n",
      "  File \"C:\\Users\\Abdus\\AppData\\Local\\Packages\\PythonSoftwareFoundation.Python.3.7_qbz5n2kfra8p0\\LocalCache\\local-packages\\Python37\\site-packages\\sklearn\\svm\\_base.py\", line 722, in _validate_targets\n",
      "    % len(cls)\n",
      "ValueError: The number of classes has to be greater than one; got 1 class\n",
      "\n",
      "  warnings.warn(some_fits_failed_message, FitFailedWarning)\n",
      "C:\\Users\\Abdus\\AppData\\Local\\Packages\\PythonSoftwareFoundation.Python.3.7_qbz5n2kfra8p0\\LocalCache\\local-packages\\Python37\\site-packages\\sklearn\\model_selection\\_search.py:972: UserWarning: One or more of the test scores are non-finite: [nan nan nan nan nan nan nan nan nan nan nan nan nan nan nan nan nan nan]\n",
      "  category=UserWarning,\n"
     ]
    },
    {
     "data": {
      "text/plain": [
       "GridSearchCV(cv=TimeSeriesSplit(gap=0, max_train_size=None, n_splits=5, test_size=None),\n",
       "             estimator=SVC(random_state=1234),\n",
       "             param_grid={'C': [1, 2, 5], 'gamma': [1, 2, 5],\n",
       "                         'kernel': ['rbf', 'poly']},\n",
       "             verbose=2)"
      ]
     },
     "execution_count": 18,
     "metadata": {},
     "output_type": "execute_result"
    }
   ],
   "source": [
    "\n",
    "svc_param_grid = { \n",
    "    # Regularization parameter.\n",
    "    \"C\": [1, 2, 5],\n",
    "    # Kernel type\n",
    "    \"kernel\": ['rbf', 'poly'],\n",
    "    # Gamma is the Kernel coefficient for ‘rbf’, ‘poly’ and ‘sigmoid’.\n",
    "    \"gamma\": [1, 2, 5],\n",
    "    }\n",
    "\n",
    "svc = SVC(random_state=1234)\n",
    "svc_grid_search = GridSearchCV(estimator=svc, param_grid=svc_param_grid, cv=tscv, verbose=2)\n",
    "svc_grid_search.fit(X_time_train, y_time_train)"
   ]
  },
  {
   "cell_type": "code",
   "execution_count": 19,
   "metadata": {},
   "outputs": [
    {
     "data": {
      "text/plain": [
       "{'C': 1, 'gamma': 1, 'kernel': 'rbf'}"
      ]
     },
     "execution_count": 19,
     "metadata": {},
     "output_type": "execute_result"
    }
   ],
   "source": [
    "svc_grid_search.best_params_"
   ]
  },
  {
   "cell_type": "code",
   "execution_count": 20,
   "metadata": {},
   "outputs": [],
   "source": [
    "poly = SVC(C=svc_grid_search.best_params_['C'], gamma=svc_grid_search.best_params_['gamma'],kernel=svc_grid_search.best_params_['kernel'])\n",
    "poly.fit(X_time_train, y_time_train)\n",
    "poly_pred = poly.predict(X_time_test)"
   ]
  },
  {
   "cell_type": "code",
   "execution_count": 21,
   "metadata": {},
   "outputs": [
    {
     "name": "stdout",
     "output_type": "stream",
     "text": [
      "Classification report: \n",
      "              precision    recall  f1-score   support\n",
      "\n",
      "         0.0       0.87      1.00      0.93        40\n",
      "         1.0       0.93      1.00      0.96        50\n",
      "         2.0       1.00      0.75      0.86        40\n",
      "\n",
      "    accuracy                           0.92       130\n",
      "   macro avg       0.93      0.92      0.92       130\n",
      "weighted avg       0.93      0.92      0.92       130\n",
      "\n",
      "Accuracy:  0.9230769230769231\n"
     ]
    },
    {
     "data": {
      "image/png": "[encoded data removed]",
      "text/plain": [
       "<Figure size 640x480 with 2 Axes>"
      ]
     },
     "metadata": {},
     "output_type": "display_data"
    }
   ],
   "source": [
    "poly_result = confusion_matrix(y_time_test, poly_pred)\n",
    "poly_classification_rep = classification_report(y_time_test, poly_pred)\n",
    "print(\"Classification report: \")\n",
    "print(poly_classification_rep)\n",
    "poly_acc = accuracy_score(y_time_test,poly_pred)\n",
    "print(\"Accuracy: \", poly_acc)\n",
    "confusion_matrix_plot(poly_result, \"SVM\", 0)"
   ]
  },
  {
   "cell_type": "code",
   "execution_count": 23,
   "metadata": {},
   "outputs": [
    {
     "name": "stdout",
     "output_type": "stream",
     "text": [
      "Classification report: \n",
      "              precision    recall  f1-score   support\n",
      "\n",
      "         0.0       0.76      0.85      0.80        33\n",
      "         1.0       0.92      0.92      0.92        53\n",
      "         2.0       0.95      0.86      0.90        44\n",
      "\n",
      "    accuracy                           0.88       130\n",
      "   macro avg       0.88      0.88      0.88       130\n",
      "weighted avg       0.89      0.88      0.89       130\n",
      "\n"
     ]
    },
    {
     "data": {
      "image/png": "[encoded data removed]",
      "text/plain": [
       "<Figure size 640x480 with 2 Axes>"
      ]
     },
     "metadata": {},
     "output_type": "display_data"
    }
   ],
   "source": [
    "X_train, X_test, y_train, y_test = train_test_split(X, Y, train_size=train_split, random_state=1234)\n",
    "\n",
    "rfc_rand = make_pipeline(rfc_grid_search.best_estimator_)\n",
    "rfc_rand.fit(X_train, y_train)\n",
    "y_pred = rfc_rand.predict(X_test)\n",
    "rfc_result = confusion_matrix(y_test, y_pred)\n",
    "rfc_result1 = classification_report(y_test, y_pred)\n",
    "print(\"Classification report: \")\n",
    "print(rfc_result1)\n",
    "rfc_acc = accuracy_score(y_test,y_pred)\n",
    "\n",
    "\n",
    "confusion_matrix_plot(rfc_result, \"Random Forest\", 0)"
   ]
  },
  {
   "cell_type": "code",
   "execution_count": 24,
   "metadata": {},
   "outputs": [
    {
     "name": "stdout",
     "output_type": "stream",
     "text": [
      "Confusion Matrix: \n",
      "[[29  4  0]\n",
      " [ 0 53  0]\n",
      " [ 7  1 36]]\n",
      "Classification report: \n",
      "              precision    recall  f1-score   support\n",
      "\n",
      "         0.0       0.81      0.88      0.84        33\n",
      "         1.0       0.91      1.00      0.95        53\n",
      "         2.0       1.00      0.82      0.90        44\n",
      "\n",
      "    accuracy                           0.91       130\n",
      "   macro avg       0.91      0.90      0.90       130\n",
      "weighted avg       0.92      0.91      0.91       130\n",
      "\n",
      "Accuracy:  0.9076923076923077\n"
     ]
    },
    {
     "data": {
      "image/png": "[encoded data removed]",
      "text/plain": [
       "<Figure size 640x480 with 2 Axes>"
      ]
     },
     "metadata": {},
     "output_type": "display_data"
    }
   ],
   "source": [
    "knn = make_pipeline(StandardScaler(),knn_grid_search.best_estimator_)\n",
    "knn.fit(X_train, y_train)\n",
    "y_pred = knn.predict(X_test)\n",
    "knn_result = confusion_matrix(y_test, y_pred)\n",
    "print(\"Confusion Matrix: \")\n",
    "print(knn_result)\n",
    "knn_class_report = classification_report(y_test, y_pred)\n",
    "print(\"Classification report: \")\n",
    "print(knn_class_report)\n",
    "knn_acc = accuracy_score(y_test,y_pred)\n",
    "print(\"Accuracy: \",knn_acc)\n",
    "\n",
    "confusion_matrix_plot(knn_result, \"KNN\", 0)"
   ]
  },
  {
   "cell_type": "code",
   "execution_count": 25,
   "metadata": {},
   "outputs": [
    {
     "name": "stdout",
     "output_type": "stream",
     "text": [
      "Confusion Matrix: \n",
      "[[26  7  0]\n",
      " [ 0 52  1]\n",
      " [12  2 30]]\n",
      "Classification report: \n",
      "              precision    recall  f1-score   support\n",
      "\n",
      "         0.0       0.68      0.79      0.73        33\n",
      "         1.0       0.85      0.98      0.91        53\n",
      "         2.0       0.97      0.68      0.80        44\n",
      "\n",
      "    accuracy                           0.83       130\n",
      "   macro avg       0.83      0.82      0.81       130\n",
      "weighted avg       0.85      0.83      0.83       130\n",
      "\n",
      "Accuracy:  0.8307692307692308\n"
     ]
    }
   ],
   "source": [
    "poly = SVC(C=svc_grid_search.best_params_['C'], gamma=svc_grid_search.best_params_['gamma'],kernel=svc_grid_search.best_params_['kernel'])\n",
    "poly.fit(X_train, y_train)\n",
    "y_pred = poly.predict(X_test)\n",
    "poly_result = confusion_matrix(y_test, y_pred)\n",
    "print(\"Confusion Matrix: \")\n",
    "print(poly_result)\n",
    "poly_class_report = classification_report(y_test, y_pred)\n",
    "print(\"Classification report: \")\n",
    "print(poly_class_report)\n",
    "poly_acc = accuracy_score(y_test,y_pred)\n",
    "print(\"Accuracy: \",poly_acc)"
   ]
  },
  {
   "cell_type": "code",
   "execution_count": 26,
   "metadata": {},
   "outputs": [
    {
     "data": {
      "image/png": "[encoded data removed]",
      "text/plain": [
       "<Figure size 640x480 with 2 Axes>"
      ]
     },
     "metadata": {},
     "output_type": "display_data"
    }
   ],
   "source": [
    "confusion_matrix_plot(poly_result, \"SVM\", 0)"
   ]
  },
  {
   "cell_type": "code",
   "execution_count": 9,
   "metadata": {},
   "outputs": [],
   "source": [
    "from keras import models, layers, initializers, utils, callbacks, regularizers\n",
    "import tensorflow as tf"
   ]
  },
  {
   "cell_type": "code",
   "execution_count": 10,
   "metadata": {},
   "outputs": [
    {
     "data": {
      "text/plain": [
       "(520, 3)"
      ]
     },
     "execution_count": 10,
     "metadata": {},
     "output_type": "execute_result"
    }
   ],
   "source": [
    "train_labels = utils.to_categorical(y_time_train)\n",
    "train_labels.shape"
   ]
  },
  {
   "cell_type": "code",
   "execution_count": 67,
   "metadata": {},
   "outputs": [
    {
     "name": "stdout",
     "output_type": "stream",
     "text": [
      "Model: \"sequential_23\"\n",
      "_________________________________________________________________\n",
      " Layer (type)                Output Shape              Param #   \n",
      "=================================================================\n",
      " conv1d_44 (Conv1D)          (None, 3331, 32)          352       \n",
      "                                                                 \n",
      " max_pooling1d_38 (MaxPoolin  (None, 1110, 32)         0         \n",
      " g1D)                                                            \n",
      "                                                                 \n",
      " conv1d_45 (Conv1D)          (None, 553, 16)           2576      \n",
      "                                                                 \n",
      " max_pooling1d_39 (MaxPoolin  (None, 276, 16)          0         \n",
      " g1D)                                                            \n",
      "                                                                 \n",
      " flatten_17 (Flatten)        (None, 4416)              0         \n",
      "                                                                 \n",
      " dense_39 (Dense)            (None, 256)               1130752   \n",
      "                                                                 \n",
      " dense_40 (Dense)            (None, 64)                16448     \n",
      "                                                                 \n",
      " dropout_15 (Dropout)        (None, 64)                0         \n",
      "                                                                 \n",
      " dense_41 (Dense)            (None, 3)                 195       \n",
      "                                                                 \n",
      "=================================================================\n",
      "Total params: 1,150,323\n",
      "Trainable params: 1,150,323\n",
      "Non-trainable params: 0\n",
      "_________________________________________________________________\n"
     ]
    }
   ],
   "source": [
    "model = models.Sequential(\n",
    "    [\n",
    "        layers.Input(shape=(X_time_train.shape[1],1)),\n",
    "        layers.Conv1D(32, 10, strides=3, activation='relu'),\n",
    "        layers.MaxPool1D(pool_size=3, strides=3),\n",
    "        layers.Conv1D(16, 5, strides=2, activation='relu'),\n",
    "        layers.MaxPool1D(pool_size=2, strides=2),\n",
    "        #layers.SpatialDropout1D(0.6),\n",
    "        layers.Flatten(),\n",
    "        layers.Dense(256, activation='linear'),\n",
    "        layers.Dense(64, activation='linear'),\n",
    "        layers.Dropout(0.6),\n",
    "        layers.Dense(3, activation=\"softmax\")\n",
    "    ]\n",
    ")\n",
    "\n",
    "model.summary()"
   ]
  },
  {
   "cell_type": "code",
   "execution_count": 68,
   "metadata": {},
   "outputs": [
    {
     "name": "stdout",
     "output_type": "stream",
     "text": [
      "Epoch 1/100\n",
      "8/8 [==============================] - 5s 243ms/step - loss: 1.0883 - accuracy: 0.4017 - val_loss: 1.3338 - val_accuracy: 0.0769\n",
      "Epoch 2/100\n",
      "8/8 [==============================] - 1s 181ms/step - loss: 1.0286 - accuracy: 0.4658 - val_loss: 1.4771 - val_accuracy: 0.0962\n",
      "Epoch 3/100\n",
      "8/8 [==============================] - 2s 186ms/step - loss: 0.9419 - accuracy: 0.5064 - val_loss: 0.9339 - val_accuracy: 0.5962\n",
      "Epoch 4/100\n",
      "8/8 [==============================] - 2s 202ms/step - loss: 0.8043 - accuracy: 0.6667 - val_loss: 1.2052 - val_accuracy: 0.3654\n",
      "Epoch 5/100\n",
      "8/8 [==============================] - 2s 216ms/step - loss: 0.6590 - accuracy: 0.7543 - val_loss: 0.2485 - val_accuracy: 0.9038\n",
      "Epoch 6/100\n",
      "8/8 [==============================] - 2s 196ms/step - loss: 0.6261 - accuracy: 0.7457 - val_loss: 0.9262 - val_accuracy: 0.5769\n",
      "Epoch 7/100\n",
      "8/8 [==============================] - 1s 184ms/step - loss: 0.5433 - accuracy: 0.7906 - val_loss: 0.8154 - val_accuracy: 0.6346\n",
      "Epoch 8/100\n",
      "8/8 [==============================] - 2s 187ms/step - loss: 0.4806 - accuracy: 0.8269 - val_loss: 0.7451 - val_accuracy: 0.6538\n",
      "Epoch 9/100\n",
      "8/8 [==============================] - 2s 205ms/step - loss: 0.4110 - accuracy: 0.8526 - val_loss: 0.6230 - val_accuracy: 0.6923\n",
      "Epoch 10/100\n",
      "8/8 [==============================] - 2s 192ms/step - loss: 0.4236 - accuracy: 0.8547 - val_loss: 0.4637 - val_accuracy: 0.7885\n",
      "Epoch 11/100\n",
      "8/8 [==============================] - 2s 202ms/step - loss: 0.4395 - accuracy: 0.8226 - val_loss: 0.5505 - val_accuracy: 0.7885\n",
      "Epoch 12/100\n",
      "8/8 [==============================] - 2s 205ms/step - loss: 0.3604 - accuracy: 0.8675 - val_loss: 0.8270 - val_accuracy: 0.6538\n"
     ]
    }
   ],
   "source": [
    "es = callbacks.EarlyStopping(monitor='val_accuracy', patience=7)\n",
    "model.compile(loss=\"categorical_crossentropy\", \n",
    "              optimizer=\"adam\", \n",
    "              metrics=[\"accuracy\"])\n",
    "\n",
    "history = model.fit(X_time_train, train_labels,\n",
    "                    batch_size=64, \n",
    "                    epochs=100, \n",
    "                    validation_split=0.1,\n",
    "                    callbacks=[es])"
   ]
  },
  {
   "cell_type": "code",
   "execution_count": 69,
   "metadata": {},
   "outputs": [],
   "source": [
    "test_labels  = utils.to_categorical(y_time_test)"
   ]
  },
  {
   "cell_type": "code",
   "execution_count": 70,
   "metadata": {},
   "outputs": [
    {
     "name": "stdout",
     "output_type": "stream",
     "text": [
      "3/3 [==============================] - 0s 36ms/step - loss: 0.2778 - accuracy: 0.9308\n"
     ]
    },
    {
     "data": {
      "text/plain": [
       "(0.2778123617172241, 0.9307692050933838)"
      ]
     },
     "execution_count": 70,
     "metadata": {},
     "output_type": "execute_result"
    }
   ],
   "source": [
    "loss, acc = model.evaluate(X_time_test, test_labels, batch_size=64)\n",
    "loss,acc"
   ]
  },
  {
   "cell_type": "code",
   "execution_count": 71,
   "metadata": {},
   "outputs": [
    {
     "name": "stdout",
     "output_type": "stream",
     "text": [
      "5/5 [==============================] - 0s 22ms/step\n"
     ]
    }
   ],
   "source": [
    "y_pred = np.argmax(model.predict(X_time_test), axis=1)"
   ]
  },
  {
   "cell_type": "code",
   "execution_count": 72,
   "metadata": {},
   "outputs": [],
   "source": [
    "cnn_cm = confusion_matrix(y_time_test, y_pred)"
   ]
  },
  {
   "cell_type": "code",
   "execution_count": 73,
   "metadata": {},
   "outputs": [
    {
     "data": {
      "image/png": "[encoded data removed]",
      "text/plain": [
       "<Figure size 640x480 with 2 Axes>"
      ]
     },
     "metadata": {},
     "output_type": "display_data"
    }
   ],
   "source": [
    "confusion_matrix_plot(cnn_cm, \"CNN\", 0)"
   ]
  },
  {
   "cell_type": "code",
   "execution_count": 74,
   "metadata": {},
   "outputs": [
    {
     "name": "stdout",
     "output_type": "stream",
     "text": [
      "              precision    recall  f1-score   support\n",
      "\n",
      "         0.0       0.83      1.00      0.91        40\n",
      "         1.0       0.98      1.00      0.99        50\n",
      "         2.0       1.00      0.78      0.87        40\n",
      "\n",
      "    accuracy                           0.93       130\n",
      "   macro avg       0.94      0.92      0.92       130\n",
      "weighted avg       0.94      0.93      0.93       130\n",
      "\n"
     ]
    }
   ],
   "source": [
    "cnn_class_report = classification_report(y_time_test, y_pred)\n",
    "print(cnn_class_report)"
   ]
  }
 ],
 "metadata": {
  "kernelspec": {
   "display_name": "Python 3",
   "language": "python",
   "name": "python3"
  },
  "language_info": {
   "codemirror_mode": {
    "name": "ipython",
    "version": 3
   },
   "file_extension": ".py",
   "mimetype": "text/x-python",
   "name": "python",
   "nbconvert_exporter": "python",
   "pygments_lexer": "ipython3",
   "version": "3.7.9"
  },
  "orig_nbformat": 4,
  "vscode": {
   "interpreter": {
    "hash": "9f79606e34b3657ca7e79b69d16ce71d6cda752753ffec416cd0e9c51f24d40b"
   }
  }
 },
 "nbformat": 4,
 "nbformat_minor": 2
}
