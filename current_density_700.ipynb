{
 "cells": [
  {
   "cell_type": "code",
   "execution_count": 1,
   "metadata": {},
   "outputs": [],
   "source": [
    "import numpy as np\n",
    "import matplotlib.pyplot as plt\n",
    "import matplotlib\n",
    "\n",
    "matplotlib.rcParams['mathtext.fontset'] = 'cm'\n",
    "matplotlib.rcParams['font.family'] = 'STIXGeneral'"
   ]
  },
  {
   "cell_type": "code",
   "execution_count": 2,
   "metadata": {},
   "outputs": [],
   "source": [
    "# load data obtained from each operating conditions at current density of 700 mA/cm^2\n",
    "as_700 = np.load(\"Data/wrangled_data/as_700.npy\")\n",
    "cs_700 = np.load(\"Data/wrangled_data/cs_700.npy\")\n",
    "normal_700 = np.load(\"Data/wrangled_data/normal_700.npy\")"
   ]
  },
  {
   "cell_type": "code",
   "execution_count": 3,
   "metadata": {},
   "outputs": [],
   "source": [
    "# Create labels for each SoH\n",
    "label_AS = np.zeros(as_700.shape[0])\n",
    "label_normal = np.ones(normal_700.shape[0])\n",
    "label_CS = np.ones(cs_700.shape[0]) * 2"
   ]
  },
  {
   "cell_type": "code",
   "execution_count": 4,
   "metadata": {},
   "outputs": [],
   "source": [
    "X = np.vstack((as_700, normal_700, cs_700))\n",
    "Y = np.hstack((label_AS, label_normal, label_CS))"
   ]
  },
  {
   "cell_type": "code",
   "execution_count": 5,
   "metadata": {},
   "outputs": [],
   "source": [
    "train_split = 0.80"
   ]
  },
  {
   "cell_type": "code",
   "execution_count": 6,
   "metadata": {},
   "outputs": [],
   "source": [
    "# chronological split\n",
    "\n",
    "X_time_train = np.vstack((np.vstack((as_700[0:round(as_700.shape[0] * train_split), :],\n",
    "                                   normal_700[0:round(normal_700.shape[0] * train_split), :])),\n",
    "                        cs_700[0:round(cs_700.shape[0] * train_split), :]))\n",
    "y_time_train = np.hstack((np.hstack((label_AS[0:round(label_AS.shape[0] * train_split)],\n",
    "                                    label_normal[0:round(label_normal.shape[0] * train_split)])),\n",
    "                         label_CS[0:round(label_CS.shape[0] * train_split)]))\n",
    "X_time_test = np.vstack((np.vstack((as_700[round(as_700.shape[0] * train_split):, :],\n",
    "                                  normal_700[round(normal_700.shape[0] * train_split):, :])),\n",
    "                       cs_700[round(cs_700.shape[0] * train_split):, :]))\n",
    "y_time_test = np.hstack((np.hstack((label_AS[round(as_700.shape[0] * train_split):],\n",
    "                                   label_normal[round(normal_700.shape[0] * train_split):])),\n",
    "                        label_CS[round(cs_700.shape[0] * train_split):]))"
   ]
  },
  {
   "cell_type": "code",
   "execution_count": 7,
   "metadata": {},
   "outputs": [],
   "source": [
    "from sklearn.metrics import roc_auc_score, roc_curve, auc, classification_report, confusion_matrix, accuracy_score\n",
    "from sklearn.ensemble import RandomForestClassifier\n",
    "from sklearn.preprocessing import label_binarize\n",
    "from sklearn.multiclass import OneVsRestClassifier\n",
    "import seaborn as sns\n",
    "from sklearn.model_selection import train_test_split\n",
    "from sklearn.svm import SVC\n",
    "from sklearn.pipeline import make_pipeline\n",
    "from sklearn.preprocessing import StandardScaler\n",
    "from sklearn.neighbors import KNeighborsClassifier\n",
    "from sklearn.model_selection import GridSearchCV, TimeSeriesSplit\n"
   ]
  },
  {
   "cell_type": "code",
   "execution_count": 8,
   "metadata": {},
   "outputs": [],
   "source": [
    "def confusion_matrix_plot(conf_mat: np.ndarray, model_name: str, split_type: int) -> plt.Figure:\n",
    "    ax = plt.axes()\n",
    "    sns.heatmap(np.array(conf_mat), annot=True, cmap=\"BuGn\", fmt=\"g\")\n",
    "\n",
    "\n",
    "    ax.set_xlabel(\"Predicted label\")\n",
    "    ax.set_ylabel(\"True label\")\n",
    "    plt.show()   \n"
   ]
  },
  {
   "cell_type": "code",
   "execution_count": 9,
   "metadata": {},
   "outputs": [
    {
     "name": "stdout",
     "output_type": "stream",
     "text": [
      "Fitting 5 folds for each of 25 candidates, totalling 125 fits\n",
      "[CV 1/5] END .......max_depth=5, n_estimators=5;, score=0.814 total time=   0.0s\n",
      "[CV 2/5] END .......max_depth=5, n_estimators=5;, score=0.814 total time=   0.0s\n",
      "[CV 3/5] END .......max_depth=5, n_estimators=5;, score=1.000 total time=   0.0s\n",
      "[CV 4/5] END .......max_depth=5, n_estimators=5;, score=0.128 total time=   0.0s\n",
      "[CV 5/5] END .......max_depth=5, n_estimators=5;, score=0.651 total time=   0.0s\n",
      "[CV 1/5] END ......max_depth=5, n_estimators=25;, score=0.814 total time=   0.0s\n",
      "[CV 2/5] END ......max_depth=5, n_estimators=25;, score=0.837 total time=   0.1s\n",
      "[CV 3/5] END ......max_depth=5, n_estimators=25;, score=0.988 total time=   0.1s\n",
      "[CV 4/5] END ......max_depth=5, n_estimators=25;, score=0.140 total time=   0.2s\n",
      "[CV 5/5] END ......max_depth=5, n_estimators=25;, score=0.721 total time=   0.4s\n",
      "[CV 1/5] END ......max_depth=5, n_estimators=50;, score=0.814 total time=   0.1s\n",
      "[CV 2/5] END ......max_depth=5, n_estimators=50;, score=0.837 total time=   0.3s\n",
      "[CV 3/5] END ......max_depth=5, n_estimators=50;, score=0.988 total time=   0.3s\n",
      "[CV 4/5] END ......max_depth=5, n_estimators=50;, score=0.128 total time=   0.4s\n",
      "[CV 5/5] END ......max_depth=5, n_estimators=50;, score=0.733 total time=   0.6s\n",
      "[CV 1/5] END ......max_depth=5, n_estimators=75;, score=0.814 total time=   0.1s\n",
      "[CV 2/5] END ......max_depth=5, n_estimators=75;, score=0.837 total time=   0.3s\n",
      "[CV 3/5] END ......max_depth=5, n_estimators=75;, score=0.977 total time=   0.4s\n",
      "[CV 4/5] END ......max_depth=5, n_estimators=75;, score=0.128 total time=   0.6s\n",
      "[CV 5/5] END ......max_depth=5, n_estimators=75;, score=0.733 total time=   1.0s\n",
      "[CV 1/5] END .....max_depth=5, n_estimators=100;, score=0.814 total time=   0.1s\n",
      "[CV 2/5] END .....max_depth=5, n_estimators=100;, score=0.826 total time=   0.4s\n",
      "[CV 3/5] END .....max_depth=5, n_estimators=100;, score=0.965 total time=   0.6s\n",
      "[CV 4/5] END .....max_depth=5, n_estimators=100;, score=0.128 total time=   0.8s\n",
      "[CV 5/5] END .....max_depth=5, n_estimators=100;, score=0.721 total time=   1.3s\n",
      "[CV 1/5] END ......max_depth=25, n_estimators=5;, score=0.814 total time=   0.0s\n",
      "[CV 2/5] END ......max_depth=25, n_estimators=5;, score=0.814 total time=   0.0s\n",
      "[CV 3/5] END ......max_depth=25, n_estimators=5;, score=1.000 total time=   0.0s\n",
      "[CV 4/5] END ......max_depth=25, n_estimators=5;, score=0.128 total time=   0.0s\n",
      "[CV 5/5] END ......max_depth=25, n_estimators=5;, score=0.709 total time=   0.0s\n",
      "[CV 1/5] END .....max_depth=25, n_estimators=25;, score=0.814 total time=   0.0s\n",
      "[CV 2/5] END .....max_depth=25, n_estimators=25;, score=0.837 total time=   0.0s\n",
      "[CV 3/5] END .....max_depth=25, n_estimators=25;, score=0.988 total time=   0.1s\n",
      "[CV 4/5] END .....max_depth=25, n_estimators=25;, score=0.140 total time=   0.2s\n",
      "[CV 5/5] END .....max_depth=25, n_estimators=25;, score=0.744 total time=   0.4s\n",
      "[CV 1/5] END .....max_depth=25, n_estimators=50;, score=0.814 total time=   0.0s\n",
      "[CV 2/5] END .....max_depth=25, n_estimators=50;, score=0.837 total time=   0.3s\n",
      "[CV 3/5] END .....max_depth=25, n_estimators=50;, score=0.988 total time=   0.4s\n",
      "[CV 4/5] END .....max_depth=25, n_estimators=50;, score=0.128 total time=   0.5s\n",
      "[CV 5/5] END .....max_depth=25, n_estimators=50;, score=0.791 total time=   0.8s\n",
      "[CV 1/5] END .....max_depth=25, n_estimators=75;, score=0.814 total time=   0.1s\n",
      "[CV 2/5] END .....max_depth=25, n_estimators=75;, score=0.837 total time=   0.3s\n",
      "[CV 3/5] END .....max_depth=25, n_estimators=75;, score=0.965 total time=   0.4s\n",
      "[CV 4/5] END .....max_depth=25, n_estimators=75;, score=0.128 total time=   0.6s\n",
      "[CV 5/5] END .....max_depth=25, n_estimators=75;, score=0.791 total time=   1.1s\n",
      "[CV 1/5] END ....max_depth=25, n_estimators=100;, score=0.814 total time=   0.2s\n",
      "[CV 2/5] END ....max_depth=25, n_estimators=100;, score=0.826 total time=   0.4s\n",
      "[CV 3/5] END ....max_depth=25, n_estimators=100;, score=0.965 total time=   0.8s\n",
      "[CV 4/5] END ....max_depth=25, n_estimators=100;, score=0.128 total time=   0.9s\n",
      "[CV 5/5] END ....max_depth=25, n_estimators=100;, score=0.791 total time=   1.6s\n",
      "[CV 1/5] END ......max_depth=50, n_estimators=5;, score=0.814 total time=   0.0s\n",
      "[CV 2/5] END ......max_depth=50, n_estimators=5;, score=0.814 total time=   0.0s\n",
      "[CV 3/5] END ......max_depth=50, n_estimators=5;, score=1.000 total time=   0.0s\n",
      "[CV 4/5] END ......max_depth=50, n_estimators=5;, score=0.128 total time=   0.0s\n",
      "[CV 5/5] END ......max_depth=50, n_estimators=5;, score=0.709 total time=   0.0s\n",
      "[CV 1/5] END .....max_depth=50, n_estimators=25;, score=0.814 total time=   0.0s\n",
      "[CV 2/5] END .....max_depth=50, n_estimators=25;, score=0.837 total time=   0.0s\n",
      "[CV 3/5] END .....max_depth=50, n_estimators=25;, score=0.988 total time=   0.1s\n",
      "[CV 4/5] END .....max_depth=50, n_estimators=25;, score=0.140 total time=   0.2s\n",
      "[CV 5/5] END .....max_depth=50, n_estimators=25;, score=0.744 total time=   0.3s\n",
      "[CV 1/5] END .....max_depth=50, n_estimators=50;, score=0.814 total time=   0.0s\n",
      "[CV 2/5] END .....max_depth=50, n_estimators=50;, score=0.837 total time=   0.2s\n",
      "[CV 3/5] END .....max_depth=50, n_estimators=50;, score=0.988 total time=   0.3s\n",
      "[CV 4/5] END .....max_depth=50, n_estimators=50;, score=0.128 total time=   0.4s\n",
      "[CV 5/5] END .....max_depth=50, n_estimators=50;, score=0.791 total time=   0.7s\n",
      "[CV 1/5] END .....max_depth=50, n_estimators=75;, score=0.814 total time=   0.1s\n",
      "[CV 2/5] END .....max_depth=50, n_estimators=75;, score=0.837 total time=   0.3s\n",
      "[CV 3/5] END .....max_depth=50, n_estimators=75;, score=0.965 total time=   0.4s\n",
      "[CV 4/5] END .....max_depth=50, n_estimators=75;, score=0.128 total time=   0.6s\n",
      "[CV 5/5] END .....max_depth=50, n_estimators=75;, score=0.791 total time=   1.5s\n",
      "[CV 1/5] END ....max_depth=50, n_estimators=100;, score=0.814 total time=   0.5s\n",
      "[CV 2/5] END ....max_depth=50, n_estimators=100;, score=0.826 total time=   1.0s\n",
      "[CV 3/5] END ....max_depth=50, n_estimators=100;, score=0.965 total time=   0.8s\n",
      "[CV 4/5] END ....max_depth=50, n_estimators=100;, score=0.128 total time=   1.3s\n",
      "[CV 5/5] END ....max_depth=50, n_estimators=100;, score=0.791 total time=   2.0s\n",
      "[CV 1/5] END ......max_depth=75, n_estimators=5;, score=0.814 total time=   0.0s\n",
      "[CV 2/5] END ......max_depth=75, n_estimators=5;, score=0.814 total time=   0.0s\n",
      "[CV 3/5] END ......max_depth=75, n_estimators=5;, score=1.000 total time=   0.0s\n",
      "[CV 4/5] END ......max_depth=75, n_estimators=5;, score=0.128 total time=   0.0s\n",
      "[CV 5/5] END ......max_depth=75, n_estimators=5;, score=0.709 total time=   0.0s\n",
      "[CV 1/5] END .....max_depth=75, n_estimators=25;, score=0.814 total time=   0.0s\n",
      "[CV 2/5] END .....max_depth=75, n_estimators=25;, score=0.837 total time=   0.0s\n",
      "[CV 3/5] END .....max_depth=75, n_estimators=25;, score=0.988 total time=   0.1s\n",
      "[CV 4/5] END .....max_depth=75, n_estimators=25;, score=0.140 total time=   0.2s\n",
      "[CV 5/5] END .....max_depth=75, n_estimators=25;, score=0.744 total time=   0.3s\n",
      "[CV 1/5] END .....max_depth=75, n_estimators=50;, score=0.814 total time=   0.0s\n",
      "[CV 2/5] END .....max_depth=75, n_estimators=50;, score=0.837 total time=   0.2s\n",
      "[CV 3/5] END .....max_depth=75, n_estimators=50;, score=0.988 total time=   0.3s\n",
      "[CV 4/5] END .....max_depth=75, n_estimators=50;, score=0.128 total time=   0.4s\n",
      "[CV 5/5] END .....max_depth=75, n_estimators=50;, score=0.791 total time=   0.7s\n",
      "[CV 1/5] END .....max_depth=75, n_estimators=75;, score=0.814 total time=   0.1s\n",
      "[CV 2/5] END .....max_depth=75, n_estimators=75;, score=0.837 total time=   0.3s\n",
      "[CV 3/5] END .....max_depth=75, n_estimators=75;, score=0.965 total time=   0.4s\n",
      "[CV 4/5] END .....max_depth=75, n_estimators=75;, score=0.128 total time=   0.6s\n",
      "[CV 5/5] END .....max_depth=75, n_estimators=75;, score=0.791 total time=   1.1s\n",
      "[CV 1/5] END ....max_depth=75, n_estimators=100;, score=0.814 total time=   0.1s\n",
      "[CV 2/5] END ....max_depth=75, n_estimators=100;, score=0.826 total time=   0.4s\n",
      "[CV 3/5] END ....max_depth=75, n_estimators=100;, score=0.965 total time=   0.6s\n",
      "[CV 4/5] END ....max_depth=75, n_estimators=100;, score=0.128 total time=   0.9s\n",
      "[CV 5/5] END ....max_depth=75, n_estimators=100;, score=0.791 total time=   2.0s\n",
      "[CV 1/5] END .....max_depth=100, n_estimators=5;, score=0.814 total time=   0.0s\n",
      "[CV 2/5] END .....max_depth=100, n_estimators=5;, score=0.814 total time=   0.0s\n",
      "[CV 3/5] END .....max_depth=100, n_estimators=5;, score=1.000 total time=   0.0s\n",
      "[CV 4/5] END .....max_depth=100, n_estimators=5;, score=0.128 total time=   0.0s\n",
      "[CV 5/5] END .....max_depth=100, n_estimators=5;, score=0.709 total time=   0.1s\n",
      "[CV 1/5] END ....max_depth=100, n_estimators=25;, score=0.814 total time=   0.0s\n",
      "[CV 2/5] END ....max_depth=100, n_estimators=25;, score=0.837 total time=   0.1s\n",
      "[CV 3/5] END ....max_depth=100, n_estimators=25;, score=0.988 total time=   0.2s\n",
      "[CV 4/5] END ....max_depth=100, n_estimators=25;, score=0.140 total time=   0.3s\n",
      "[CV 5/5] END ....max_depth=100, n_estimators=25;, score=0.744 total time=   0.7s\n",
      "[CV 1/5] END ....max_depth=100, n_estimators=50;, score=0.814 total time=   0.0s\n",
      "[CV 2/5] END ....max_depth=100, n_estimators=50;, score=0.837 total time=   0.2s\n",
      "[CV 3/5] END ....max_depth=100, n_estimators=50;, score=0.988 total time=   0.4s\n",
      "[CV 4/5] END ....max_depth=100, n_estimators=50;, score=0.128 total time=   0.6s\n",
      "[CV 5/5] END ....max_depth=100, n_estimators=50;, score=0.791 total time=   0.8s\n",
      "[CV 1/5] END ....max_depth=100, n_estimators=75;, score=0.814 total time=   0.1s\n",
      "[CV 2/5] END ....max_depth=100, n_estimators=75;, score=0.837 total time=   0.3s\n",
      "[CV 3/5] END ....max_depth=100, n_estimators=75;, score=0.965 total time=   0.5s\n",
      "[CV 4/5] END ....max_depth=100, n_estimators=75;, score=0.128 total time=   0.6s\n",
      "[CV 5/5] END ....max_depth=100, n_estimators=75;, score=0.791 total time=   1.2s\n",
      "[CV 1/5] END ...max_depth=100, n_estimators=100;, score=0.814 total time=   0.2s\n",
      "[CV 2/5] END ...max_depth=100, n_estimators=100;, score=0.826 total time=   0.4s\n",
      "[CV 3/5] END ...max_depth=100, n_estimators=100;, score=0.965 total time=   0.7s\n",
      "[CV 4/5] END ...max_depth=100, n_estimators=100;, score=0.128 total time=   0.9s\n",
      "[CV 5/5] END ...max_depth=100, n_estimators=100;, score=0.791 total time=   1.5s\n"
     ]
    },
    {
     "data": {
      "text/plain": [
       "GridSearchCV(cv=TimeSeriesSplit(gap=0, max_train_size=None, n_splits=5, test_size=None),\n",
       "             estimator=RandomForestClassifier(random_state=1234),\n",
       "             param_grid={'max_depth': [5, 25, 50, 75, 100],\n",
       "                         'n_estimators': [5, 25, 50, 75, 100]},\n",
       "             verbose=3)"
      ]
     },
     "execution_count": 9,
     "metadata": {},
     "output_type": "execute_result"
    }
   ],
   "source": [
    "rfc_param_grid = {'max_depth': [ 5, 25, 50, 75, 100], \n",
    "                  'n_estimators': [5, 25, 50, 75, 100]}\n",
    "rfc = RandomForestClassifier(random_state=1234)\n",
    "tscv = TimeSeriesSplit(n_splits=5)\n",
    "rfc_grid_search = GridSearchCV(estimator=rfc, param_grid=rfc_param_grid, cv=tscv, verbose=3)\n",
    "rfc_grid_search.fit(X_time_train, y_time_train)"
   ]
  },
  {
   "cell_type": "code",
   "execution_count": 10,
   "metadata": {},
   "outputs": [
    {
     "data": {
      "text/plain": [
       "{'max_depth': 25, 'n_estimators': 50}"
      ]
     },
     "execution_count": 10,
     "metadata": {},
     "output_type": "execute_result"
    }
   ],
   "source": [
    "rfc_grid_search.best_params_"
   ]
  },
  {
   "cell_type": "code",
   "execution_count": 11,
   "metadata": {},
   "outputs": [
    {
     "data": {
      "text/plain": [
       "RandomForestClassifier(max_depth=25, n_estimators=50, random_state=1234)"
      ]
     },
     "execution_count": 11,
     "metadata": {},
     "output_type": "execute_result"
    }
   ],
   "source": [
    "rfc_grid_search.best_estimator_"
   ]
  },
  {
   "cell_type": "code",
   "execution_count": 12,
   "metadata": {},
   "outputs": [
    {
     "name": "stdout",
     "output_type": "stream",
     "text": [
      "[[37  2  1]\n",
      " [ 0 50  0]\n",
      " [ 3  0 37]]\n",
      "Classification report: \n",
      "              precision    recall  f1-score   support\n",
      "\n",
      "         0.0       0.93      0.93      0.93        40\n",
      "         1.0       0.96      1.00      0.98        50\n",
      "         2.0       0.97      0.93      0.95        40\n",
      "\n",
      "    accuracy                           0.95       130\n",
      "   macro avg       0.95      0.95      0.95       130\n",
      "weighted avg       0.95      0.95      0.95       130\n",
      "\n",
      "Accuracy:  0.9538461538461539\n"
     ]
    },
    {
     "data": {
      "image/png": "[encoded data removed]",
      "text/plain": [
       "<Figure size 640x480 with 2 Axes>"
      ]
     },
     "metadata": {},
     "output_type": "display_data"
    }
   ],
   "source": [
    "rfc_time = make_pipeline(rfc_grid_search.best_estimator_)\n",
    "rfc_time.fit(X_time_train, y_time_train)\n",
    "y_time_pred = rfc_time.predict(X_time_test)\n",
    "y_time_pred_prob = rfc_time.predict_proba(X_time_test)\n",
    "rfc_time_result = confusion_matrix(y_time_test, y_time_pred)\n",
    "print(rfc_time_result)\n",
    "rfc_time_result1 = classification_report(y_time_test, y_time_pred)\n",
    "print(\"Classification report: \")\n",
    "print(rfc_time_result1)\n",
    "rfc_time_acc = accuracy_score(y_time_test,y_time_pred)\n",
    "print(\"Accuracy: \", rfc_time_acc)\n",
    "\n",
    "confusion_matrix_plot(rfc_time_result, \"Random Forest\", 0)\n"
   ]
  },
  {
   "cell_type": "code",
   "execution_count": 13,
   "metadata": {},
   "outputs": [
    {
     "name": "stdout",
     "output_type": "stream",
     "text": [
      "Fitting 5 folds for each of 8 candidates, totalling 40 fits\n",
      "[CV 1/5] END ................n_neighbors=1, p=1;, score=0.814 total time=   0.0s\n",
      "[CV 2/5] END ................n_neighbors=1, p=1;, score=0.860 total time=   0.2s\n",
      "[CV 3/5] END ................n_neighbors=1, p=1;, score=1.000 total time=   0.3s\n",
      "[CV 4/5] END ................n_neighbors=1, p=1;, score=0.140 total time=   0.3s\n",
      "[CV 5/5] END ................n_neighbors=1, p=1;, score=0.640 total time=   0.3s\n",
      "[CV 1/5] END ................n_neighbors=1, p=2;, score=0.814 total time=   0.0s\n",
      "[CV 2/5] END ................n_neighbors=1, p=2;, score=0.884 total time=   0.0s\n"
     ]
    },
    {
     "ename": "KeyboardInterrupt",
     "evalue": "",
     "output_type": "error",
     "traceback": [
      "\u001b[1;31m---------------------------------------------------------------------------\u001b[0m",
      "\u001b[1;31mKeyboardInterrupt\u001b[0m                         Traceback (most recent call last)",
      "\u001b[1;32m~\\AppData\\Local\\Temp\\ipykernel_9212\\2389608168.py\u001b[0m in \u001b[0;36m<module>\u001b[1;34m\u001b[0m\n\u001b[0;32m     10\u001b[0m \u001b[1;33m\u001b[0m\u001b[0m\n\u001b[0;32m     11\u001b[0m \u001b[1;31m#Fit the model\u001b[0m\u001b[1;33m\u001b[0m\u001b[1;33m\u001b[0m\u001b[1;33m\u001b[0m\u001b[0m\n\u001b[1;32m---> 12\u001b[1;33m \u001b[0mknn_grid_search\u001b[0m \u001b[1;33m=\u001b[0m \u001b[0mclf\u001b[0m\u001b[1;33m.\u001b[0m\u001b[0mfit\u001b[0m\u001b[1;33m(\u001b[0m\u001b[0mX_time_train\u001b[0m\u001b[1;33m,\u001b[0m\u001b[0my_time_train\u001b[0m\u001b[1;33m)\u001b[0m\u001b[1;33m\u001b[0m\u001b[1;33m\u001b[0m\u001b[0m\n\u001b[0m\u001b[0;32m     13\u001b[0m \u001b[1;31m#Print The value of best Hyperparameters\u001b[0m\u001b[1;33m\u001b[0m\u001b[1;33m\u001b[0m\u001b[1;33m\u001b[0m\u001b[0m\n\u001b[0;32m     14\u001b[0m \u001b[0mprint\u001b[0m\u001b[1;33m(\u001b[0m\u001b[1;34m'Best leaf_size:'\u001b[0m\u001b[1;33m,\u001b[0m \u001b[0mknn_grid_search\u001b[0m\u001b[1;33m.\u001b[0m\u001b[0mbest_estimator_\u001b[0m\u001b[1;33m.\u001b[0m\u001b[0mget_params\u001b[0m\u001b[1;33m(\u001b[0m\u001b[1;33m)\u001b[0m\u001b[1;33m[\u001b[0m\u001b[1;34m'leaf_size'\u001b[0m\u001b[1;33m]\u001b[0m\u001b[1;33m)\u001b[0m\u001b[1;33m\u001b[0m\u001b[1;33m\u001b[0m\u001b[0m\n",
      "\u001b[1;32m~\\AppData\\Local\\Packages\\PythonSoftwareFoundation.Python.3.7_qbz5n2kfra8p0\\LocalCache\\local-packages\\Python37\\site-packages\\sklearn\\model_selection\\_search.py\u001b[0m in \u001b[0;36mfit\u001b[1;34m(self, X, y, groups, **fit_params)\u001b[0m\n\u001b[0;32m    889\u001b[0m                 \u001b[1;32mreturn\u001b[0m \u001b[0mresults\u001b[0m\u001b[1;33m\u001b[0m\u001b[1;33m\u001b[0m\u001b[0m\n\u001b[0;32m    890\u001b[0m \u001b[1;33m\u001b[0m\u001b[0m\n\u001b[1;32m--> 891\u001b[1;33m             \u001b[0mself\u001b[0m\u001b[1;33m.\u001b[0m\u001b[0m_run_search\u001b[0m\u001b[1;33m(\u001b[0m\u001b[0mevaluate_candidates\u001b[0m\u001b[1;33m)\u001b[0m\u001b[1;33m\u001b[0m\u001b[1;33m\u001b[0m\u001b[0m\n\u001b[0m\u001b[0;32m    892\u001b[0m \u001b[1;33m\u001b[0m\u001b[0m\n\u001b[0;32m    893\u001b[0m             \u001b[1;31m# multimetric is determined here because in the case of a callable\u001b[0m\u001b[1;33m\u001b[0m\u001b[1;33m\u001b[0m\u001b[1;33m\u001b[0m\u001b[0m\n",
      "\u001b[1;32m~\\AppData\\Local\\Packages\\PythonSoftwareFoundation.Python.3.7_qbz5n2kfra8p0\\LocalCache\\local-packages\\Python37\\site-packages\\sklearn\\model_selection\\_search.py\u001b[0m in \u001b[0;36m_run_search\u001b[1;34m(self, evaluate_candidates)\u001b[0m\n\u001b[0;32m   1390\u001b[0m     \u001b[1;32mdef\u001b[0m \u001b[0m_run_search\u001b[0m\u001b[1;33m(\u001b[0m\u001b[0mself\u001b[0m\u001b[1;33m,\u001b[0m \u001b[0mevaluate_candidates\u001b[0m\u001b[1;33m)\u001b[0m\u001b[1;33m:\u001b[0m\u001b[1;33m\u001b[0m\u001b[1;33m\u001b[0m\u001b[0m\n\u001b[0;32m   1391\u001b[0m         \u001b[1;34m\"\"\"Search all candidates in param_grid\"\"\"\u001b[0m\u001b[1;33m\u001b[0m\u001b[1;33m\u001b[0m\u001b[0m\n\u001b[1;32m-> 1392\u001b[1;33m         \u001b[0mevaluate_candidates\u001b[0m\u001b[1;33m(\u001b[0m\u001b[0mParameterGrid\u001b[0m\u001b[1;33m(\u001b[0m\u001b[0mself\u001b[0m\u001b[1;33m.\u001b[0m\u001b[0mparam_grid\u001b[0m\u001b[1;33m)\u001b[0m\u001b[1;33m)\u001b[0m\u001b[1;33m\u001b[0m\u001b[1;33m\u001b[0m\u001b[0m\n\u001b[0m\u001b[0;32m   1393\u001b[0m \u001b[1;33m\u001b[0m\u001b[0m\n\u001b[0;32m   1394\u001b[0m \u001b[1;33m\u001b[0m\u001b[0m\n",
      "\u001b[1;32m~\\AppData\\Local\\Packages\\PythonSoftwareFoundation.Python.3.7_qbz5n2kfra8p0\\LocalCache\\local-packages\\Python37\\site-packages\\sklearn\\model_selection\\_search.py\u001b[0m in \u001b[0;36mevaluate_candidates\u001b[1;34m(candidate_params, cv, more_results)\u001b[0m\n\u001b[0;32m    849\u001b[0m                     )\n\u001b[0;32m    850\u001b[0m                     for (cand_idx, parameters), (split_idx, (train, test)) in product(\n\u001b[1;32m--> 851\u001b[1;33m                         \u001b[0menumerate\u001b[0m\u001b[1;33m(\u001b[0m\u001b[0mcandidate_params\u001b[0m\u001b[1;33m)\u001b[0m\u001b[1;33m,\u001b[0m \u001b[0menumerate\u001b[0m\u001b[1;33m(\u001b[0m\u001b[0mcv\u001b[0m\u001b[1;33m.\u001b[0m\u001b[0msplit\u001b[0m\u001b[1;33m(\u001b[0m\u001b[0mX\u001b[0m\u001b[1;33m,\u001b[0m \u001b[0my\u001b[0m\u001b[1;33m,\u001b[0m \u001b[0mgroups\u001b[0m\u001b[1;33m)\u001b[0m\u001b[1;33m)\u001b[0m\u001b[1;33m\u001b[0m\u001b[1;33m\u001b[0m\u001b[0m\n\u001b[0m\u001b[0;32m    852\u001b[0m                     )\n\u001b[0;32m    853\u001b[0m                 )\n",
      "\u001b[1;32m~\\AppData\\Local\\Packages\\PythonSoftwareFoundation.Python.3.7_qbz5n2kfra8p0\\LocalCache\\local-packages\\Python37\\site-packages\\joblib\\parallel.py\u001b[0m in \u001b[0;36m__call__\u001b[1;34m(self, iterable)\u001b[0m\n\u001b[0;32m   1086\u001b[0m                 \u001b[0mself\u001b[0m\u001b[1;33m.\u001b[0m\u001b[0m_iterating\u001b[0m \u001b[1;33m=\u001b[0m \u001b[0mself\u001b[0m\u001b[1;33m.\u001b[0m\u001b[0m_original_iterator\u001b[0m \u001b[1;32mis\u001b[0m \u001b[1;32mnot\u001b[0m \u001b[1;32mNone\u001b[0m\u001b[1;33m\u001b[0m\u001b[1;33m\u001b[0m\u001b[0m\n\u001b[0;32m   1087\u001b[0m \u001b[1;33m\u001b[0m\u001b[0m\n\u001b[1;32m-> 1088\u001b[1;33m             \u001b[1;32mwhile\u001b[0m \u001b[0mself\u001b[0m\u001b[1;33m.\u001b[0m\u001b[0mdispatch_one_batch\u001b[0m\u001b[1;33m(\u001b[0m\u001b[0miterator\u001b[0m\u001b[1;33m)\u001b[0m\u001b[1;33m:\u001b[0m\u001b[1;33m\u001b[0m\u001b[1;33m\u001b[0m\u001b[0m\n\u001b[0m\u001b[0;32m   1089\u001b[0m                 \u001b[1;32mpass\u001b[0m\u001b[1;33m\u001b[0m\u001b[1;33m\u001b[0m\u001b[0m\n\u001b[0;32m   1090\u001b[0m \u001b[1;33m\u001b[0m\u001b[0m\n",
      "\u001b[1;32m~\\AppData\\Local\\Packages\\PythonSoftwareFoundation.Python.3.7_qbz5n2kfra8p0\\LocalCache\\local-packages\\Python37\\site-packages\\joblib\\parallel.py\u001b[0m in \u001b[0;36mdispatch_one_batch\u001b[1;34m(self, iterator)\u001b[0m\n\u001b[0;32m    899\u001b[0m                 \u001b[1;32mreturn\u001b[0m \u001b[1;32mFalse\u001b[0m\u001b[1;33m\u001b[0m\u001b[1;33m\u001b[0m\u001b[0m\n\u001b[0;32m    900\u001b[0m             \u001b[1;32melse\u001b[0m\u001b[1;33m:\u001b[0m\u001b[1;33m\u001b[0m\u001b[1;33m\u001b[0m\u001b[0m\n\u001b[1;32m--> 901\u001b[1;33m                 \u001b[0mself\u001b[0m\u001b[1;33m.\u001b[0m\u001b[0m_dispatch\u001b[0m\u001b[1;33m(\u001b[0m\u001b[0mtasks\u001b[0m\u001b[1;33m)\u001b[0m\u001b[1;33m\u001b[0m\u001b[1;33m\u001b[0m\u001b[0m\n\u001b[0m\u001b[0;32m    902\u001b[0m                 \u001b[1;32mreturn\u001b[0m \u001b[1;32mTrue\u001b[0m\u001b[1;33m\u001b[0m\u001b[1;33m\u001b[0m\u001b[0m\n\u001b[0;32m    903\u001b[0m \u001b[1;33m\u001b[0m\u001b[0m\n",
      "\u001b[1;32m~\\AppData\\Local\\Packages\\PythonSoftwareFoundation.Python.3.7_qbz5n2kfra8p0\\LocalCache\\local-packages\\Python37\\site-packages\\joblib\\parallel.py\u001b[0m in \u001b[0;36m_dispatch\u001b[1;34m(self, batch)\u001b[0m\n\u001b[0;32m    817\u001b[0m         \u001b[1;32mwith\u001b[0m \u001b[0mself\u001b[0m\u001b[1;33m.\u001b[0m\u001b[0m_lock\u001b[0m\u001b[1;33m:\u001b[0m\u001b[1;33m\u001b[0m\u001b[1;33m\u001b[0m\u001b[0m\n\u001b[0;32m    818\u001b[0m             \u001b[0mjob_idx\u001b[0m \u001b[1;33m=\u001b[0m \u001b[0mlen\u001b[0m\u001b[1;33m(\u001b[0m\u001b[0mself\u001b[0m\u001b[1;33m.\u001b[0m\u001b[0m_jobs\u001b[0m\u001b[1;33m)\u001b[0m\u001b[1;33m\u001b[0m\u001b[1;33m\u001b[0m\u001b[0m\n\u001b[1;32m--> 819\u001b[1;33m             \u001b[0mjob\u001b[0m \u001b[1;33m=\u001b[0m \u001b[0mself\u001b[0m\u001b[1;33m.\u001b[0m\u001b[0m_backend\u001b[0m\u001b[1;33m.\u001b[0m\u001b[0mapply_async\u001b[0m\u001b[1;33m(\u001b[0m\u001b[0mbatch\u001b[0m\u001b[1;33m,\u001b[0m \u001b[0mcallback\u001b[0m\u001b[1;33m=\u001b[0m\u001b[0mcb\u001b[0m\u001b[1;33m)\u001b[0m\u001b[1;33m\u001b[0m\u001b[1;33m\u001b[0m\u001b[0m\n\u001b[0m\u001b[0;32m    820\u001b[0m             \u001b[1;31m# A job can complete so quickly than its callback is\u001b[0m\u001b[1;33m\u001b[0m\u001b[1;33m\u001b[0m\u001b[1;33m\u001b[0m\u001b[0m\n\u001b[0;32m    821\u001b[0m             \u001b[1;31m# called before we get here, causing self._jobs to\u001b[0m\u001b[1;33m\u001b[0m\u001b[1;33m\u001b[0m\u001b[1;33m\u001b[0m\u001b[0m\n",
      "\u001b[1;32m~\\AppData\\Local\\Packages\\PythonSoftwareFoundation.Python.3.7_qbz5n2kfra8p0\\LocalCache\\local-packages\\Python37\\site-packages\\joblib\\_parallel_backends.py\u001b[0m in \u001b[0;36mapply_async\u001b[1;34m(self, func, callback)\u001b[0m\n\u001b[0;32m    206\u001b[0m     \u001b[1;32mdef\u001b[0m \u001b[0mapply_async\u001b[0m\u001b[1;33m(\u001b[0m\u001b[0mself\u001b[0m\u001b[1;33m,\u001b[0m \u001b[0mfunc\u001b[0m\u001b[1;33m,\u001b[0m \u001b[0mcallback\u001b[0m\u001b[1;33m=\u001b[0m\u001b[1;32mNone\u001b[0m\u001b[1;33m)\u001b[0m\u001b[1;33m:\u001b[0m\u001b[1;33m\u001b[0m\u001b[1;33m\u001b[0m\u001b[0m\n\u001b[0;32m    207\u001b[0m         \u001b[1;34m\"\"\"Schedule a func to be run\"\"\"\u001b[0m\u001b[1;33m\u001b[0m\u001b[1;33m\u001b[0m\u001b[0m\n\u001b[1;32m--> 208\u001b[1;33m         \u001b[0mresult\u001b[0m \u001b[1;33m=\u001b[0m \u001b[0mImmediateResult\u001b[0m\u001b[1;33m(\u001b[0m\u001b[0mfunc\u001b[0m\u001b[1;33m)\u001b[0m\u001b[1;33m\u001b[0m\u001b[1;33m\u001b[0m\u001b[0m\n\u001b[0m\u001b[0;32m    209\u001b[0m         \u001b[1;32mif\u001b[0m \u001b[0mcallback\u001b[0m\u001b[1;33m:\u001b[0m\u001b[1;33m\u001b[0m\u001b[1;33m\u001b[0m\u001b[0m\n\u001b[0;32m    210\u001b[0m             \u001b[0mcallback\u001b[0m\u001b[1;33m(\u001b[0m\u001b[0mresult\u001b[0m\u001b[1;33m)\u001b[0m\u001b[1;33m\u001b[0m\u001b[1;33m\u001b[0m\u001b[0m\n",
      "\u001b[1;32m~\\AppData\\Local\\Packages\\PythonSoftwareFoundation.Python.3.7_qbz5n2kfra8p0\\LocalCache\\local-packages\\Python37\\site-packages\\joblib\\_parallel_backends.py\u001b[0m in \u001b[0;36m__init__\u001b[1;34m(self, batch)\u001b[0m\n\u001b[0;32m    595\u001b[0m         \u001b[1;31m# Don't delay the application, to avoid keeping the input\u001b[0m\u001b[1;33m\u001b[0m\u001b[1;33m\u001b[0m\u001b[1;33m\u001b[0m\u001b[0m\n\u001b[0;32m    596\u001b[0m         \u001b[1;31m# arguments in memory\u001b[0m\u001b[1;33m\u001b[0m\u001b[1;33m\u001b[0m\u001b[1;33m\u001b[0m\u001b[0m\n\u001b[1;32m--> 597\u001b[1;33m         \u001b[0mself\u001b[0m\u001b[1;33m.\u001b[0m\u001b[0mresults\u001b[0m \u001b[1;33m=\u001b[0m \u001b[0mbatch\u001b[0m\u001b[1;33m(\u001b[0m\u001b[1;33m)\u001b[0m\u001b[1;33m\u001b[0m\u001b[1;33m\u001b[0m\u001b[0m\n\u001b[0m\u001b[0;32m    598\u001b[0m \u001b[1;33m\u001b[0m\u001b[0m\n\u001b[0;32m    599\u001b[0m     \u001b[1;32mdef\u001b[0m \u001b[0mget\u001b[0m\u001b[1;33m(\u001b[0m\u001b[0mself\u001b[0m\u001b[1;33m)\u001b[0m\u001b[1;33m:\u001b[0m\u001b[1;33m\u001b[0m\u001b[1;33m\u001b[0m\u001b[0m\n",
      "\u001b[1;32m~\\AppData\\Local\\Packages\\PythonSoftwareFoundation.Python.3.7_qbz5n2kfra8p0\\LocalCache\\local-packages\\Python37\\site-packages\\joblib\\parallel.py\u001b[0m in \u001b[0;36m__call__\u001b[1;34m(self)\u001b[0m\n\u001b[0;32m    287\u001b[0m         \u001b[1;32mwith\u001b[0m \u001b[0mparallel_backend\u001b[0m\u001b[1;33m(\u001b[0m\u001b[0mself\u001b[0m\u001b[1;33m.\u001b[0m\u001b[0m_backend\u001b[0m\u001b[1;33m,\u001b[0m \u001b[0mn_jobs\u001b[0m\u001b[1;33m=\u001b[0m\u001b[0mself\u001b[0m\u001b[1;33m.\u001b[0m\u001b[0m_n_jobs\u001b[0m\u001b[1;33m)\u001b[0m\u001b[1;33m:\u001b[0m\u001b[1;33m\u001b[0m\u001b[1;33m\u001b[0m\u001b[0m\n\u001b[0;32m    288\u001b[0m             return [func(*args, **kwargs)\n\u001b[1;32m--> 289\u001b[1;33m                     for func, args, kwargs in self.items]\n\u001b[0m\u001b[0;32m    290\u001b[0m \u001b[1;33m\u001b[0m\u001b[0m\n\u001b[0;32m    291\u001b[0m     \u001b[1;32mdef\u001b[0m \u001b[0m__reduce__\u001b[0m\u001b[1;33m(\u001b[0m\u001b[0mself\u001b[0m\u001b[1;33m)\u001b[0m\u001b[1;33m:\u001b[0m\u001b[1;33m\u001b[0m\u001b[1;33m\u001b[0m\u001b[0m\n",
      "\u001b[1;32m~\\AppData\\Local\\Packages\\PythonSoftwareFoundation.Python.3.7_qbz5n2kfra8p0\\LocalCache\\local-packages\\Python37\\site-packages\\joblib\\parallel.py\u001b[0m in \u001b[0;36m<listcomp>\u001b[1;34m(.0)\u001b[0m\n\u001b[0;32m    287\u001b[0m         \u001b[1;32mwith\u001b[0m \u001b[0mparallel_backend\u001b[0m\u001b[1;33m(\u001b[0m\u001b[0mself\u001b[0m\u001b[1;33m.\u001b[0m\u001b[0m_backend\u001b[0m\u001b[1;33m,\u001b[0m \u001b[0mn_jobs\u001b[0m\u001b[1;33m=\u001b[0m\u001b[0mself\u001b[0m\u001b[1;33m.\u001b[0m\u001b[0m_n_jobs\u001b[0m\u001b[1;33m)\u001b[0m\u001b[1;33m:\u001b[0m\u001b[1;33m\u001b[0m\u001b[1;33m\u001b[0m\u001b[0m\n\u001b[0;32m    288\u001b[0m             return [func(*args, **kwargs)\n\u001b[1;32m--> 289\u001b[1;33m                     for func, args, kwargs in self.items]\n\u001b[0m\u001b[0;32m    290\u001b[0m \u001b[1;33m\u001b[0m\u001b[0m\n\u001b[0;32m    291\u001b[0m     \u001b[1;32mdef\u001b[0m \u001b[0m__reduce__\u001b[0m\u001b[1;33m(\u001b[0m\u001b[0mself\u001b[0m\u001b[1;33m)\u001b[0m\u001b[1;33m:\u001b[0m\u001b[1;33m\u001b[0m\u001b[1;33m\u001b[0m\u001b[0m\n",
      "\u001b[1;32m~\\AppData\\Local\\Packages\\PythonSoftwareFoundation.Python.3.7_qbz5n2kfra8p0\\LocalCache\\local-packages\\Python37\\site-packages\\sklearn\\utils\\fixes.py\u001b[0m in \u001b[0;36m__call__\u001b[1;34m(self, *args, **kwargs)\u001b[0m\n\u001b[0;32m    214\u001b[0m     \u001b[1;32mdef\u001b[0m \u001b[0m__call__\u001b[0m\u001b[1;33m(\u001b[0m\u001b[0mself\u001b[0m\u001b[1;33m,\u001b[0m \u001b[1;33m*\u001b[0m\u001b[0margs\u001b[0m\u001b[1;33m,\u001b[0m \u001b[1;33m**\u001b[0m\u001b[0mkwargs\u001b[0m\u001b[1;33m)\u001b[0m\u001b[1;33m:\u001b[0m\u001b[1;33m\u001b[0m\u001b[1;33m\u001b[0m\u001b[0m\n\u001b[0;32m    215\u001b[0m         \u001b[1;32mwith\u001b[0m \u001b[0mconfig_context\u001b[0m\u001b[1;33m(\u001b[0m\u001b[1;33m**\u001b[0m\u001b[0mself\u001b[0m\u001b[1;33m.\u001b[0m\u001b[0mconfig\u001b[0m\u001b[1;33m)\u001b[0m\u001b[1;33m:\u001b[0m\u001b[1;33m\u001b[0m\u001b[1;33m\u001b[0m\u001b[0m\n\u001b[1;32m--> 216\u001b[1;33m             \u001b[1;32mreturn\u001b[0m \u001b[0mself\u001b[0m\u001b[1;33m.\u001b[0m\u001b[0mfunction\u001b[0m\u001b[1;33m(\u001b[0m\u001b[1;33m*\u001b[0m\u001b[0margs\u001b[0m\u001b[1;33m,\u001b[0m \u001b[1;33m**\u001b[0m\u001b[0mkwargs\u001b[0m\u001b[1;33m)\u001b[0m\u001b[1;33m\u001b[0m\u001b[1;33m\u001b[0m\u001b[0m\n\u001b[0m\u001b[0;32m    217\u001b[0m \u001b[1;33m\u001b[0m\u001b[0m\n\u001b[0;32m    218\u001b[0m \u001b[1;33m\u001b[0m\u001b[0m\n",
      "\u001b[1;32m~\\AppData\\Local\\Packages\\PythonSoftwareFoundation.Python.3.7_qbz5n2kfra8p0\\LocalCache\\local-packages\\Python37\\site-packages\\sklearn\\model_selection\\_validation.py\u001b[0m in \u001b[0;36m_fit_and_score\u001b[1;34m(estimator, X, y, scorer, train, test, verbose, parameters, fit_params, return_train_score, return_parameters, return_n_test_samples, return_times, return_estimator, split_progress, candidate_progress, error_score)\u001b[0m\n\u001b[0;32m    678\u001b[0m             \u001b[0mestimator\u001b[0m\u001b[1;33m.\u001b[0m\u001b[0mfit\u001b[0m\u001b[1;33m(\u001b[0m\u001b[0mX_train\u001b[0m\u001b[1;33m,\u001b[0m \u001b[1;33m**\u001b[0m\u001b[0mfit_params\u001b[0m\u001b[1;33m)\u001b[0m\u001b[1;33m\u001b[0m\u001b[1;33m\u001b[0m\u001b[0m\n\u001b[0;32m    679\u001b[0m         \u001b[1;32melse\u001b[0m\u001b[1;33m:\u001b[0m\u001b[1;33m\u001b[0m\u001b[1;33m\u001b[0m\u001b[0m\n\u001b[1;32m--> 680\u001b[1;33m             \u001b[0mestimator\u001b[0m\u001b[1;33m.\u001b[0m\u001b[0mfit\u001b[0m\u001b[1;33m(\u001b[0m\u001b[0mX_train\u001b[0m\u001b[1;33m,\u001b[0m \u001b[0my_train\u001b[0m\u001b[1;33m,\u001b[0m \u001b[1;33m**\u001b[0m\u001b[0mfit_params\u001b[0m\u001b[1;33m)\u001b[0m\u001b[1;33m\u001b[0m\u001b[1;33m\u001b[0m\u001b[0m\n\u001b[0m\u001b[0;32m    681\u001b[0m \u001b[1;33m\u001b[0m\u001b[0m\n\u001b[0;32m    682\u001b[0m     \u001b[1;32mexcept\u001b[0m \u001b[0mException\u001b[0m\u001b[1;33m:\u001b[0m\u001b[1;33m\u001b[0m\u001b[1;33m\u001b[0m\u001b[0m\n",
      "\u001b[1;32m~\\AppData\\Local\\Packages\\PythonSoftwareFoundation.Python.3.7_qbz5n2kfra8p0\\LocalCache\\local-packages\\Python37\\site-packages\\sklearn\\neighbors\\_classification.py\u001b[0m in \u001b[0;36mfit\u001b[1;34m(self, X, y)\u001b[0m\n\u001b[0;32m    196\u001b[0m         \u001b[0mself\u001b[0m\u001b[1;33m.\u001b[0m\u001b[0mweights\u001b[0m \u001b[1;33m=\u001b[0m \u001b[0m_check_weights\u001b[0m\u001b[1;33m(\u001b[0m\u001b[0mself\u001b[0m\u001b[1;33m.\u001b[0m\u001b[0mweights\u001b[0m\u001b[1;33m)\u001b[0m\u001b[1;33m\u001b[0m\u001b[1;33m\u001b[0m\u001b[0m\n\u001b[0;32m    197\u001b[0m \u001b[1;33m\u001b[0m\u001b[0m\n\u001b[1;32m--> 198\u001b[1;33m         \u001b[1;32mreturn\u001b[0m \u001b[0mself\u001b[0m\u001b[1;33m.\u001b[0m\u001b[0m_fit\u001b[0m\u001b[1;33m(\u001b[0m\u001b[0mX\u001b[0m\u001b[1;33m,\u001b[0m \u001b[0my\u001b[0m\u001b[1;33m)\u001b[0m\u001b[1;33m\u001b[0m\u001b[1;33m\u001b[0m\u001b[0m\n\u001b[0m\u001b[0;32m    199\u001b[0m \u001b[1;33m\u001b[0m\u001b[0m\n\u001b[0;32m    200\u001b[0m     \u001b[1;32mdef\u001b[0m \u001b[0mpredict\u001b[0m\u001b[1;33m(\u001b[0m\u001b[0mself\u001b[0m\u001b[1;33m,\u001b[0m \u001b[0mX\u001b[0m\u001b[1;33m)\u001b[0m\u001b[1;33m:\u001b[0m\u001b[1;33m\u001b[0m\u001b[1;33m\u001b[0m\u001b[0m\n",
      "\u001b[1;32m~\\AppData\\Local\\Packages\\PythonSoftwareFoundation.Python.3.7_qbz5n2kfra8p0\\LocalCache\\local-packages\\Python37\\site-packages\\sklearn\\neighbors\\_base.py\u001b[0m in \u001b[0;36m_fit\u001b[1;34m(self, X, y)\u001b[0m\n\u001b[0;32m    418\u001b[0m                     \u001b[0mself\u001b[0m\u001b[1;33m.\u001b[0m\u001b[0moutputs_2d_\u001b[0m \u001b[1;33m=\u001b[0m \u001b[1;32mTrue\u001b[0m\u001b[1;33m\u001b[0m\u001b[1;33m\u001b[0m\u001b[0m\n\u001b[0;32m    419\u001b[0m \u001b[1;33m\u001b[0m\u001b[0m\n\u001b[1;32m--> 420\u001b[1;33m                 \u001b[0mcheck_classification_targets\u001b[0m\u001b[1;33m(\u001b[0m\u001b[0my\u001b[0m\u001b[1;33m)\u001b[0m\u001b[1;33m\u001b[0m\u001b[1;33m\u001b[0m\u001b[0m\n\u001b[0m\u001b[0;32m    421\u001b[0m                 \u001b[0mself\u001b[0m\u001b[1;33m.\u001b[0m\u001b[0mclasses_\u001b[0m \u001b[1;33m=\u001b[0m \u001b[1;33m[\u001b[0m\u001b[1;33m]\u001b[0m\u001b[1;33m\u001b[0m\u001b[1;33m\u001b[0m\u001b[0m\n\u001b[0;32m    422\u001b[0m                 \u001b[0mself\u001b[0m\u001b[1;33m.\u001b[0m\u001b[0m_y\u001b[0m \u001b[1;33m=\u001b[0m \u001b[0mnp\u001b[0m\u001b[1;33m.\u001b[0m\u001b[0mempty\u001b[0m\u001b[1;33m(\u001b[0m\u001b[0my\u001b[0m\u001b[1;33m.\u001b[0m\u001b[0mshape\u001b[0m\u001b[1;33m,\u001b[0m \u001b[0mdtype\u001b[0m\u001b[1;33m=\u001b[0m\u001b[0mint\u001b[0m\u001b[1;33m)\u001b[0m\u001b[1;33m\u001b[0m\u001b[1;33m\u001b[0m\u001b[0m\n",
      "\u001b[1;32m~\\AppData\\Local\\Packages\\PythonSoftwareFoundation.Python.3.7_qbz5n2kfra8p0\\LocalCache\\local-packages\\Python37\\site-packages\\sklearn\\utils\\multiclass.py\u001b[0m in \u001b[0;36mcheck_classification_targets\u001b[1;34m(y)\u001b[0m\n\u001b[0;32m    187\u001b[0m     \u001b[0my\u001b[0m \u001b[1;33m:\u001b[0m \u001b[0marray\u001b[0m\u001b[1;33m-\u001b[0m\u001b[0mlike\u001b[0m\u001b[1;33m\u001b[0m\u001b[1;33m\u001b[0m\u001b[0m\n\u001b[0;32m    188\u001b[0m     \"\"\"\n\u001b[1;32m--> 189\u001b[1;33m     \u001b[0my_type\u001b[0m \u001b[1;33m=\u001b[0m \u001b[0mtype_of_target\u001b[0m\u001b[1;33m(\u001b[0m\u001b[0my\u001b[0m\u001b[1;33m)\u001b[0m\u001b[1;33m\u001b[0m\u001b[1;33m\u001b[0m\u001b[0m\n\u001b[0m\u001b[0;32m    190\u001b[0m     if y_type not in [\n\u001b[0;32m    191\u001b[0m         \u001b[1;34m\"binary\"\u001b[0m\u001b[1;33m,\u001b[0m\u001b[1;33m\u001b[0m\u001b[1;33m\u001b[0m\u001b[0m\n",
      "\u001b[1;32m~\\AppData\\Local\\Packages\\PythonSoftwareFoundation.Python.3.7_qbz5n2kfra8p0\\LocalCache\\local-packages\\Python37\\site-packages\\sklearn\\utils\\multiclass.py\u001b[0m in \u001b[0;36mtype_of_target\u001b[1;34m(y)\u001b[0m\n\u001b[0;32m    325\u001b[0m         \u001b[1;32mreturn\u001b[0m \u001b[1;34m\"continuous\"\u001b[0m \u001b[1;33m+\u001b[0m \u001b[0msuffix\u001b[0m\u001b[1;33m\u001b[0m\u001b[1;33m\u001b[0m\u001b[0m\n\u001b[0;32m    326\u001b[0m \u001b[1;33m\u001b[0m\u001b[0m\n\u001b[1;32m--> 327\u001b[1;33m     \u001b[1;32mif\u001b[0m \u001b[1;33m(\u001b[0m\u001b[0mlen\u001b[0m\u001b[1;33m(\u001b[0m\u001b[0mnp\u001b[0m\u001b[1;33m.\u001b[0m\u001b[0munique\u001b[0m\u001b[1;33m(\u001b[0m\u001b[0my\u001b[0m\u001b[1;33m)\u001b[0m\u001b[1;33m)\u001b[0m \u001b[1;33m>\u001b[0m \u001b[1;36m2\u001b[0m\u001b[1;33m)\u001b[0m \u001b[1;32mor\u001b[0m \u001b[1;33m(\u001b[0m\u001b[0my\u001b[0m\u001b[1;33m.\u001b[0m\u001b[0mndim\u001b[0m \u001b[1;33m>=\u001b[0m \u001b[1;36m2\u001b[0m \u001b[1;32mand\u001b[0m \u001b[0mlen\u001b[0m\u001b[1;33m(\u001b[0m\u001b[0my\u001b[0m\u001b[1;33m[\u001b[0m\u001b[1;36m0\u001b[0m\u001b[1;33m]\u001b[0m\u001b[1;33m)\u001b[0m \u001b[1;33m>\u001b[0m \u001b[1;36m1\u001b[0m\u001b[1;33m)\u001b[0m\u001b[1;33m:\u001b[0m\u001b[1;33m\u001b[0m\u001b[1;33m\u001b[0m\u001b[0m\n\u001b[0m\u001b[0;32m    328\u001b[0m         \u001b[1;32mreturn\u001b[0m \u001b[1;34m\"multiclass\"\u001b[0m \u001b[1;33m+\u001b[0m \u001b[0msuffix\u001b[0m  \u001b[1;31m# [1, 2, 3] or [[1., 2., 3]] or [[1, 2]]\u001b[0m\u001b[1;33m\u001b[0m\u001b[1;33m\u001b[0m\u001b[0m\n\u001b[0;32m    329\u001b[0m     \u001b[1;32melse\u001b[0m\u001b[1;33m:\u001b[0m\u001b[1;33m\u001b[0m\u001b[1;33m\u001b[0m\u001b[0m\n",
      "\u001b[1;32m<__array_function__ internals>\u001b[0m in \u001b[0;36munique\u001b[1;34m(*args, **kwargs)\u001b[0m\n",
      "\u001b[1;32m~\\AppData\\Local\\Packages\\PythonSoftwareFoundation.Python.3.7_qbz5n2kfra8p0\\LocalCache\\local-packages\\Python37\\site-packages\\numpy\\lib\\arraysetops.py\u001b[0m in \u001b[0;36munique\u001b[1;34m(ar, return_index, return_inverse, return_counts, axis)\u001b[0m\n\u001b[0;32m    270\u001b[0m     \u001b[0mar\u001b[0m \u001b[1;33m=\u001b[0m \u001b[0mnp\u001b[0m\u001b[1;33m.\u001b[0m\u001b[0masanyarray\u001b[0m\u001b[1;33m(\u001b[0m\u001b[0mar\u001b[0m\u001b[1;33m)\u001b[0m\u001b[1;33m\u001b[0m\u001b[1;33m\u001b[0m\u001b[0m\n\u001b[0;32m    271\u001b[0m     \u001b[1;32mif\u001b[0m \u001b[0maxis\u001b[0m \u001b[1;32mis\u001b[0m \u001b[1;32mNone\u001b[0m\u001b[1;33m:\u001b[0m\u001b[1;33m\u001b[0m\u001b[1;33m\u001b[0m\u001b[0m\n\u001b[1;32m--> 272\u001b[1;33m         \u001b[0mret\u001b[0m \u001b[1;33m=\u001b[0m \u001b[0m_unique1d\u001b[0m\u001b[1;33m(\u001b[0m\u001b[0mar\u001b[0m\u001b[1;33m,\u001b[0m \u001b[0mreturn_index\u001b[0m\u001b[1;33m,\u001b[0m \u001b[0mreturn_inverse\u001b[0m\u001b[1;33m,\u001b[0m \u001b[0mreturn_counts\u001b[0m\u001b[1;33m)\u001b[0m\u001b[1;33m\u001b[0m\u001b[1;33m\u001b[0m\u001b[0m\n\u001b[0m\u001b[0;32m    273\u001b[0m         \u001b[1;32mreturn\u001b[0m \u001b[0m_unpack_tuple\u001b[0m\u001b[1;33m(\u001b[0m\u001b[0mret\u001b[0m\u001b[1;33m)\u001b[0m\u001b[1;33m\u001b[0m\u001b[1;33m\u001b[0m\u001b[0m\n\u001b[0;32m    274\u001b[0m \u001b[1;33m\u001b[0m\u001b[0m\n",
      "\u001b[1;32m~\\AppData\\Local\\Packages\\PythonSoftwareFoundation.Python.3.7_qbz5n2kfra8p0\\LocalCache\\local-packages\\Python37\\site-packages\\numpy\\lib\\arraysetops.py\u001b[0m in \u001b[0;36m_unique1d\u001b[1;34m(ar, return_index, return_inverse, return_counts)\u001b[0m\n\u001b[0;32m    331\u001b[0m         \u001b[0maux\u001b[0m \u001b[1;33m=\u001b[0m \u001b[0mar\u001b[0m\u001b[1;33m[\u001b[0m\u001b[0mperm\u001b[0m\u001b[1;33m]\u001b[0m\u001b[1;33m\u001b[0m\u001b[1;33m\u001b[0m\u001b[0m\n\u001b[0;32m    332\u001b[0m     \u001b[1;32melse\u001b[0m\u001b[1;33m:\u001b[0m\u001b[1;33m\u001b[0m\u001b[1;33m\u001b[0m\u001b[0m\n\u001b[1;32m--> 333\u001b[1;33m         \u001b[0mar\u001b[0m\u001b[1;33m.\u001b[0m\u001b[0msort\u001b[0m\u001b[1;33m(\u001b[0m\u001b[1;33m)\u001b[0m\u001b[1;33m\u001b[0m\u001b[1;33m\u001b[0m\u001b[0m\n\u001b[0m\u001b[0;32m    334\u001b[0m         \u001b[0maux\u001b[0m \u001b[1;33m=\u001b[0m \u001b[0mar\u001b[0m\u001b[1;33m\u001b[0m\u001b[1;33m\u001b[0m\u001b[0m\n\u001b[0;32m    335\u001b[0m     \u001b[0mmask\u001b[0m \u001b[1;33m=\u001b[0m \u001b[0mnp\u001b[0m\u001b[1;33m.\u001b[0m\u001b[0mempty\u001b[0m\u001b[1;33m(\u001b[0m\u001b[0maux\u001b[0m\u001b[1;33m.\u001b[0m\u001b[0mshape\u001b[0m\u001b[1;33m,\u001b[0m \u001b[0mdtype\u001b[0m\u001b[1;33m=\u001b[0m\u001b[0mnp\u001b[0m\u001b[1;33m.\u001b[0m\u001b[0mbool_\u001b[0m\u001b[1;33m)\u001b[0m\u001b[1;33m\u001b[0m\u001b[1;33m\u001b[0m\u001b[0m\n",
      "\u001b[1;31mKeyboardInterrupt\u001b[0m: "
     ]
    }
   ],
   "source": [
    "# Hyper parameter tuning for knn - COMMENT OUT IF YOU DON'T WANT TO RUN (TAKES A LONG TIME)\n",
    "n_neighbors = list(range(1,5))\n",
    "p = [1,2]\n",
    "#Convert to dictionary\n",
    "hyperparameters = dict(n_neighbors=n_neighbors, p=p)\n",
    "\n",
    "#Create new KNN object\n",
    "knn_2 = KNeighborsClassifier()#Use GridSearch\n",
    "clf = GridSearchCV(knn_2, hyperparameters, verbose=3, cv=tscv)\n",
    "\n",
    "#Fit the model\n",
    "knn_grid_search = clf.fit(X_time_train,y_time_train)\n",
    "#Print The value of best Hyperparameters\n",
    "print('Best leaf_size:', knn_grid_search.best_estimator_.get_params()['leaf_size'])\n",
    "print('Best p:', knn_grid_search.best_estimator_.get_params()['p'])\n",
    "print('Best n_neighbors:', knn_grid_search.best_estimator_.get_params()['n_neighbors'])"
   ]
  },
  {
   "cell_type": "code",
   "execution_count": null,
   "metadata": {},
   "outputs": [
    {
     "data": {
      "text/plain": [
       "{'n_neighbors': 1, 'p': 2}"
      ]
     },
     "execution_count": 25,
     "metadata": {},
     "output_type": "execute_result"
    }
   ],
   "source": [
    "knn_grid_search.best_params_"
   ]
  },
  {
   "cell_type": "code",
   "execution_count": null,
   "metadata": {},
   "outputs": [
    {
     "name": "stdout",
     "output_type": "stream",
     "text": [
      "Confusion Matrix: \n",
      "[[40  0  0]\n",
      " [ 0 50  0]\n",
      " [11  0 29]]\n",
      "Classification report: \n",
      "              precision    recall  f1-score   support\n",
      "\n",
      "         0.0       0.78      1.00      0.88        40\n",
      "         1.0       1.00      1.00      1.00        50\n",
      "         2.0       1.00      0.72      0.84        40\n",
      "\n",
      "    accuracy                           0.92       130\n",
      "   macro avg       0.93      0.91      0.91       130\n",
      "weighted avg       0.93      0.92      0.91       130\n",
      "\n",
      "Accuracy:  0.9153846153846154\n"
     ]
    },
    {
     "data": {
      "image/png": "[encoded data removed]",
      "text/plain": [
       "<Figure size 640x480 with 2 Axes>"
      ]
     },
     "metadata": {},
     "output_type": "display_data"
    }
   ],
   "source": [
    "knn = make_pipeline(StandardScaler(),knn_grid_search.best_estimator_)\n",
    "knn.fit(X_time_train, y_time_train)\n",
    "y_time_pred = knn.predict(X_time_test)\n",
    "y_time_pred_prob = knn.predict_proba(X_time_test)\n",
    "knn_time_result = confusion_matrix(y_time_test, y_time_pred)\n",
    "print(\"Confusion Matrix: \")\n",
    "print(knn_time_result)\n",
    "knn_class_report = classification_report(y_time_test, y_time_pred)\n",
    "print(\"Classification report: \")\n",
    "print(knn_class_report)\n",
    "knn_acc = accuracy_score(y_time_test,y_time_pred)\n",
    "print(\"Accuracy: \",knn_acc)\n",
    "\n",
    "confusion_matrix_plot(knn_time_result, \"KNN\", 0)"
   ]
  },
  {
   "cell_type": "code",
   "execution_count": 14,
   "metadata": {},
   "outputs": [
    {
     "name": "stdout",
     "output_type": "stream",
     "text": [
      "Fitting 5 folds for each of 18 candidates, totalling 90 fits\n",
      "[CV] END ...........................C=2, gamma=2, kernel=rbf; total time=   0.0s\n",
      "[CV] END ...........................C=2, gamma=2, kernel=rbf; total time=   0.6s\n",
      "[CV] END ...........................C=2, gamma=2, kernel=rbf; total time=   2.2s\n",
      "[CV] END ...........................C=2, gamma=2, kernel=rbf; total time=   3.3s\n",
      "[CV] END ...........................C=2, gamma=2, kernel=rbf; total time=   6.3s\n",
      "[CV] END ..........................C=2, gamma=2, kernel=poly; total time=   0.0s\n",
      "[CV] END ..........................C=2, gamma=2, kernel=poly; total time=   0.4s\n",
      "[CV] END ..........................C=2, gamma=2, kernel=poly; total time=   1.0s\n",
      "[CV] END ..........................C=2, gamma=2, kernel=poly; total time=   1.6s\n",
      "[CV] END ..........................C=2, gamma=2, kernel=poly; total time=   3.3s\n",
      "[CV] END ...........................C=2, gamma=5, kernel=rbf; total time=   0.0s\n",
      "[CV] END ...........................C=2, gamma=5, kernel=rbf; total time=   0.5s\n",
      "[CV] END ...........................C=2, gamma=5, kernel=rbf; total time=   1.5s\n",
      "[CV] END ...........................C=2, gamma=5, kernel=rbf; total time=   2.2s\n",
      "[CV] END ...........................C=2, gamma=5, kernel=rbf; total time=   4.5s\n",
      "[CV] END ..........................C=2, gamma=5, kernel=poly; total time=   0.0s\n",
      "[CV] END ..........................C=2, gamma=5, kernel=poly; total time=   0.2s\n",
      "[CV] END ..........................C=2, gamma=5, kernel=poly; total time=   0.5s\n",
      "[CV] END ..........................C=2, gamma=5, kernel=poly; total time=   0.8s\n",
      "[CV] END ..........................C=2, gamma=5, kernel=poly; total time=   2.4s\n",
      "[CV] END ..........................C=2, gamma=10, kernel=rbf; total time=   0.0s\n",
      "[CV] END ..........................C=2, gamma=10, kernel=rbf; total time=   0.5s\n",
      "[CV] END ..........................C=2, gamma=10, kernel=rbf; total time=   1.2s\n",
      "[CV] END ..........................C=2, gamma=10, kernel=rbf; total time=   1.7s\n",
      "[CV] END ..........................C=2, gamma=10, kernel=rbf; total time=   4.0s\n",
      "[CV] END .........................C=2, gamma=10, kernel=poly; total time=   0.0s\n",
      "[CV] END .........................C=2, gamma=10, kernel=poly; total time=   0.2s\n",
      "[CV] END .........................C=2, gamma=10, kernel=poly; total time=   0.5s\n",
      "[CV] END .........................C=2, gamma=10, kernel=poly; total time=   0.8s\n",
      "[CV] END .........................C=2, gamma=10, kernel=poly; total time=   2.2s\n",
      "[CV] END ...........................C=5, gamma=2, kernel=rbf; total time=   0.0s\n",
      "[CV] END ...........................C=5, gamma=2, kernel=rbf; total time=   0.6s\n",
      "[CV] END ...........................C=5, gamma=2, kernel=rbf; total time=   1.4s\n",
      "[CV] END ...........................C=5, gamma=2, kernel=rbf; total time=   2.0s\n",
      "[CV] END ...........................C=5, gamma=2, kernel=rbf; total time=   4.3s\n",
      "[CV] END ..........................C=5, gamma=2, kernel=poly; total time=   0.0s\n",
      "[CV] END ..........................C=5, gamma=2, kernel=poly; total time=   0.3s\n",
      "[CV] END ..........................C=5, gamma=2, kernel=poly; total time=   0.7s\n",
      "[CV] END ..........................C=5, gamma=2, kernel=poly; total time=   1.1s\n",
      "[CV] END ..........................C=5, gamma=2, kernel=poly; total time=   2.7s\n",
      "[CV] END ...........................C=5, gamma=5, kernel=rbf; total time=   0.0s\n",
      "[CV] END ...........................C=5, gamma=5, kernel=rbf; total time=   0.4s\n",
      "[CV] END ...........................C=5, gamma=5, kernel=rbf; total time=   1.0s\n",
      "[CV] END ...........................C=5, gamma=5, kernel=rbf; total time=   1.5s\n",
      "[CV] END ...........................C=5, gamma=5, kernel=rbf; total time=   3.7s\n",
      "[CV] END ..........................C=5, gamma=5, kernel=poly; total time=   0.0s\n",
      "[CV] END ..........................C=5, gamma=5, kernel=poly; total time=   0.2s\n",
      "[CV] END ..........................C=5, gamma=5, kernel=poly; total time=   0.6s\n",
      "[CV] END ..........................C=5, gamma=5, kernel=poly; total time=   0.9s\n",
      "[CV] END ..........................C=5, gamma=5, kernel=poly; total time=   3.2s\n",
      "[CV] END ..........................C=5, gamma=10, kernel=rbf; total time=   0.0s\n",
      "[CV] END ..........................C=5, gamma=10, kernel=rbf; total time=   0.6s\n",
      "[CV] END ..........................C=5, gamma=10, kernel=rbf; total time=   1.7s\n",
      "[CV] END ..........................C=5, gamma=10, kernel=rbf; total time=   1.2s\n",
      "[CV] END ..........................C=5, gamma=10, kernel=rbf; total time=   3.2s\n",
      "[CV] END .........................C=5, gamma=10, kernel=poly; total time=   0.0s\n",
      "[CV] END .........................C=5, gamma=10, kernel=poly; total time=   0.2s\n",
      "[CV] END .........................C=5, gamma=10, kernel=poly; total time=   0.5s\n",
      "[CV] END .........................C=5, gamma=10, kernel=poly; total time=   0.8s\n",
      "[CV] END .........................C=5, gamma=10, kernel=poly; total time=   2.3s\n",
      "[CV] END ..........................C=10, gamma=2, kernel=rbf; total time=   0.0s\n",
      "[CV] END ..........................C=10, gamma=2, kernel=rbf; total time=   0.4s\n",
      "[CV] END ..........................C=10, gamma=2, kernel=rbf; total time=   1.1s\n",
      "[CV] END ..........................C=10, gamma=2, kernel=rbf; total time=   1.5s\n",
      "[CV] END ..........................C=10, gamma=2, kernel=rbf; total time=   3.5s\n",
      "[CV] END .........................C=10, gamma=2, kernel=poly; total time=   0.0s\n",
      "[CV] END .........................C=10, gamma=2, kernel=poly; total time=   0.3s\n",
      "[CV] END .........................C=10, gamma=2, kernel=poly; total time=   0.6s\n",
      "[CV] END .........................C=10, gamma=2, kernel=poly; total time=   0.8s\n",
      "[CV] END .........................C=10, gamma=2, kernel=poly; total time=   2.4s\n",
      "[CV] END ..........................C=10, gamma=5, kernel=rbf; total time=   0.0s\n",
      "[CV] END ..........................C=10, gamma=5, kernel=rbf; total time=   0.3s\n",
      "[CV] END ..........................C=10, gamma=5, kernel=rbf; total time=   0.7s\n",
      "[CV] END ..........................C=10, gamma=5, kernel=rbf; total time=   1.1s\n",
      "[CV] END ..........................C=10, gamma=5, kernel=rbf; total time=   3.0s\n",
      "[CV] END .........................C=10, gamma=5, kernel=poly; total time=   0.0s\n",
      "[CV] END .........................C=10, gamma=5, kernel=poly; total time=   0.3s\n",
      "[CV] END .........................C=10, gamma=5, kernel=poly; total time=   0.6s\n",
      "[CV] END .........................C=10, gamma=5, kernel=poly; total time=   0.9s\n",
      "[CV] END .........................C=10, gamma=5, kernel=poly; total time=   2.4s\n",
      "[CV] END .........................C=10, gamma=10, kernel=rbf; total time=   0.0s\n",
      "[CV] END .........................C=10, gamma=10, kernel=rbf; total time=   0.3s\n",
      "[CV] END .........................C=10, gamma=10, kernel=rbf; total time=   0.7s\n",
      "[CV] END .........................C=10, gamma=10, kernel=rbf; total time=   0.9s\n",
      "[CV] END .........................C=10, gamma=10, kernel=rbf; total time=   3.0s\n",
      "[CV] END ........................C=10, gamma=10, kernel=poly; total time=   0.0s\n",
      "[CV] END ........................C=10, gamma=10, kernel=poly; total time=   0.2s\n",
      "[CV] END ........................C=10, gamma=10, kernel=poly; total time=   0.5s\n",
      "[CV] END ........................C=10, gamma=10, kernel=poly; total time=   0.8s\n",
      "[CV] END ........................C=10, gamma=10, kernel=poly; total time=   2.2s\n"
     ]
    },
    {
     "name": "stderr",
     "output_type": "stream",
     "text": [
      "C:\\Users\\Abdus\\AppData\\Local\\Packages\\PythonSoftwareFoundation.Python.3.7_qbz5n2kfra8p0\\LocalCache\\local-packages\\Python37\\site-packages\\sklearn\\model_selection\\_validation.py:372: FitFailedWarning: \n",
      "18 fits failed out of a total of 90.\n",
      "The score on these train-test partitions for these parameters will be set to nan.\n",
      "If these failures are not expected, you can try to debug them by setting error_score='raise'.\n",
      "\n",
      "Below are more details about the failures:\n",
      "--------------------------------------------------------------------------------\n",
      "18 fits failed with the following error:\n",
      "Traceback (most recent call last):\n",
      "  File \"C:\\Users\\Abdus\\AppData\\Local\\Packages\\PythonSoftwareFoundation.Python.3.7_qbz5n2kfra8p0\\LocalCache\\local-packages\\Python37\\site-packages\\sklearn\\model_selection\\_validation.py\", line 680, in _fit_and_score\n",
      "    estimator.fit(X_train, y_train, **fit_params)\n",
      "  File \"C:\\Users\\Abdus\\AppData\\Local\\Packages\\PythonSoftwareFoundation.Python.3.7_qbz5n2kfra8p0\\LocalCache\\local-packages\\Python37\\site-packages\\sklearn\\svm\\_base.py\", line 199, in fit\n",
      "    y = self._validate_targets(y)\n",
      "  File \"C:\\Users\\Abdus\\AppData\\Local\\Packages\\PythonSoftwareFoundation.Python.3.7_qbz5n2kfra8p0\\LocalCache\\local-packages\\Python37\\site-packages\\sklearn\\svm\\_base.py\", line 722, in _validate_targets\n",
      "    % len(cls)\n",
      "ValueError: The number of classes has to be greater than one; got 1 class\n",
      "\n",
      "  warnings.warn(some_fits_failed_message, FitFailedWarning)\n",
      "C:\\Users\\Abdus\\AppData\\Local\\Packages\\PythonSoftwareFoundation.Python.3.7_qbz5n2kfra8p0\\LocalCache\\local-packages\\Python37\\site-packages\\sklearn\\model_selection\\_search.py:972: UserWarning: One or more of the test scores are non-finite: [nan nan nan nan nan nan nan nan nan nan nan nan nan nan nan nan nan nan]\n",
      "  category=UserWarning,\n"
     ]
    },
    {
     "data": {
      "text/plain": [
       "GridSearchCV(cv=TimeSeriesSplit(gap=0, max_train_size=None, n_splits=5, test_size=None),\n",
       "             estimator=SVC(random_state=1234),\n",
       "             param_grid={'C': [2, 5, 10], 'gamma': [2, 5, 10],\n",
       "                         'kernel': ['rbf', 'poly']},\n",
       "             verbose=2)"
      ]
     },
     "execution_count": 14,
     "metadata": {},
     "output_type": "execute_result"
    }
   ],
   "source": [
    "\n",
    "svc_param_grid = { \n",
    "    # Regularization parameter.\n",
    "    \"C\": [2, 5, 10],\n",
    "    # Kernel type\n",
    "    \"kernel\": ['rbf', 'poly'],\n",
    "    # Gamma is the Kernel coefficient for ‘rbf’, ‘poly’ and ‘sigmoid’.\n",
    "    \"gamma\": [ 2, 5, 10],\n",
    "    }\n",
    "\n",
    "svc = SVC(random_state=1234)\n",
    "svc_grid_search = GridSearchCV(estimator=svc, param_grid=svc_param_grid, cv=tscv, verbose=2)\n",
    "svc_grid_search.fit(X_time_train, y_time_train)"
   ]
  },
  {
   "cell_type": "code",
   "execution_count": 15,
   "metadata": {},
   "outputs": [
    {
     "data": {
      "text/plain": [
       "{'C': 2, 'gamma': 2, 'kernel': 'rbf'}"
      ]
     },
     "execution_count": 15,
     "metadata": {},
     "output_type": "execute_result"
    }
   ],
   "source": [
    "svc_grid_search.best_params_"
   ]
  },
  {
   "cell_type": "code",
   "execution_count": 16,
   "metadata": {},
   "outputs": [],
   "source": [
    "poly = make_pipeline(svc_grid_search.best_estimator_)\n",
    "poly.fit(X_time_train, y_time_train)\n",
    "poly_pred = poly.predict(X_time_test)"
   ]
  },
  {
   "cell_type": "code",
   "execution_count": 17,
   "metadata": {},
   "outputs": [
    {
     "name": "stdout",
     "output_type": "stream",
     "text": [
      "Classification report: \n",
      "              precision    recall  f1-score   support\n",
      "\n",
      "         0.0       0.86      0.90      0.88        40\n",
      "         1.0       0.96      1.00      0.98        50\n",
      "         2.0       0.94      0.85      0.89        40\n",
      "\n",
      "    accuracy                           0.92       130\n",
      "   macro avg       0.92      0.92      0.92       130\n",
      "weighted avg       0.92      0.92      0.92       130\n",
      "\n",
      "Accuracy:  0.9230769230769231\n"
     ]
    },
    {
     "data": {
      "image/png": "[encoded data removed]",
      "text/plain": [
       "<Figure size 640x480 with 2 Axes>"
      ]
     },
     "metadata": {},
     "output_type": "display_data"
    }
   ],
   "source": [
    "poly_result = confusion_matrix(y_time_test, poly_pred)\n",
    "poly_classification_rep = classification_report(y_time_test, poly_pred)\n",
    "print(\"Classification report: \")\n",
    "print(poly_classification_rep)\n",
    "poly_acc = accuracy_score(y_time_test,poly_pred)\n",
    "print(\"Accuracy: \", poly_acc)\n",
    "confusion_matrix_plot(poly_result, \"SVM\", 0)"
   ]
  },
  {
   "cell_type": "code",
   "execution_count": 18,
   "metadata": {},
   "outputs": [
    {
     "name": "stdout",
     "output_type": "stream",
     "text": [
      "Classification report: \n",
      "              precision    recall  f1-score   support\n",
      "\n",
      "         0.0       0.68      0.82      0.74        33\n",
      "         1.0       0.96      0.98      0.97        53\n",
      "         2.0       0.89      0.73      0.80        44\n",
      "\n",
      "    accuracy                           0.85       130\n",
      "   macro avg       0.84      0.84      0.84       130\n",
      "weighted avg       0.86      0.85      0.85       130\n",
      "\n"
     ]
    },
    {
     "data": {
      "image/png": "[encoded data removed]",
      "text/plain": [
       "<Figure size 640x480 with 2 Axes>"
      ]
     },
     "metadata": {},
     "output_type": "display_data"
    }
   ],
   "source": [
    "X_train, X_test, y_train, y_test = train_test_split(X, Y, train_size=train_split, random_state=1234)\n",
    "\n",
    "rfc_rand = make_pipeline(rfc_grid_search.best_estimator_)\n",
    "rfc_rand.fit(X_train, y_train)\n",
    "y_pred = rfc_rand.predict(X_test)\n",
    "rfc_result = confusion_matrix(y_test, y_pred)\n",
    "rfc_result1 = classification_report(y_test, y_pred)\n",
    "print(\"Classification report: \")\n",
    "print(rfc_result1)\n",
    "rfc_acc = accuracy_score(y_test,y_pred)\n",
    "\n",
    "\n",
    "confusion_matrix_plot(rfc_result, \"Random Forest\", 0)"
   ]
  },
  {
   "cell_type": "code",
   "execution_count": 19,
   "metadata": {},
   "outputs": [
    {
     "ename": "NameError",
     "evalue": "name 'knn_grid_search' is not defined",
     "output_type": "error",
     "traceback": [
      "\u001b[1;31m---------------------------------------------------------------------------\u001b[0m",
      "\u001b[1;31mNameError\u001b[0m                                 Traceback (most recent call last)",
      "\u001b[1;32m~\\AppData\\Local\\Temp\\ipykernel_9212\\1399772401.py\u001b[0m in \u001b[0;36m<module>\u001b[1;34m\u001b[0m\n\u001b[1;32m----> 1\u001b[1;33m \u001b[0mknn\u001b[0m \u001b[1;33m=\u001b[0m \u001b[0mmake_pipeline\u001b[0m\u001b[1;33m(\u001b[0m\u001b[0mStandardScaler\u001b[0m\u001b[1;33m(\u001b[0m\u001b[1;33m)\u001b[0m\u001b[1;33m,\u001b[0m\u001b[0mknn_grid_search\u001b[0m\u001b[1;33m.\u001b[0m\u001b[0mbest_estimator_\u001b[0m\u001b[1;33m)\u001b[0m\u001b[1;33m\u001b[0m\u001b[1;33m\u001b[0m\u001b[0m\n\u001b[0m\u001b[0;32m      2\u001b[0m \u001b[0mknn\u001b[0m\u001b[1;33m.\u001b[0m\u001b[0mfit\u001b[0m\u001b[1;33m(\u001b[0m\u001b[0mX_train\u001b[0m\u001b[1;33m,\u001b[0m \u001b[0my_train\u001b[0m\u001b[1;33m)\u001b[0m\u001b[1;33m\u001b[0m\u001b[1;33m\u001b[0m\u001b[0m\n\u001b[0;32m      3\u001b[0m \u001b[0my_pred\u001b[0m \u001b[1;33m=\u001b[0m \u001b[0mknn\u001b[0m\u001b[1;33m.\u001b[0m\u001b[0mpredict\u001b[0m\u001b[1;33m(\u001b[0m\u001b[0mX_test\u001b[0m\u001b[1;33m)\u001b[0m\u001b[1;33m\u001b[0m\u001b[1;33m\u001b[0m\u001b[0m\n\u001b[0;32m      4\u001b[0m \u001b[0mknn_result\u001b[0m \u001b[1;33m=\u001b[0m \u001b[0mconfusion_matrix\u001b[0m\u001b[1;33m(\u001b[0m\u001b[0my_test\u001b[0m\u001b[1;33m,\u001b[0m \u001b[0my_pred\u001b[0m\u001b[1;33m)\u001b[0m\u001b[1;33m\u001b[0m\u001b[1;33m\u001b[0m\u001b[0m\n\u001b[0;32m      5\u001b[0m \u001b[0mprint\u001b[0m\u001b[1;33m(\u001b[0m\u001b[1;34m\"Confusion Matrix: \"\u001b[0m\u001b[1;33m)\u001b[0m\u001b[1;33m\u001b[0m\u001b[1;33m\u001b[0m\u001b[0m\n",
      "\u001b[1;31mNameError\u001b[0m: name 'knn_grid_search' is not defined"
     ]
    }
   ],
   "source": [
    "knn = make_pipeline(StandardScaler(),knn_grid_search.best_estimator_)\n",
    "knn.fit(X_train, y_train)\n",
    "y_pred = knn.predict(X_test)\n",
    "knn_result = confusion_matrix(y_test, y_pred)\n",
    "print(\"Confusion Matrix: \")\n",
    "print(knn_result)\n",
    "knn_class_report = classification_report(y_test, y_pred)\n",
    "print(\"Classification report: \")\n",
    "print(knn_class_report)\n",
    "knn_acc = accuracy_score(y_test,y_pred)\n",
    "print(\"Accuracy: \",knn_acc)\n",
    "\n",
    "confusion_matrix_plot(knn_result, \"KNN\", 0)"
   ]
  },
  {
   "cell_type": "code",
   "execution_count": null,
   "metadata": {},
   "outputs": [
    {
     "name": "stdout",
     "output_type": "stream",
     "text": [
      "Confusion Matrix: \n",
      "[[25  6  2]\n",
      " [ 0 53  0]\n",
      " [19  1 24]]\n",
      "Classification report: \n",
      "              precision    recall  f1-score   support\n",
      "\n",
      "         0.0       0.57      0.76      0.65        33\n",
      "         1.0       0.88      1.00      0.94        53\n",
      "         2.0       0.92      0.55      0.69        44\n",
      "\n",
      "    accuracy                           0.78       130\n",
      "   macro avg       0.79      0.77      0.76       130\n",
      "weighted avg       0.82      0.78      0.78       130\n",
      "\n",
      "Accuracy:  0.7846153846153846\n"
     ]
    }
   ],
   "source": [
    "poly = SVC(C=svc_grid_search.best_params_['C'], gamma=svc_grid_search.best_params_['gamma'],kernel=svc_grid_search.best_params_['kernel'])\n",
    "poly.fit(X_train, y_train)\n",
    "y_pred = poly.predict(X_test)\n",
    "poly_result = confusion_matrix(y_test, y_pred)\n",
    "print(\"Confusion Matrix: \")\n",
    "print(poly_result)\n",
    "poly_class_report = classification_report(y_test, y_pred)\n",
    "print(\"Classification report: \")\n",
    "print(poly_class_report)\n",
    "poly_acc = accuracy_score(y_test,y_pred)\n",
    "print(\"Accuracy: \",poly_acc)"
   ]
  },
  {
   "cell_type": "code",
   "execution_count": null,
   "metadata": {},
   "outputs": [
    {
     "data": {
      "image/png": "[encoded data removed]",
      "text/plain": [
       "<Figure size 640x480 with 2 Axes>"
      ]
     },
     "metadata": {},
     "output_type": "display_data"
    }
   ],
   "source": [
    "confusion_matrix_plot(poly_result, \"SVM\", 0)"
   ]
  },
  {
   "cell_type": "code",
   "execution_count": null,
   "metadata": {},
   "outputs": [],
   "source": [
    "from keras import models, layers, initializers, utils, callbacks\n",
    "import tensorflow as tf"
   ]
  },
  {
   "cell_type": "code",
   "execution_count": null,
   "metadata": {},
   "outputs": [
    {
     "data": {
      "text/plain": [
       "(520, 3)"
      ]
     },
     "execution_count": 10,
     "metadata": {},
     "output_type": "execute_result"
    }
   ],
   "source": [
    "train_labels = utils.to_categorical(y_time_train)\n",
    "train_labels.shape"
   ]
  },
  {
   "cell_type": "code",
   "execution_count": null,
   "metadata": {},
   "outputs": [
    {
     "name": "stdout",
     "output_type": "stream",
     "text": [
      "Model: \"sequential\"\n",
      "_________________________________________________________________\n",
      " Layer (type)                Output Shape              Param #   \n",
      "=================================================================\n",
      " conv1d (Conv1D)             (None, 3331, 16)          176       \n",
      "                                                                 \n",
      " max_pooling1d (MaxPooling1D  (None, 1110, 16)         0         \n",
      " )                                                               \n",
      "                                                                 \n",
      " conv1d_1 (Conv1D)           (None, 553, 16)           1296      \n",
      "                                                                 \n",
      " max_pooling1d_1 (MaxPooling  (None, 276, 16)          0         \n",
      " 1D)                                                             \n",
      "                                                                 \n",
      " flatten (Flatten)           (None, 4416)              0         \n",
      "                                                                 \n",
      " dense (Dense)               (None, 256)               1130752   \n",
      "                                                                 \n",
      " dense_1 (Dense)             (None, 64)                16448     \n",
      "                                                                 \n",
      " dropout (Dropout)           (None, 64)                0         \n",
      "                                                                 \n",
      " dense_2 (Dense)             (None, 3)                 195       \n",
      "                                                                 \n",
      "=================================================================\n",
      "Total params: 1,148,867\n",
      "Trainable params: 1,148,867\n",
      "Non-trainable params: 0\n",
      "_________________________________________________________________\n"
     ]
    }
   ],
   "source": [
    "model = models.Sequential(\n",
    "    [\n",
    "        layers.Input(shape=(X_time_train.shape[1],1)),\n",
    "        layers.Conv1D(16, 10, strides=3, activation='relu'),\n",
    "        layers.MaxPool1D(pool_size=3, strides=3),\n",
    "        layers.Conv1D(16, 5, strides=2, activation='relu'),\n",
    "        layers.MaxPool1D(pool_size=2, strides=2),\n",
    "        #layers.SpatialDropout1D(0.6),\n",
    "        layers.Flatten(),\n",
    "        layers.Dense(256, activation='linear'),\n",
    "        layers.Dense(64, activation='linear'),\n",
    "        layers.Dropout(0.6),\n",
    "        layers.Dense(3, activation=\"softmax\")\n",
    "    ]\n",
    ")\n",
    "\n",
    "model.summary()"
   ]
  },
  {
   "cell_type": "code",
   "execution_count": null,
   "metadata": {},
   "outputs": [
    {
     "name": "stdout",
     "output_type": "stream",
     "text": [
      "Epoch 1/100\n",
      "8/8 [==============================] - 4s 212ms/step - loss: 1.0967 - accuracy: 0.4231 - val_loss: 1.3138 - val_accuracy: 0.0000e+00\n",
      "Epoch 2/100\n",
      "8/8 [==============================] - 1s 157ms/step - loss: 1.0851 - accuracy: 0.3846 - val_loss: 1.3104 - val_accuracy: 0.0000e+00\n",
      "Epoch 3/100\n",
      "8/8 [==============================] - 1s 155ms/step - loss: 1.0733 - accuracy: 0.4145 - val_loss: 1.4002 - val_accuracy: 0.0000e+00\n",
      "Epoch 4/100\n",
      "8/8 [==============================] - 1s 114ms/step - loss: 1.0537 - accuracy: 0.4444 - val_loss: 1.4551 - val_accuracy: 0.0000e+00\n",
      "Epoch 5/100\n",
      "8/8 [==============================] - 1s 122ms/step - loss: 1.0361 - accuracy: 0.4466 - val_loss: 1.1241 - val_accuracy: 0.0769\n",
      "Epoch 6/100\n",
      "8/8 [==============================] - 1s 109ms/step - loss: 0.9661 - accuracy: 0.5833 - val_loss: 1.0634 - val_accuracy: 0.3462\n",
      "Epoch 7/100\n",
      "8/8 [==============================] - 1s 112ms/step - loss: 0.8715 - accuracy: 0.6496 - val_loss: 1.4561 - val_accuracy: 0.1346\n",
      "Epoch 8/100\n",
      "8/8 [==============================] - 1s 112ms/step - loss: 0.7798 - accuracy: 0.6111 - val_loss: 1.6768 - val_accuracy: 0.1154\n",
      "Epoch 9/100\n",
      "8/8 [==============================] - 1s 114ms/step - loss: 0.7281 - accuracy: 0.6838 - val_loss: 1.1002 - val_accuracy: 0.3846\n",
      "Epoch 10/100\n",
      "8/8 [==============================] - 1s 107ms/step - loss: 0.6561 - accuracy: 0.7094 - val_loss: 0.6364 - val_accuracy: 0.7308\n",
      "Epoch 11/100\n",
      "8/8 [==============================] - 1s 142ms/step - loss: 0.5659 - accuracy: 0.7692 - val_loss: 0.3563 - val_accuracy: 0.8077\n",
      "Epoch 12/100\n",
      "8/8 [==============================] - 1s 151ms/step - loss: 0.5640 - accuracy: 0.7436 - val_loss: 0.9328 - val_accuracy: 0.5577\n",
      "Epoch 13/100\n",
      "8/8 [==============================] - 1s 126ms/step - loss: 0.4850 - accuracy: 0.8205 - val_loss: 0.6577 - val_accuracy: 0.6731\n",
      "Epoch 14/100\n",
      "8/8 [==============================] - 1s 119ms/step - loss: 0.3950 - accuracy: 0.8675 - val_loss: 0.2725 - val_accuracy: 0.8654\n",
      "Epoch 15/100\n",
      "8/8 [==============================] - 1s 147ms/step - loss: 0.3999 - accuracy: 0.8397 - val_loss: 0.3194 - val_accuracy: 0.7885\n",
      "Epoch 16/100\n",
      "8/8 [==============================] - 1s 158ms/step - loss: 0.3371 - accuracy: 0.8889 - val_loss: 0.6534 - val_accuracy: 0.6923\n",
      "Epoch 17/100\n",
      "8/8 [==============================] - 1s 144ms/step - loss: 0.2876 - accuracy: 0.9060 - val_loss: 0.4930 - val_accuracy: 0.7885\n",
      "Epoch 18/100\n",
      "8/8 [==============================] - 1s 151ms/step - loss: 0.2673 - accuracy: 0.9209 - val_loss: 0.5667 - val_accuracy: 0.7500\n",
      "Epoch 19/100\n",
      "8/8 [==============================] - 1s 144ms/step - loss: 0.2302 - accuracy: 0.9380 - val_loss: 0.3999 - val_accuracy: 0.7885\n",
      "Epoch 20/100\n",
      "8/8 [==============================] - 1s 141ms/step - loss: 0.2011 - accuracy: 0.9402 - val_loss: 1.1018 - val_accuracy: 0.5577\n",
      "Epoch 21/100\n",
      "8/8 [==============================] - 1s 136ms/step - loss: 0.3034 - accuracy: 0.8825 - val_loss: 0.5957 - val_accuracy: 0.7308\n",
      "Epoch 22/100\n",
      "8/8 [==============================] - 1s 164ms/step - loss: 0.2360 - accuracy: 0.9209 - val_loss: 0.2957 - val_accuracy: 0.8077\n",
      "Epoch 23/100\n",
      "8/8 [==============================] - 1s 142ms/step - loss: 0.2034 - accuracy: 0.9295 - val_loss: 0.7775 - val_accuracy: 0.6923\n",
      "Epoch 24/100\n",
      "8/8 [==============================] - 1s 121ms/step - loss: 0.1993 - accuracy: 0.9402 - val_loss: 0.4971 - val_accuracy: 0.7885\n",
      "Epoch 25/100\n",
      "8/8 [==============================] - 1s 109ms/step - loss: 0.2116 - accuracy: 0.9231 - val_loss: 1.1422 - val_accuracy: 0.5385\n",
      "Epoch 26/100\n",
      "8/8 [==============================] - 1s 126ms/step - loss: 0.2560 - accuracy: 0.8974 - val_loss: 0.1233 - val_accuracy: 0.9615\n",
      "Epoch 27/100\n",
      "8/8 [==============================] - 1s 117ms/step - loss: 0.3225 - accuracy: 0.8419 - val_loss: 0.5263 - val_accuracy: 0.7885\n",
      "Epoch 28/100\n",
      "8/8 [==============================] - 1s 109ms/step - loss: 0.2136 - accuracy: 0.9209 - val_loss: 0.7106 - val_accuracy: 0.6923\n",
      "Epoch 29/100\n",
      "8/8 [==============================] - 1s 113ms/step - loss: 0.1949 - accuracy: 0.9295 - val_loss: 0.4566 - val_accuracy: 0.7885\n",
      "Epoch 30/100\n",
      "8/8 [==============================] - 1s 115ms/step - loss: 0.1638 - accuracy: 0.9530 - val_loss: 0.3206 - val_accuracy: 0.7885\n",
      "Epoch 31/100\n",
      "8/8 [==============================] - 1s 113ms/step - loss: 0.1713 - accuracy: 0.9509 - val_loss: 0.4001 - val_accuracy: 0.7885\n",
      "Epoch 32/100\n",
      "8/8 [==============================] - 1s 112ms/step - loss: 0.1802 - accuracy: 0.9274 - val_loss: 0.4435 - val_accuracy: 0.7885\n",
      "Epoch 33/100\n",
      "8/8 [==============================] - 1s 132ms/step - loss: 0.1767 - accuracy: 0.9380 - val_loss: 0.9660 - val_accuracy: 0.6154\n",
      "Epoch 34/100\n",
      "8/8 [==============================] - 1s 158ms/step - loss: 0.1949 - accuracy: 0.9338 - val_loss: 0.3990 - val_accuracy: 0.7885\n",
      "Epoch 35/100\n",
      "8/8 [==============================] - 1s 145ms/step - loss: 0.1804 - accuracy: 0.9316 - val_loss: 0.3046 - val_accuracy: 0.8077\n",
      "Epoch 36/100\n",
      "8/8 [==============================] - 1s 119ms/step - loss: 0.1475 - accuracy: 0.9444 - val_loss: 0.4628 - val_accuracy: 0.7885\n",
      "Epoch 37/100\n",
      "8/8 [==============================] - 1s 105ms/step - loss: 0.1356 - accuracy: 0.9487 - val_loss: 0.5116 - val_accuracy: 0.7885\n",
      "Epoch 38/100\n",
      "8/8 [==============================] - 1s 117ms/step - loss: 0.1610 - accuracy: 0.9402 - val_loss: 0.5419 - val_accuracy: 0.7885\n",
      "Epoch 39/100\n",
      "8/8 [==============================] - 1s 112ms/step - loss: 0.1528 - accuracy: 0.9487 - val_loss: 0.4558 - val_accuracy: 0.7885\n",
      "Epoch 40/100\n",
      "8/8 [==============================] - 1s 105ms/step - loss: 0.1516 - accuracy: 0.9423 - val_loss: 0.4127 - val_accuracy: 0.8077\n",
      "Epoch 41/100\n",
      "8/8 [==============================] - 1s 107ms/step - loss: 0.1527 - accuracy: 0.9423 - val_loss: 0.2510 - val_accuracy: 0.8846\n",
      "Epoch 42/100\n",
      "8/8 [==============================] - 1s 105ms/step - loss: 0.2142 - accuracy: 0.9316 - val_loss: 0.6172 - val_accuracy: 0.7308\n",
      "Epoch 43/100\n",
      "8/8 [==============================] - 1s 112ms/step - loss: 0.2373 - accuracy: 0.8996 - val_loss: 1.0495 - val_accuracy: 0.5385\n",
      "Epoch 44/100\n",
      "8/8 [==============================] - 1s 138ms/step - loss: 0.2767 - accuracy: 0.8953 - val_loss: 0.2262 - val_accuracy: 0.8846\n",
      "Epoch 45/100\n",
      "8/8 [==============================] - 1s 113ms/step - loss: 0.2135 - accuracy: 0.9124 - val_loss: 0.1250 - val_accuracy: 0.9423\n",
      "Epoch 46/100\n",
      "8/8 [==============================] - 1s 120ms/step - loss: 0.2371 - accuracy: 0.9081 - val_loss: 0.2946 - val_accuracy: 0.8462\n"
     ]
    }
   ],
   "source": [
    "es = callbacks.EarlyStopping(monitor='val_accuracy', patience=20)\n",
    "model.compile(loss=\"categorical_crossentropy\", \n",
    "              optimizer=\"adam\", \n",
    "              metrics=[\"accuracy\"])\n",
    "\n",
    "history = model.fit(X_time_train, train_labels,\n",
    "                    batch_size=64, \n",
    "                    epochs=100, \n",
    "                    validation_split=0.1,\n",
    "                    callbacks=[es])"
   ]
  },
  {
   "cell_type": "code",
   "execution_count": null,
   "metadata": {},
   "outputs": [],
   "source": [
    "test_labels  = utils.to_categorical(y_time_test)"
   ]
  },
  {
   "cell_type": "code",
   "execution_count": null,
   "metadata": {},
   "outputs": [
    {
     "name": "stdout",
     "output_type": "stream",
     "text": [
      "3/3 [==============================] - 0s 48ms/step - loss: 0.1282 - accuracy: 0.9615\n"
     ]
    },
    {
     "data": {
      "text/plain": [
       "(0.1281743049621582, 0.9615384340286255)"
      ]
     },
     "execution_count": 14,
     "metadata": {},
     "output_type": "execute_result"
    }
   ],
   "source": [
    "loss, acc = model.evaluate(X_time_test, test_labels, batch_size=64)\n",
    "loss,acc"
   ]
  },
  {
   "cell_type": "code",
   "execution_count": null,
   "metadata": {},
   "outputs": [
    {
     "name": "stdout",
     "output_type": "stream",
     "text": [
      "5/5 [==============================] - 0s 19ms/step\n"
     ]
    }
   ],
   "source": [
    "y_pred = np.argmax(model.predict(X_time_test), axis=1)"
   ]
  },
  {
   "cell_type": "code",
   "execution_count": null,
   "metadata": {},
   "outputs": [],
   "source": [
    "cnn_cm = confusion_matrix(y_time_test, y_pred)"
   ]
  },
  {
   "cell_type": "code",
   "execution_count": null,
   "metadata": {},
   "outputs": [
    {
     "data": {
      "image/png": "[encoded data removed]",
      "text/plain": [
       "<Figure size 640x480 with 2 Axes>"
      ]
     },
     "metadata": {},
     "output_type": "display_data"
    }
   ],
   "source": [
    "confusion_matrix_plot(cnn_cm, \"CNN\", 0)"
   ]
  },
  {
   "cell_type": "code",
   "execution_count": null,
   "metadata": {},
   "outputs": [
    {
     "name": "stdout",
     "output_type": "stream",
     "text": [
      "              precision    recall  f1-score   support\n",
      "\n",
      "         0.0       0.95      0.93      0.94        40\n",
      "         1.0       1.00      1.00      1.00        50\n",
      "         2.0       0.93      0.95      0.94        40\n",
      "\n",
      "    accuracy                           0.96       130\n",
      "   macro avg       0.96      0.96      0.96       130\n",
      "weighted avg       0.96      0.96      0.96       130\n",
      "\n"
     ]
    }
   ],
   "source": [
    "cnn_class_report = classification_report(y_time_test, y_pred)\n",
    "print(cnn_class_report)"
   ]
  }
 ],
 "metadata": {
  "kernelspec": {
   "display_name": "Python 3",
   "language": "python",
   "name": "python3"
  },
  "language_info": {
   "codemirror_mode": {
    "name": "ipython",
    "version": 3
   },
   "file_extension": ".py",
   "mimetype": "text/x-python",
   "name": "python",
   "nbconvert_exporter": "python",
   "pygments_lexer": "ipython3",
   "version": "3.7.9"
  },
  "orig_nbformat": 4,
  "vscode": {
   "interpreter": {
    "hash": "9f79606e34b3657ca7e79b69d16ce71d6cda752753ffec416cd0e9c51f24d40b"
   }
  }
 },
 "nbformat": 4,
 "nbformat_minor": 2
}
